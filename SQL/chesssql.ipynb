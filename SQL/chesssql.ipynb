{
 "cells": [
  {
   "cell_type": "code",
   "execution_count": 2,
   "metadata": {},
   "outputs": [],
   "source": [
    "%defaultDatasource jdbc:h2:mem:db"
   ]
  },
  {
   "cell_type": "markdown",
   "metadata": {},
   "source": [
    "# Criação da Tabela de Players"
   ]
  },
  {
   "cell_type": "code",
   "execution_count": 5,
   "metadata": {},
   "outputs": [],
   "source": [
    "DROP Table IF EXISTS Players;\n",
    "\n",
    "CREATE TABLE Players (\n",
    "    Username VARCHAR(25) NOT NULL,\n",
    "    Title VARCHAR(3),\n",
    "    Bullet INTEGER,\n",
    "    Blitz INTEGER,\n",
    "    Rapid INTEGER,\n",
    "    SiteName VARCHAR(10) NOT NULL,\n",
    "    PRIMARY KEY(Username, SiteName)\n",
    ") AS SELECT\n",
    "    username,\n",
    "    title,\n",
    "    bullet_rating,\n",
    "    blitz_rating,\n",
    "    rapid_rating,\n",
    "    site_name\n",
    "    FROM CSVREAD('../conjunto/all_player_list.csv')"
   ]
  },
  {
   "cell_type": "code",
   "execution_count": 7,
   "metadata": {},
   "outputs": [
    {
     "data": {
      "application/vnd.jupyter.widget-view+json": {
       "model_id": "836b55a1-88d5-4377-9dbb-7ed9b2eb1af2",
       "version_major": 2,
       "version_minor": 0
      },
      "text/plain": []
     },
     "metadata": {},
     "output_type": "display_data"
    }
   ],
   "source": [
    "SELECT * FROM Players"
   ]
  },
  {
   "cell_type": "markdown",
   "metadata": {},
   "source": [
    "# Criação da Tabela de Jogos"
   ]
  },
  {
   "cell_type": "code",
   "execution_count": null,
   "metadata": {},
   "outputs": [],
   "source": [
    "DROP Table IF EXISTS Games;\n",
    "\n",
    "CREATE TABLE Games (\n",
    "    Id VARCHAR(40) NOT NULL,\n",
    "    Ranked BOOLEAN NOT NULL,\n",
    "    Time_control VARCHAR(10) NOT NULL,\n",
    "    Result VARCHAR(15) NOT NULL,\n",
    "    Winner VARCHAR(25),\n",
    "    White VARCHAR(25) NOT NULL,\n",
    "    Black VARCHAR(25) NOT NULL,\n",
    "    Moves VARCHAR(9999) NOT NULL,\n",
    "    Openings VARCHAR(95),\n",
    "    PRIMARY KEY(Id),\n",
    "    FOREIGN KEY(Winner)\n",
    "        REFERENCES Players(Username)\n",
    "        ON DELETE NO ACTION\n",
    "        ON UPDATE NO ACTION,\n",
    "    FOREIGN KEY(White)\n",
    "        REFERENCES Players(Username)\n",
    "        ON DELETE NO ACTION\n",
    "        ON UPDATE NO ACTION,\n",
    "    FOREIGN KEY(Black)\n",
    "        REFERENCES Players(Username)\n",
    "        ON DELETE NO ACTION\n",
    "        ON UPDATE NO ACTION,\n",
    "    FOREIGN KEY(Openings)\n",
    "        REFERENCES Openings(Opening)\n",
    "        ON DELETE NO ACTION\n",
    "        ON UPDATE NO ACTION,\n",
    ") AS SELECT\n",
    "    id,\n",
    "    ranked,\n",
    "    time_control,\n",
    "    'status',\n",
    "    winner,\n",
    "    white,\n",
    "    black,\n",
    "    moves,\n",
    "    opening\n",
    "    FROM CSVREAD()"
   ]
  },
  {
   "cell_type": "markdown",
   "metadata": {},
   "source": [
    "# Criação da Tabela de Openings"
   ]
  },
  {
   "cell_type": "code",
   "execution_count": 4,
   "metadata": {},
   "outputs": [
    {
     "ename": "org.h2.jdbc.JdbcSQLException",
     "evalue": " Unique index or primary key violation",
     "output_type": "error",
     "traceback": [
      "\u001b[1;31morg.h2.jdbc.JdbcSQLException: Unique index or primary key violation: \"PRIMARY_KEY_1 ON PUBLIC.OPENINGS(OPENING) VALUES ('Kadas Opening: Kadas Gambit', 63)\"; SQL statement:\u001b[0;0m",
      "\u001b[1;31mCREATE TABLE Openings (\u001b[0;0m",
      "\u001b[1;31mEco VARCHAR(3),\u001b[0;0m",
      "\u001b[1;31mOpening VARCHAR(95),\u001b[0;0m",
      "\u001b[1;31mPgn VARCHAR(210),\u001b[0;0m",
      "\u001b[1;31mPRIMARY KEY (Opening)\u001b[0;0m",
      "\u001b[1;31m) AS SELECT\u001b[0;0m",
      "\u001b[1;31meco,\u001b[0;0m",
      "\u001b[1;31mname,\u001b[0;0m",
      "\u001b[1;31mpgn\u001b[0;0m",
      "\u001b[1;31mFROM CSVREAD('../openings/openings.csv') [23505-197]\u001b[0;0m"
     ]
    }
   ],
   "source": [
    "DROP Table IF EXISTS Openings;\n",
    "\n",
    "CREATE TABLE Openings (\n",
    "    Eco VARCHAR(3),\n",
    "    Opening VARCHAR(95),\n",
    "    Pgn VARCHAR(210),\n",
    "    PRIMARY KEY (Opening, Pgn)\n",
    ") AS SELECT\n",
    "    eco,\n",
    "    name,\n",
    "    pgn\n",
    "    FROM CSVREAD('../openings/openings.csv')"
   ]
  }
 ],
 "metadata": {
  "kernelspec": {
   "display_name": "SQL",
   "language": "SQL",
   "name": "python395jvsc74a57bd033c65ec6b038a144e75867a195871cfb83022092cf8bef49097819ac44900014"
  },
  "language_info": {
   "codemirror_mode": "sql",
   "file_extension": ".sql",
   "mimetype": "",
   "name": "SQL",
   "nbconverter_exporter": "",
   "version": ""
  },
  "orig_nbformat": 4
 },
 "nbformat": 4,
 "nbformat_minor": 2
}
