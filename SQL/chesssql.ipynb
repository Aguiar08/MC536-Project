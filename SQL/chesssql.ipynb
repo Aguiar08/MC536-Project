{
 "cells": [
  {
   "cell_type": "code",
   "execution_count": 1,
   "metadata": {},
   "outputs": [],
   "source": [
    "%defaultDatasource jdbc:h2:mem:db"
   ]
  },
  {
   "cell_type": "markdown",
   "metadata": {},
   "source": [
    "# Criação da Tabela de Players"
   ]
  },
  {
   "cell_type": "code",
   "execution_count": null,
   "metadata": {},
   "outputs": [],
   "source": [
    "DROP Table IF EXISTS Players;\n",
    "\n",
    "CREATE TABLE Players (\n",
    "    Username VARCHAR(25) NOT NULL,\n",
    "    Title VARCHAR(3),\n",
    "    Bullet INTEGER,\n",
    "    Blitz INTEGER,\n",
    "    Rapid INTEGER,\n",
    "    SiteName VARCHAR(10) NOT NULL,\n",
    "    PRIMARY KEY(Username)\n",
    ") AS SELECT\n",
    "    username,\n",
    "    title,\n",
    "    bullet_rating,\n",
    "    blitz_rating,\n",
    "    rapid_rating,\n",
    "    site_name\n",
    "    FROM CSVREAD()"
   ]
  },
  {
   "cell_type": "markdown",
   "metadata": {},
   "source": [
    "# Criação da Tabela de Jogos"
   ]
  },
  {
   "cell_type": "code",
   "execution_count": null,
   "metadata": {},
   "outputs": [],
   "source": [
    "DROP Table IF EXISTS Games;\n",
    "\n",
    "CREATE TABLE Games (\n",
    "    Id VARCHAR(40) NOT NULL,\n",
    "    Ranked BOOLEAN NOT NULL,\n",
    "    Time_control VARCHAR(10) NOT NULL,\n",
    "    Result VARCHAR(15) NOT NULL,\n",
    "    Winner VARCHAR(25),\n",
    "    White VARCHAR(25) NOT NULL,\n",
    "    Black VARCHAR(25) NOT NULL,\n",
    "    Moves VARCHAR(9999) NOT NULL,\n",
    "    PRIMARY KEY(Id),\n",
    "    FOREIGN KEY(Winner)\n",
    "        REFERENCES Players(Username)\n",
    "        ON DELETE NO ACTION\n",
    "        ON UPDATE NO ACTION,\n",
    "    FOREIGN KEY(White)\n",
    "        REFERENCES Players(Username)\n",
    "        ON DELETE NO ACTION\n",
    "        ON UPDATE NO ACTION,\n",
    "    FOREIGN KEY(Black)\n",
    "        REFERENCES Players(Username)\n",
    "        ON DELETE NO ACTION\n",
    "        ON UPDATE NO ACTION,\n",
    ") AS SELECT\n",
    "    id,\n",
    "    ranked,\n",
    "    time_control,\n",
    "    'status',\n",
    "    winner,\n",
    "    white,\n",
    "    black,\n",
    "    moves\n",
    "    FROM CSVREAD()"
   ]
  },
  {
   "cell_type": "markdown",
   "metadata": {},
   "source": [
    "# Criação da Tabela de Openings"
   ]
  },
  {
   "cell_type": "code",
   "execution_count": null,
   "metadata": {},
   "outputs": [],
   "source": [
    "DROP Table IF EXISTS Openings;\n",
    "\n",
    "CREATE TABLE Openings (\n",
    "    Eco VARCHAR(3),\n",
    "    Opening VARCHAR(95),\n",
    "    Pgn VARCHAR(210),\n",
    "    PRIMARY KEY (Opening)\n",
    ") AS SELECT\n",
    "    eco,\n",
    "    name,\n",
    "    pgn\n",
    "    FROM CSVREAD()"
   ]
  }
 ],
 "metadata": {
  "kernelspec": {
   "display_name": "SQL",
   "language": "SQL",
   "name": "python395jvsc74a57bd033c65ec6b038a144e75867a195871cfb83022092cf8bef49097819ac44900014"
  },
  "language_info": {
   "codemirror_mode": "sql",
   "file_extension": ".sql",
   "mimetype": "",
   "name": "SQL",
   "nbconverter_exporter": "",
   "version": ""
  },
  "orig_nbformat": 4
 },
 "nbformat": 4,
 "nbformat_minor": 2
}
