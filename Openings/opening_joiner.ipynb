{
 "cells": [
  {
   "cell_type": "code",
   "execution_count": 2,
   "metadata": {},
   "outputs": [],
   "source": [
    "import numpy as np\n",
    "import pandas as pd"
   ]
  },
  {
   "cell_type": "code",
   "execution_count": 5,
   "metadata": {},
   "outputs": [],
   "source": [
    "a = pd.read_csv('a.tsv', sep='\\t')\n",
    "b = pd.read_csv('b.tsv', sep='\\t')\n",
    "c = pd.read_csv('c.tsv', sep='\\t')\n",
    "d = pd.read_csv('d.tsv', sep='\\t')\n",
    "e = pd.read_csv('e.tsv', sep='\\t')"
   ]
  },
  {
   "cell_type": "code",
   "execution_count": 6,
   "metadata": {},
   "outputs": [],
   "source": [
    "openings = pd.concat([a,b,c,d,e])"
   ]
  },
  {
   "cell_type": "code",
   "execution_count": 8,
   "metadata": {},
   "outputs": [
    {
     "data": {
      "text/html": [
       "<div>\n",
       "<style scoped>\n",
       "    .dataframe tbody tr th:only-of-type {\n",
       "        vertical-align: middle;\n",
       "    }\n",
       "\n",
       "    .dataframe tbody tr th {\n",
       "        vertical-align: top;\n",
       "    }\n",
       "\n",
       "    .dataframe thead th {\n",
       "        text-align: right;\n",
       "    }\n",
       "</style>\n",
       "<table border=\"1\" class=\"dataframe\">\n",
       "  <thead>\n",
       "    <tr style=\"text-align: right;\">\n",
       "      <th></th>\n",
       "      <th>eco</th>\n",
       "      <th>name</th>\n",
       "      <th>pgn</th>\n",
       "    </tr>\n",
       "  </thead>\n",
       "  <tbody>\n",
       "    <tr>\n",
       "      <th>0</th>\n",
       "      <td>A00</td>\n",
       "      <td>Amar Gambit</td>\n",
       "      <td>1. Nh3 d5 2. g3 e5 3. f4 Bxh3 4. Bxh3 exf4</td>\n",
       "    </tr>\n",
       "    <tr>\n",
       "      <th>1</th>\n",
       "      <td>A00</td>\n",
       "      <td>Amar Opening</td>\n",
       "      <td>1. Nh3</td>\n",
       "    </tr>\n",
       "    <tr>\n",
       "      <th>2</th>\n",
       "      <td>A00</td>\n",
       "      <td>Amar Opening: Gent Gambit</td>\n",
       "      <td>1. Nh3 d5 2. g3 e5 3. f4 Bxh3 4. Bxh3 exf4 5. ...</td>\n",
       "    </tr>\n",
       "    <tr>\n",
       "      <th>3</th>\n",
       "      <td>A00</td>\n",
       "      <td>Amar Opening: Paris Gambit</td>\n",
       "      <td>1. Nh3 d5 2. g3 e5 3. f4</td>\n",
       "    </tr>\n",
       "    <tr>\n",
       "      <th>4</th>\n",
       "      <td>A00</td>\n",
       "      <td>Amsterdam Attack</td>\n",
       "      <td>1. e3 e5 2. c4 d6 3. Nc3 Nc6 4. b3 Nf6</td>\n",
       "    </tr>\n",
       "    <tr>\n",
       "      <th>...</th>\n",
       "      <td>...</td>\n",
       "      <td>...</td>\n",
       "      <td>...</td>\n",
       "    </tr>\n",
       "    <tr>\n",
       "      <th>3392</th>\n",
       "      <td>E98</td>\n",
       "      <td>King's Indian Defense: Orthodox Variation, Cla...</td>\n",
       "      <td>1. d4 Nf6 2. c4 g6 3. Nc3 Bg7 4. e4 d6 5. Nf3 ...</td>\n",
       "    </tr>\n",
       "    <tr>\n",
       "      <th>3393</th>\n",
       "      <td>E98</td>\n",
       "      <td>King's Indian Defense: Orthodox Variation, Cla...</td>\n",
       "      <td>1. d4 Nf6 2. c4 g6 3. Nc3 Bg7 4. e4 d6 5. Nf3 ...</td>\n",
       "    </tr>\n",
       "    <tr>\n",
       "      <th>3394</th>\n",
       "      <td>E98</td>\n",
       "      <td>King's Indian Defense: Orthodox Variation, Cla...</td>\n",
       "      <td>1. d4 Nf6 2. c4 g6 3. Nc3 Bg7 4. e4 d6 5. Nf3 ...</td>\n",
       "    </tr>\n",
       "    <tr>\n",
       "      <th>3395</th>\n",
       "      <td>E99</td>\n",
       "      <td>King's Indian Defense: Orthodox Variation, Cla...</td>\n",
       "      <td>1. d4 Nf6 2. c4 g6 3. Nc3 Bg7 4. e4 d6 5. Nf3 ...</td>\n",
       "    </tr>\n",
       "    <tr>\n",
       "      <th>3396</th>\n",
       "      <td>E99</td>\n",
       "      <td>King's Indian Defense: Orthodox Variation, Cla...</td>\n",
       "      <td>1. d4 Nf6 2. c4 g6 3. Nc3 Bg7 4. e4 d6 5. Nf3 ...</td>\n",
       "    </tr>\n",
       "  </tbody>\n",
       "</table>\n",
       "<p>3397 rows × 3 columns</p>\n",
       "</div>"
      ],
      "text/plain": [
       "      eco                                               name  \\\n",
       "0     A00                                        Amar Gambit   \n",
       "1     A00                                       Amar Opening   \n",
       "2     A00                          Amar Opening: Gent Gambit   \n",
       "3     A00                         Amar Opening: Paris Gambit   \n",
       "4     A00                                   Amsterdam Attack   \n",
       "...   ...                                                ...   \n",
       "3392  E98  King's Indian Defense: Orthodox Variation, Cla...   \n",
       "3393  E98  King's Indian Defense: Orthodox Variation, Cla...   \n",
       "3394  E98  King's Indian Defense: Orthodox Variation, Cla...   \n",
       "3395  E99  King's Indian Defense: Orthodox Variation, Cla...   \n",
       "3396  E99  King's Indian Defense: Orthodox Variation, Cla...   \n",
       "\n",
       "                                                    pgn  \n",
       "0            1. Nh3 d5 2. g3 e5 3. f4 Bxh3 4. Bxh3 exf4  \n",
       "1                                                1. Nh3  \n",
       "2     1. Nh3 d5 2. g3 e5 3. f4 Bxh3 4. Bxh3 exf4 5. ...  \n",
       "3                              1. Nh3 d5 2. g3 e5 3. f4  \n",
       "4                1. e3 e5 2. c4 d6 3. Nc3 Nc6 4. b3 Nf6  \n",
       "...                                                 ...  \n",
       "3392  1. d4 Nf6 2. c4 g6 3. Nc3 Bg7 4. e4 d6 5. Nf3 ...  \n",
       "3393  1. d4 Nf6 2. c4 g6 3. Nc3 Bg7 4. e4 d6 5. Nf3 ...  \n",
       "3394  1. d4 Nf6 2. c4 g6 3. Nc3 Bg7 4. e4 d6 5. Nf3 ...  \n",
       "3395  1. d4 Nf6 2. c4 g6 3. Nc3 Bg7 4. e4 d6 5. Nf3 ...  \n",
       "3396  1. d4 Nf6 2. c4 g6 3. Nc3 Bg7 4. e4 d6 5. Nf3 ...  \n",
       "\n",
       "[3397 rows x 3 columns]"
      ]
     },
     "execution_count": 8,
     "metadata": {},
     "output_type": "execute_result"
    }
   ],
   "source": [
    "openings.reset_index(drop=True)"
   ]
  },
  {
   "cell_type": "code",
   "execution_count": 9,
   "metadata": {},
   "outputs": [],
   "source": [
    "openings.to_csv('openings.csv', index=False)"
   ]
  },
  {
   "cell_type": "code",
   "execution_count": 18,
   "metadata": {},
   "outputs": [
    {
     "data": {
      "text/plain": [
       "90"
      ]
     },
     "execution_count": 18,
     "metadata": {},
     "output_type": "execute_result"
    }
   ],
   "source": [
    "openings['name'].map(lambda x: len(x)).max()"
   ]
  },
  {
   "cell_type": "code",
   "execution_count": 19,
   "metadata": {},
   "outputs": [
    {
     "data": {
      "text/plain": [
       "202"
      ]
     },
     "execution_count": 19,
     "metadata": {},
     "output_type": "execute_result"
    }
   ],
   "source": [
    "openings['pgn'].map(lambda x: len(x)).max()"
   ]
  }
 ],
 "metadata": {
  "interpreter": {
   "hash": "33c65ec6b038a144e75867a195871cfb83022092cf8bef49097819ac44900014"
  },
  "kernelspec": {
   "display_name": "Python 3.9.5 64-bit ('base': conda)",
   "language": "python",
   "name": "python3"
  },
  "language_info": {
   "codemirror_mode": {
    "name": "ipython",
    "version": 3
   },
   "file_extension": ".py",
   "mimetype": "text/x-python",
   "name": "python",
   "nbconvert_exporter": "python",
   "pygments_lexer": "ipython3",
   "version": "3.9.5"
  },
  "orig_nbformat": 4
 },
 "nbformat": 4,
 "nbformat_minor": 2
}
