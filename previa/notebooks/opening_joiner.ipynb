{
 "cells": [
  {
   "cell_type": "code",
   "execution_count": 9,
   "metadata": {},
   "outputs": [],
   "source": [
    "import numpy as np\n",
    "import pandas as pd"
   ]
  },
  {
   "cell_type": "code",
   "execution_count": 62,
   "metadata": {},
   "outputs": [],
   "source": [
    "a = pd.read_csv('../data/raw/openings/a.tsv', sep='\\t')\n",
    "b = pd.read_csv('../data/raw/openings/b.tsv', sep='\\t')\n",
    "c = pd.read_csv('../data/raw/openings/c.tsv', sep='\\t')\n",
    "d = pd.read_csv('../data/raw/openings/d.tsv', sep='\\t')\n",
    "e = pd.read_csv('../data/raw/openings/e.tsv', sep='\\t')"
   ]
  },
  {
   "cell_type": "code",
   "execution_count": 63,
   "metadata": {},
   "outputs": [],
   "source": [
    "openings = pd.concat([a,b,c,d,e])"
   ]
  },
  {
   "cell_type": "code",
   "execution_count": 64,
   "metadata": {},
   "outputs": [],
   "source": [
    "openings.reset_index(drop=True, inplace=True)"
   ]
  },
  {
   "cell_type": "code",
   "execution_count": 56,
   "metadata": {},
   "outputs": [
    {
     "data": {
      "text/html": [
       "<div>\n",
       "<style scoped>\n",
       "    .dataframe tbody tr th:only-of-type {\n",
       "        vertical-align: middle;\n",
       "    }\n",
       "\n",
       "    .dataframe tbody tr th {\n",
       "        vertical-align: top;\n",
       "    }\n",
       "\n",
       "    .dataframe thead th {\n",
       "        text-align: right;\n",
       "    }\n",
       "</style>\n",
       "<table border=\"1\" class=\"dataframe\">\n",
       "  <thead>\n",
       "    <tr style=\"text-align: right;\">\n",
       "      <th></th>\n",
       "      <th>eco</th>\n",
       "      <th>name</th>\n",
       "      <th>pgn</th>\n",
       "    </tr>\n",
       "  </thead>\n",
       "  <tbody>\n",
       "    <tr>\n",
       "      <th>842</th>\n",
       "      <td>B02</td>\n",
       "      <td>Alekhine Defense</td>\n",
       "      <td>1. e4 Nf6</td>\n",
       "    </tr>\n",
       "    <tr>\n",
       "      <th>870</th>\n",
       "      <td>B03</td>\n",
       "      <td>Alekhine Defense</td>\n",
       "      <td>1. e4 Nf6 2. e5 Nd5 3. d4</td>\n",
       "    </tr>\n",
       "    <tr>\n",
       "      <th>871</th>\n",
       "      <td>B03</td>\n",
       "      <td>Alekhine Defense</td>\n",
       "      <td>1. e4 Nf6 2. e5 Nd5 3. d4 d6</td>\n",
       "    </tr>\n",
       "    <tr>\n",
       "      <th>872</th>\n",
       "      <td>B03</td>\n",
       "      <td>Alekhine Defense</td>\n",
       "      <td>1. e4 Nf6 2. e5 Nd5 3. d4 d6 4. c4</td>\n",
       "    </tr>\n",
       "  </tbody>\n",
       "</table>\n",
       "</div>"
      ],
      "text/plain": [
       "     eco              name                                 pgn\n",
       "842  B02  Alekhine Defense                           1. e4 Nf6\n",
       "870  B03  Alekhine Defense           1. e4 Nf6 2. e5 Nd5 3. d4\n",
       "871  B03  Alekhine Defense        1. e4 Nf6 2. e5 Nd5 3. d4 d6\n",
       "872  B03  Alekhine Defense  1. e4 Nf6 2. e5 Nd5 3. d4 d6 4. c4"
      ]
     },
     "execution_count": 56,
     "metadata": {},
     "output_type": "execute_result"
    }
   ],
   "source": [
    "openings['name'].value_counts()\n",
    "openings[openings['name'] == 'Alekhine Defense']"
   ]
  },
  {
   "cell_type": "code",
   "execution_count": 57,
   "metadata": {},
   "outputs": [
    {
     "data": {
      "text/html": [
       "<div>\n",
       "<style scoped>\n",
       "    .dataframe tbody tr th:only-of-type {\n",
       "        vertical-align: middle;\n",
       "    }\n",
       "\n",
       "    .dataframe tbody tr th {\n",
       "        vertical-align: top;\n",
       "    }\n",
       "\n",
       "    .dataframe thead th {\n",
       "        text-align: right;\n",
       "    }\n",
       "</style>\n",
       "<table border=\"1\" class=\"dataframe\">\n",
       "  <thead>\n",
       "    <tr style=\"text-align: right;\">\n",
       "      <th></th>\n",
       "      <th>eco</th>\n",
       "      <th>name</th>\n",
       "      <th>pgn</th>\n",
       "    </tr>\n",
       "  </thead>\n",
       "  <tbody>\n",
       "    <tr>\n",
       "      <th>0</th>\n",
       "      <td>B03</td>\n",
       "      <td>Alekhine Defense</td>\n",
       "      <td>1. e4 Nf6 2. e5 Nd5 3. d4</td>\n",
       "    </tr>\n",
       "    <tr>\n",
       "      <th>1</th>\n",
       "      <td>B02</td>\n",
       "      <td>Alekhine Defense</td>\n",
       "      <td>1. e4 Nf6</td>\n",
       "    </tr>\n",
       "    <tr>\n",
       "      <th>2</th>\n",
       "      <td>B03</td>\n",
       "      <td>Alekhine Defense</td>\n",
       "      <td>1. e4 Nf6 2. e5 Nd5 3. d4 d6</td>\n",
       "    </tr>\n",
       "    <tr>\n",
       "      <th>3</th>\n",
       "      <td>B03</td>\n",
       "      <td>Alekhine Defense</td>\n",
       "      <td>1. e4 Nf6 2. e5 Nd5 3. d4 d6 4. c4</td>\n",
       "    </tr>\n",
       "    <tr>\n",
       "      <th>4</th>\n",
       "      <td>B03</td>\n",
       "      <td>Alekhine Defense: Balogh Variation</td>\n",
       "      <td>1. e4 Nf6 2. e5 Nd5 3. d4 d6 4. Bc4</td>\n",
       "    </tr>\n",
       "    <tr>\n",
       "      <th>...</th>\n",
       "      <td>...</td>\n",
       "      <td>...</td>\n",
       "      <td>...</td>\n",
       "    </tr>\n",
       "    <tr>\n",
       "      <th>3392</th>\n",
       "      <td>A04</td>\n",
       "      <td>Zukertort Opening: The Walrus</td>\n",
       "      <td>1. Nf3 e5 2. Nxe5 Nc6 3. Nxc6 dxc6</td>\n",
       "    </tr>\n",
       "    <tr>\n",
       "      <th>3393</th>\n",
       "      <td>A04</td>\n",
       "      <td>Zukertort Opening: Vos Gambit</td>\n",
       "      <td>1. Nf3 d6 2. d4 e5</td>\n",
       "    </tr>\n",
       "    <tr>\n",
       "      <th>3394</th>\n",
       "      <td>A04</td>\n",
       "      <td>Zukertort Opening: Wade Defense</td>\n",
       "      <td>1. Nf3 d6 2. e4 Bg4</td>\n",
       "    </tr>\n",
       "    <tr>\n",
       "      <th>3395</th>\n",
       "      <td>A41</td>\n",
       "      <td>Zukertort Opening: Wade Defense, Chigorin Plan</td>\n",
       "      <td>1. d4 d6 2. Nf3 Bg4 3. c4 Nd7 4. Qb3 Rb8</td>\n",
       "    </tr>\n",
       "    <tr>\n",
       "      <th>3396</th>\n",
       "      <td>A04</td>\n",
       "      <td>Zukertort Opening: Ware Defense</td>\n",
       "      <td>1. Nf3 a5</td>\n",
       "    </tr>\n",
       "  </tbody>\n",
       "</table>\n",
       "<p>3397 rows × 3 columns</p>\n",
       "</div>"
      ],
      "text/plain": [
       "      eco                                            name  \\\n",
       "0     B03                                Alekhine Defense   \n",
       "1     B02                                Alekhine Defense   \n",
       "2     B03                                Alekhine Defense   \n",
       "3     B03                                Alekhine Defense   \n",
       "4     B03              Alekhine Defense: Balogh Variation   \n",
       "...   ...                                             ...   \n",
       "3392  A04                   Zukertort Opening: The Walrus   \n",
       "3393  A04                   Zukertort Opening: Vos Gambit   \n",
       "3394  A04                 Zukertort Opening: Wade Defense   \n",
       "3395  A41  Zukertort Opening: Wade Defense, Chigorin Plan   \n",
       "3396  A04                 Zukertort Opening: Ware Defense   \n",
       "\n",
       "                                           pgn  \n",
       "0                    1. e4 Nf6 2. e5 Nd5 3. d4  \n",
       "1                                    1. e4 Nf6  \n",
       "2                 1. e4 Nf6 2. e5 Nd5 3. d4 d6  \n",
       "3           1. e4 Nf6 2. e5 Nd5 3. d4 d6 4. c4  \n",
       "4          1. e4 Nf6 2. e5 Nd5 3. d4 d6 4. Bc4  \n",
       "...                                        ...  \n",
       "3392        1. Nf3 e5 2. Nxe5 Nc6 3. Nxc6 dxc6  \n",
       "3393                        1. Nf3 d6 2. d4 e5  \n",
       "3394                       1. Nf3 d6 2. e4 Bg4  \n",
       "3395  1. d4 d6 2. Nf3 Bg4 3. c4 Nd7 4. Qb3 Rb8  \n",
       "3396                                 1. Nf3 a5  \n",
       "\n",
       "[3397 rows x 3 columns]"
      ]
     },
     "execution_count": 57,
     "metadata": {},
     "output_type": "execute_result"
    }
   ],
   "source": [
    "openings.sort_values(by='name', inplace=True, ignore_index=True)\n",
    "openings"
   ]
  },
  {
   "cell_type": "code",
   "execution_count": 58,
   "metadata": {},
   "outputs": [
    {
     "data": {
      "text/html": [
       "<div>\n",
       "<style scoped>\n",
       "    .dataframe tbody tr th:only-of-type {\n",
       "        vertical-align: middle;\n",
       "    }\n",
       "\n",
       "    .dataframe tbody tr th {\n",
       "        vertical-align: top;\n",
       "    }\n",
       "\n",
       "    .dataframe thead th {\n",
       "        text-align: right;\n",
       "    }\n",
       "</style>\n",
       "<table border=\"1\" class=\"dataframe\">\n",
       "  <thead>\n",
       "    <tr style=\"text-align: right;\">\n",
       "      <th></th>\n",
       "      <th>eco</th>\n",
       "      <th>name</th>\n",
       "      <th>pgn</th>\n",
       "    </tr>\n",
       "  </thead>\n",
       "  <tbody>\n",
       "    <tr>\n",
       "      <th>0</th>\n",
       "      <td>B03</td>\n",
       "      <td>Alekhine Defense</td>\n",
       "      <td>1. e4 Nf6 2. e5 Nd5 3. d4</td>\n",
       "    </tr>\n",
       "    <tr>\n",
       "      <th>1</th>\n",
       "      <td>B02</td>\n",
       "      <td>Alekhine Defense1</td>\n",
       "      <td>1. e4 Nf6</td>\n",
       "    </tr>\n",
       "    <tr>\n",
       "      <th>2</th>\n",
       "      <td>B03</td>\n",
       "      <td>Alekhine Defense2</td>\n",
       "      <td>1. e4 Nf6 2. e5 Nd5 3. d4 d6</td>\n",
       "    </tr>\n",
       "    <tr>\n",
       "      <th>3</th>\n",
       "      <td>B03</td>\n",
       "      <td>Alekhine Defense3</td>\n",
       "      <td>1. e4 Nf6 2. e5 Nd5 3. d4 d6 4. c4</td>\n",
       "    </tr>\n",
       "    <tr>\n",
       "      <th>4</th>\n",
       "      <td>B03</td>\n",
       "      <td>Alekhine Defense: Balogh Variation</td>\n",
       "      <td>1. e4 Nf6 2. e5 Nd5 3. d4 d6 4. Bc4</td>\n",
       "    </tr>\n",
       "    <tr>\n",
       "      <th>...</th>\n",
       "      <td>...</td>\n",
       "      <td>...</td>\n",
       "      <td>...</td>\n",
       "    </tr>\n",
       "    <tr>\n",
       "      <th>3392</th>\n",
       "      <td>A04</td>\n",
       "      <td>Zukertort Opening: The Walrus</td>\n",
       "      <td>1. Nf3 e5 2. Nxe5 Nc6 3. Nxc6 dxc6</td>\n",
       "    </tr>\n",
       "    <tr>\n",
       "      <th>3393</th>\n",
       "      <td>A04</td>\n",
       "      <td>Zukertort Opening: Vos Gambit</td>\n",
       "      <td>1. Nf3 d6 2. d4 e5</td>\n",
       "    </tr>\n",
       "    <tr>\n",
       "      <th>3394</th>\n",
       "      <td>A04</td>\n",
       "      <td>Zukertort Opening: Wade Defense</td>\n",
       "      <td>1. Nf3 d6 2. e4 Bg4</td>\n",
       "    </tr>\n",
       "    <tr>\n",
       "      <th>3395</th>\n",
       "      <td>A41</td>\n",
       "      <td>Zukertort Opening: Wade Defense, Chigorin Plan</td>\n",
       "      <td>1. d4 d6 2. Nf3 Bg4 3. c4 Nd7 4. Qb3 Rb8</td>\n",
       "    </tr>\n",
       "    <tr>\n",
       "      <th>3396</th>\n",
       "      <td>A04</td>\n",
       "      <td>Zukertort Opening: Ware Defense</td>\n",
       "      <td>1. Nf3 a5</td>\n",
       "    </tr>\n",
       "  </tbody>\n",
       "</table>\n",
       "<p>3397 rows × 3 columns</p>\n",
       "</div>"
      ],
      "text/plain": [
       "      eco                                            name  \\\n",
       "0     B03                                Alekhine Defense   \n",
       "1     B02                               Alekhine Defense1   \n",
       "2     B03                               Alekhine Defense2   \n",
       "3     B03                               Alekhine Defense3   \n",
       "4     B03              Alekhine Defense: Balogh Variation   \n",
       "...   ...                                             ...   \n",
       "3392  A04                   Zukertort Opening: The Walrus   \n",
       "3393  A04                   Zukertort Opening: Vos Gambit   \n",
       "3394  A04                 Zukertort Opening: Wade Defense   \n",
       "3395  A41  Zukertort Opening: Wade Defense, Chigorin Plan   \n",
       "3396  A04                 Zukertort Opening: Ware Defense   \n",
       "\n",
       "                                           pgn  \n",
       "0                    1. e4 Nf6 2. e5 Nd5 3. d4  \n",
       "1                                    1. e4 Nf6  \n",
       "2                 1. e4 Nf6 2. e5 Nd5 3. d4 d6  \n",
       "3           1. e4 Nf6 2. e5 Nd5 3. d4 d6 4. c4  \n",
       "4          1. e4 Nf6 2. e5 Nd5 3. d4 d6 4. Bc4  \n",
       "...                                        ...  \n",
       "3392        1. Nf3 e5 2. Nxe5 Nc6 3. Nxc6 dxc6  \n",
       "3393                        1. Nf3 d6 2. d4 e5  \n",
       "3394                       1. Nf3 d6 2. e4 Bg4  \n",
       "3395  1. d4 d6 2. Nf3 Bg4 3. c4 Nd7 4. Qb3 Rb8  \n",
       "3396                                 1. Nf3 a5  \n",
       "\n",
       "[3397 rows x 3 columns]"
      ]
     },
     "execution_count": 58,
     "metadata": {},
     "output_type": "execute_result"
    }
   ],
   "source": [
    "k = openings['name'][0]\n",
    "cont = 1\n",
    "for i in range(1, len(openings)):\n",
    "    if openings['name'][i] == k:\n",
    "        openings['name'][i] = openings['name'][i] + str(cont)\n",
    "        cont += 1\n",
    "    else:\n",
    "        k = openings['name'][i]\n",
    "        cont = 1\n",
    "openings"
   ]
  },
  {
   "cell_type": "code",
   "execution_count": 60,
   "metadata": {},
   "outputs": [
    {
     "data": {
      "text/html": [
       "<div>\n",
       "<style scoped>\n",
       "    .dataframe tbody tr th:only-of-type {\n",
       "        vertical-align: middle;\n",
       "    }\n",
       "\n",
       "    .dataframe tbody tr th {\n",
       "        vertical-align: top;\n",
       "    }\n",
       "\n",
       "    .dataframe thead th {\n",
       "        text-align: right;\n",
       "    }\n",
       "</style>\n",
       "<table border=\"1\" class=\"dataframe\">\n",
       "  <thead>\n",
       "    <tr style=\"text-align: right;\">\n",
       "      <th></th>\n",
       "      <th>eco</th>\n",
       "      <th>name</th>\n",
       "      <th>pgn</th>\n",
       "    </tr>\n",
       "  </thead>\n",
       "  <tbody>\n",
       "    <tr>\n",
       "      <th>2816</th>\n",
       "      <td>B24</td>\n",
       "      <td>Sicilian Defense: Closed</td>\n",
       "      <td>1. e4 c5 2. Nc3 Nc6 3. g3 g6</td>\n",
       "    </tr>\n",
       "  </tbody>\n",
       "</table>\n",
       "</div>"
      ],
      "text/plain": [
       "      eco                      name                           pgn\n",
       "2816  B24  Sicilian Defense: Closed  1. e4 c5 2. Nc3 Nc6 3. g3 g6"
      ]
     },
     "execution_count": 60,
     "metadata": {},
     "output_type": "execute_result"
    }
   ],
   "source": [
    "openings['name'].value_counts()\n",
    "openings[openings['name'] == 'Sicilian Defense: Closed']"
   ]
  },
  {
   "cell_type": "code",
   "execution_count": 65,
   "metadata": {},
   "outputs": [],
   "source": [
    "openings.to_csv('../data/processed/openings.csv', index=False)"
   ]
  },
  {
   "cell_type": "code",
   "execution_count": 66,
   "metadata": {},
   "outputs": [
    {
     "data": {
      "text/plain": [
       "90"
      ]
     },
     "execution_count": 66,
     "metadata": {},
     "output_type": "execute_result"
    }
   ],
   "source": [
    "openings['name'].map(lambda x: len(x)).max()"
   ]
  },
  {
   "cell_type": "code",
   "execution_count": 67,
   "metadata": {},
   "outputs": [
    {
     "data": {
      "text/plain": [
       "202"
      ]
     },
     "execution_count": 67,
     "metadata": {},
     "output_type": "execute_result"
    }
   ],
   "source": [
    "openings['pgn'].map(lambda x: len(x)).max()"
   ]
  }
 ],
 "metadata": {
  "interpreter": {
   "hash": "33c65ec6b038a144e75867a195871cfb83022092cf8bef49097819ac44900014"
  },
  "kernelspec": {
   "display_name": "Python 3.9.5 64-bit ('base': conda)",
   "language": "python",
   "name": "python3"
  },
  "language_info": {
   "codemirror_mode": {
    "name": "ipython",
    "version": 3
   },
   "file_extension": ".py",
   "mimetype": "text/x-python",
   "name": "python",
   "nbconvert_exporter": "python",
   "pygments_lexer": "ipython3",
   "version": "3.9.5"
  },
  "orig_nbformat": 4
 },
 "nbformat": 4,
 "nbformat_minor": 2
}
