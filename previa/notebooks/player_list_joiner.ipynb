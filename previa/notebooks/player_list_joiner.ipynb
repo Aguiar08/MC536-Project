{
 "cells": [
  {
   "cell_type": "code",
   "execution_count": 1,
   "metadata": {},
   "outputs": [],
   "source": [
    "import numpy as np\n",
    "import pandas as pd"
   ]
  },
  {
   "cell_type": "code",
   "execution_count": 9,
   "metadata": {},
   "outputs": [],
   "source": [
    "lichess = pd.read_csv('../lichess/player_list.csv')\n",
    "chesscom = pd.read_csv('../chesscom/player_list_chess_com.csv')"
   ]
  },
  {
   "cell_type": "code",
   "execution_count": 10,
   "metadata": {},
   "outputs": [],
   "source": [
    "lichess['site_name'] = 'lichess'\n",
    "lichess.drop_duplicates(subset=['username'], keep='last', inplace=True)"
   ]
  },
  {
   "cell_type": "code",
   "execution_count": 11,
   "metadata": {},
   "outputs": [],
   "source": [
    "chesscom['site_name'] = 'chess.com'\n",
    "chesscom.drop_duplicates(subset=['username'], keep='last', inplace=True)"
   ]
  },
  {
   "cell_type": "code",
   "execution_count": 12,
   "metadata": {},
   "outputs": [],
   "source": [
    "allplayers = pd.concat([lichess, chesscom])"
   ]
  },
  {
   "cell_type": "code",
   "execution_count": 13,
   "metadata": {},
   "outputs": [
    {
     "data": {
      "text/html": [
       "<div>\n",
       "<style scoped>\n",
       "    .dataframe tbody tr th:only-of-type {\n",
       "        vertical-align: middle;\n",
       "    }\n",
       "\n",
       "    .dataframe tbody tr th {\n",
       "        vertical-align: top;\n",
       "    }\n",
       "\n",
       "    .dataframe thead th {\n",
       "        text-align: right;\n",
       "    }\n",
       "</style>\n",
       "<table border=\"1\" class=\"dataframe\">\n",
       "  <thead>\n",
       "    <tr style=\"text-align: right;\">\n",
       "      <th></th>\n",
       "      <th>username</th>\n",
       "      <th>title</th>\n",
       "      <th>bullet_rating</th>\n",
       "      <th>blitz_rating</th>\n",
       "      <th>rapid_rating</th>\n",
       "      <th>site_name</th>\n",
       "    </tr>\n",
       "  </thead>\n",
       "  <tbody>\n",
       "    <tr>\n",
       "      <th>0</th>\n",
       "      <td>DrGrekenstein</td>\n",
       "      <td>GM</td>\n",
       "      <td>3172</td>\n",
       "      <td>2901</td>\n",
       "      <td>0</td>\n",
       "      <td>lichess</td>\n",
       "    </tr>\n",
       "    <tr>\n",
       "      <th>1</th>\n",
       "      <td>Blazinq</td>\n",
       "      <td>FM</td>\n",
       "      <td>2504</td>\n",
       "      <td>2064</td>\n",
       "      <td>0</td>\n",
       "      <td>lichess</td>\n",
       "    </tr>\n",
       "    <tr>\n",
       "      <th>2</th>\n",
       "      <td>Federicov93</td>\n",
       "      <td>GM</td>\n",
       "      <td>2083</td>\n",
       "      <td>2506</td>\n",
       "      <td>2602</td>\n",
       "      <td>lichess</td>\n",
       "    </tr>\n",
       "    <tr>\n",
       "      <th>3</th>\n",
       "      <td>EltajSafarli</td>\n",
       "      <td>GM</td>\n",
       "      <td>2635</td>\n",
       "      <td>1565</td>\n",
       "      <td>2533</td>\n",
       "      <td>lichess</td>\n",
       "    </tr>\n",
       "    <tr>\n",
       "      <th>4</th>\n",
       "      <td>HouseMartell</td>\n",
       "      <td>FM</td>\n",
       "      <td>2404</td>\n",
       "      <td>1963</td>\n",
       "      <td>1856</td>\n",
       "      <td>lichess</td>\n",
       "    </tr>\n",
       "    <tr>\n",
       "      <th>...</th>\n",
       "      <td>...</td>\n",
       "      <td>...</td>\n",
       "      <td>...</td>\n",
       "      <td>...</td>\n",
       "      <td>...</td>\n",
       "      <td>...</td>\n",
       "    </tr>\n",
       "    <tr>\n",
       "      <th>9003</th>\n",
       "      <td>yaris9</td>\n",
       "      <td>WGM</td>\n",
       "      <td>2440</td>\n",
       "      <td>2451</td>\n",
       "      <td>2330</td>\n",
       "      <td>chess.com</td>\n",
       "    </tr>\n",
       "    <tr>\n",
       "      <th>9004</th>\n",
       "      <td>yennefer1</td>\n",
       "      <td>WGM</td>\n",
       "      <td>2304</td>\n",
       "      <td>2436</td>\n",
       "      <td>2267</td>\n",
       "      <td>chess.com</td>\n",
       "    </tr>\n",
       "    <tr>\n",
       "      <th>9005</th>\n",
       "      <td>yileai</td>\n",
       "      <td>WGM</td>\n",
       "      <td>0</td>\n",
       "      <td>2314</td>\n",
       "      <td>2167</td>\n",
       "      <td>chess.com</td>\n",
       "    </tr>\n",
       "    <tr>\n",
       "      <th>9006</th>\n",
       "      <td>zefirka</td>\n",
       "      <td>WGM</td>\n",
       "      <td>2443</td>\n",
       "      <td>2463</td>\n",
       "      <td>1980</td>\n",
       "      <td>chess.com</td>\n",
       "    </tr>\n",
       "    <tr>\n",
       "      <th>9007</th>\n",
       "      <td>zombik1</td>\n",
       "      <td>WGM</td>\n",
       "      <td>0</td>\n",
       "      <td>2372</td>\n",
       "      <td>0</td>\n",
       "      <td>chess.com</td>\n",
       "    </tr>\n",
       "  </tbody>\n",
       "</table>\n",
       "<p>9008 rows × 6 columns</p>\n",
       "</div>"
      ],
      "text/plain": [
       "           username title  bullet_rating  blitz_rating  rapid_rating  \\\n",
       "0     DrGrekenstein    GM           3172          2901             0   \n",
       "1           Blazinq    FM           2504          2064             0   \n",
       "2       Federicov93    GM           2083          2506          2602   \n",
       "3      EltajSafarli    GM           2635          1565          2533   \n",
       "4      HouseMartell    FM           2404          1963          1856   \n",
       "...             ...   ...            ...           ...           ...   \n",
       "9003         yaris9   WGM           2440          2451          2330   \n",
       "9004      yennefer1   WGM           2304          2436          2267   \n",
       "9005         yileai   WGM              0          2314          2167   \n",
       "9006        zefirka   WGM           2443          2463          1980   \n",
       "9007        zombik1   WGM              0          2372             0   \n",
       "\n",
       "      site_name  \n",
       "0       lichess  \n",
       "1       lichess  \n",
       "2       lichess  \n",
       "3       lichess  \n",
       "4       lichess  \n",
       "...         ...  \n",
       "9003  chess.com  \n",
       "9004  chess.com  \n",
       "9005  chess.com  \n",
       "9006  chess.com  \n",
       "9007  chess.com  \n",
       "\n",
       "[9008 rows x 6 columns]"
      ]
     },
     "execution_count": 13,
     "metadata": {},
     "output_type": "execute_result"
    }
   ],
   "source": [
    "allplayers.reset_index(drop=True)"
   ]
  },
  {
   "cell_type": "code",
   "execution_count": 15,
   "metadata": {},
   "outputs": [],
   "source": [
    "allplayers.to_csv('all_player_list.csv', index=False)"
   ]
  },
  {
   "cell_type": "code",
   "execution_count": 16,
   "metadata": {},
   "outputs": [
    {
     "data": {
      "text/plain": [
       "tacticthunder          2\n",
       "orrbaverlekszarnyon    2\n",
       "msb2                   2\n",
       "bouzidian              2\n",
       "ferdipy                2\n",
       "                      ..\n",
       "psvidler               1\n",
       "psakhislev             1\n",
       "promen1999             1\n",
       "profylax               1\n",
       "zombik1                1\n",
       "Name: username, Length: 8874, dtype: int64"
      ]
     },
     "execution_count": 16,
     "metadata": {},
     "output_type": "execute_result"
    }
   ],
   "source": [
    "teste = pd.read_csv('all_player_list.csv')\n",
    "teste['username'].value_counts()"
   ]
  },
  {
   "cell_type": "code",
   "execution_count": 21,
   "metadata": {},
   "outputs": [
    {
     "data": {
      "text/html": [
       "<div>\n",
       "<style scoped>\n",
       "    .dataframe tbody tr th:only-of-type {\n",
       "        vertical-align: middle;\n",
       "    }\n",
       "\n",
       "    .dataframe tbody tr th {\n",
       "        vertical-align: top;\n",
       "    }\n",
       "\n",
       "    .dataframe thead th {\n",
       "        text-align: right;\n",
       "    }\n",
       "</style>\n",
       "<table border=\"1\" class=\"dataframe\">\n",
       "  <thead>\n",
       "    <tr style=\"text-align: right;\">\n",
       "      <th></th>\n",
       "      <th>username</th>\n",
       "      <th>title</th>\n",
       "      <th>bullet_rating</th>\n",
       "      <th>blitz_rating</th>\n",
       "      <th>rapid_rating</th>\n",
       "      <th>site_name</th>\n",
       "    </tr>\n",
       "  </thead>\n",
       "  <tbody>\n",
       "    <tr>\n",
       "      <th>1086</th>\n",
       "      <td>msb2</td>\n",
       "      <td>GM</td>\n",
       "      <td>2997</td>\n",
       "      <td>2818</td>\n",
       "      <td>0</td>\n",
       "      <td>lichess</td>\n",
       "    </tr>\n",
       "    <tr>\n",
       "      <th>2932</th>\n",
       "      <td>msb2</td>\n",
       "      <td>GM</td>\n",
       "      <td>2864</td>\n",
       "      <td>2897</td>\n",
       "      <td>2617</td>\n",
       "      <td>chess.com</td>\n",
       "    </tr>\n",
       "  </tbody>\n",
       "</table>\n",
       "</div>"
      ],
      "text/plain": [
       "     username title  bullet_rating  blitz_rating  rapid_rating  site_name\n",
       "1086     msb2    GM           2997          2818             0    lichess\n",
       "2932     msb2    GM           2864          2897          2617  chess.com"
      ]
     },
     "execution_count": 21,
     "metadata": {},
     "output_type": "execute_result"
    }
   ],
   "source": [
    "teste[teste['username'] == 'msb2']"
   ]
  }
 ],
 "metadata": {
  "interpreter": {
   "hash": "33c65ec6b038a144e75867a195871cfb83022092cf8bef49097819ac44900014"
  },
  "kernelspec": {
   "display_name": "Python 3.9.5 64-bit ('base': conda)",
   "language": "python",
   "name": "python3"
  },
  "language_info": {
   "codemirror_mode": {
    "name": "ipython",
    "version": 3
   },
   "file_extension": ".py",
   "mimetype": "text/x-python",
   "name": "python",
   "nbconvert_exporter": "python",
   "pygments_lexer": "ipython3",
   "version": "3.9.5"
  },
  "orig_nbformat": 4
 },
 "nbformat": 4,
 "nbformat_minor": 2
}
