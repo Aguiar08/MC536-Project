{
 "cells": [
  {
   "cell_type": "code",
   "execution_count": 1,
   "metadata": {},
   "outputs": [],
   "source": [
    "%defaultDatasource jdbc:h2:mem:db"
   ]
  },
  {
   "cell_type": "markdown",
   "metadata": {},
   "source": [
    "# Criação da Tabela de Players"
   ]
  },
  {
   "cell_type": "code",
   "execution_count": 2,
   "metadata": {},
   "outputs": [],
   "source": [
    "DROP Table IF EXISTS Players;\n",
    "\n",
    "CREATE TABLE Players (\n",
    "    Username VARCHAR(25) NOT NULL,\n",
    "    Title VARCHAR(3),\n",
    "    Bullet INTEGER,\n",
    "    Blitz INTEGER,\n",
    "    Rapid INTEGER,\n",
    "    SiteName VARCHAR(10) NOT NULL,\n",
    "    PRIMARY KEY(Username, SiteName)\n",
    ") AS SELECT\n",
    "    username,\n",
    "    title,\n",
    "    bullet_rating,\n",
    "    blitz_rating,\n",
    "    rapid_rating,\n",
    "    site_name\n",
    "    FROM CSVREAD('../data/processed/all_player_list.csv')"
   ]
  },
  {
   "cell_type": "code",
   "execution_count": 10,
   "metadata": {},
   "outputs": [
    {
     "data": {
      "application/vnd.jupyter.widget-view+json": {
       "model_id": "327a2142-317f-4e31-950c-15fec5e2982f",
       "version_major": 2,
       "version_minor": 0
      },
      "text/plain": []
     },
     "metadata": {},
     "output_type": "display_data"
    }
   ],
   "source": [
    "SELECT * FROM Players"
   ]
  },
  {
   "cell_type": "markdown",
   "metadata": {},
   "source": [
    "# Criação da Tabela de Jogos"
   ]
  },
  {
   "cell_type": "code",
   "execution_count": 4,
   "metadata": {},
   "outputs": [],
   "source": [
    "DROP Table IF EXISTS Games;\n",
    "\n",
    "CREATE TABLE Games (\n",
    "    Id VARCHAR(40) NOT NULL,\n",
    "    Ranked BOOLEAN NOT NULL,\n",
    "    Time_control VARCHAR(20) NOT NULL,\n",
    "    Result VARCHAR(20) NOT NULL,\n",
    "    Winner VARCHAR(25),\n",
    "    White VARCHAR(25) NOT NULL,\n",
    "    Black VARCHAR(25) NOT NULL,\n",
    "    Moves VARCHAR(9999),\n",
    "    Openings VARCHAR(95),\n",
    "    SiteName VARCHAR(10) NOT NULL,\n",
    "    PRIMARY KEY(Id),\n",
    ") AS SELECT\n",
    "    id,\n",
    "    ranked,\n",
    "    time_control,\n",
    "    status,\n",
    "    winner,\n",
    "    white,\n",
    "    black,\n",
    "    moves,\n",
    "    opening,\n",
    "    site_name\n",
    "    FROM CSVREAD('../data/processed/all_games.csv')"
   ]
  },
  {
   "cell_type": "code",
   "execution_count": 11,
   "metadata": {},
   "outputs": [
    {
     "data": {
      "application/vnd.jupyter.widget-view+json": {
       "model_id": "23520112-55a7-4ca9-868b-2010377d2fe6",
       "version_major": 2,
       "version_minor": 0
      },
      "text/plain": []
     },
     "metadata": {},
     "output_type": "display_data"
    }
   ],
   "source": [
    "SELECT * FROM Games"
   ]
  },
  {
   "cell_type": "markdown",
   "metadata": {},
   "source": [
    "# Criação da Tabela de Openings"
   ]
  },
  {
   "cell_type": "code",
   "execution_count": 5,
   "metadata": {},
   "outputs": [],
   "source": [
    "DROP Table IF EXISTS Openings;\n",
    "\n",
    "CREATE TABLE Openings (\n",
    "    Eco VARCHAR(3),\n",
    "    Opening VARCHAR(95),\n",
    "    Pgn VARCHAR(210),\n",
    "    PRIMARY KEY (Pgn)\n",
    ") AS SELECT\n",
    "    eco,\n",
    "    name,\n",
    "    pgn\n",
    "    FROM CSVREAD('../data/processed/openings.csv')"
   ]
  },
  {
   "cell_type": "code",
   "execution_count": 6,
   "metadata": {},
   "outputs": [
    {
     "data": {
      "application/vnd.jupyter.widget-view+json": {
       "model_id": "f43b76cd-daae-40f1-83e4-b466db80295a",
       "version_major": 2,
       "version_minor": 0
      },
      "text/plain": []
     },
     "metadata": {},
     "output_type": "display_data"
    }
   ],
   "source": [
    "SELECT * FROM Openings"
   ]
  },
  {
   "cell_type": "markdown",
   "metadata": {},
   "source": [
    "# Análises realizadas no Database"
   ]
  },
  {
   "cell_type": "code",
   "execution_count": 9,
   "metadata": {},
   "outputs": [
    {
     "ename": "org.h2.jdbc.JdbcSQLException",
     "evalue": " Duplicate column name \"SITENAME\"; SQL statement",
     "output_type": "error",
     "traceback": [
      "\u001b[1;31morg.h2.jdbc.JdbcSQLException: Duplicate column name \"SITENAME\"; SQL statement:\u001b[0;0m",
      "\u001b[1;31mCREATE VIEW Jogos AS\u001b[0;0m",
      "\u001b[1;31mSELECT *\u001b[0;0m",
      "\u001b[1;31mFROM Games G\u001b[0;0m",
      "\u001b[1;31mLEFT JOIN Players PW\u001b[0;0m",
      "\u001b[1;31mON G.white = PW.Username AND G.SiteName = PW.SiteName\u001b[0;0m",
      "\u001b[1;31mLEFT JOIN Players PB\u001b[0;0m",
      "\u001b[1;31mON G.black = PB.Username AND G.SiteName = PB.SiteName [42121-197]\u001b[0;0m"
     ]
    }
   ],
   "source": [
    "SELECT * FROM Games G\n",
    "    LEFT JOIN Players PW\n",
    "    ON G.white = PW.Username AND G.SiteName = PW.SiteName\n",
    "    LEFT JOIN Players PB\n",
    "    ON G.black = PB.Username AND G.SiteName = PB.SiteName\n",
    "    "
   ]
  },
  {
   "cell_type": "code",
   "execution_count": 21,
   "metadata": {},
   "outputs": [
    {
     "data": {
      "application/vnd.jupyter.widget-view+json": {
       "model_id": "bcc32d73-5dc9-462c-a29a-25fa29f3cad0",
       "version_major": 2,
       "version_minor": 0
      },
      "text/plain": []
     },
     "metadata": {},
     "output_type": "display_data"
    }
   ],
   "source": [
    "DROP TABLE IF EXISTS Winner;\n",
    "\n",
    "CREATE VIEW Winner AS\n",
    "SELECT P.Username, COUNT(*) Ganhadores\n",
    "    FROM Games G, Players P\n",
    "    WHERE G.Winner = P.Username\n",
    "    GROUP BY P.Username;\n",
    "\n",
    "SELECT P.Username \n",
    "FROM Winner W, Players P\n",
    "WHERE W.Username = P.Username AND W.Ganhadores = (SELECT MAX(Winner.Ganhadores) FROM Winner)"
   ]
  }
 ],
 "metadata": {
  "kernelspec": {
   "display_name": "SQL",
   "language": "SQL",
   "name": "python395jvsc74a57bd033c65ec6b038a144e75867a195871cfb83022092cf8bef49097819ac44900014"
  },
  "language_info": {
   "codemirror_mode": "sql",
   "file_extension": ".sql",
   "mimetype": "",
   "name": "SQL",
   "nbconverter_exporter": "",
   "version": ""
  },
  "orig_nbformat": 4
 },
 "nbformat": 4,
 "nbformat_minor": 2
}
