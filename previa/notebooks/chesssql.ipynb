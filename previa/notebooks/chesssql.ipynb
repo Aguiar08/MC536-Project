{
 "cells": [
  {
   "cell_type": "code",
   "execution_count": 2,
   "metadata": {},
   "outputs": [],
   "source": [
    "%defaultDatasource jdbc:h2:mem:db"
   ]
  },
  {
   "cell_type": "markdown",
   "metadata": {},
   "source": [
    "# Criação da Tabela de Players"
   ]
  },
  {
   "cell_type": "code",
   "execution_count": 3,
   "metadata": {},
   "outputs": [],
   "source": [
    "DROP Table IF EXISTS Players;\n",
    "\n",
    "CREATE TABLE Players (\n",
    "    Username VARCHAR(25) NOT NULL,\n",
    "    Title VARCHAR(3),\n",
    "    Bullet INTEGER,\n",
    "    Blitz INTEGER,\n",
    "    Rapid INTEGER,\n",
    "    SiteName VARCHAR(10) NOT NULL,\n",
    "    PRIMARY KEY(Username, SiteName)\n",
    ") AS SELECT\n",
    "    username,\n",
    "    title,\n",
    "    bullet_rating,\n",
    "    blitz_rating,\n",
    "    rapid_rating,\n",
    "    site_name\n",
    "    FROM CSVREAD('../data/processed/all_player_list.csv')"
   ]
  },
  {
   "cell_type": "code",
   "execution_count": 3,
   "metadata": {},
   "outputs": [
    {
     "data": {
      "application/vnd.jupyter.widget-view+json": {
       "model_id": "63094726-f7fe-45a3-89f4-9984b1c3a925",
       "version_major": 2,
       "version_minor": 0
      },
      "text/plain": []
     },
     "metadata": {},
     "output_type": "display_data"
    }
   ],
   "source": [
    "SELECT * FROM Players"
   ]
  },
  {
   "cell_type": "markdown",
   "metadata": {},
   "source": [
    "# Criação da Tabela de Jogos"
   ]
  },
  {
   "cell_type": "code",
   "execution_count": 4,
   "metadata": {},
   "outputs": [],
   "source": [
    "DROP Table IF EXISTS Games;\n",
    "\n",
    "CREATE TABLE Games (\n",
    "    Id VARCHAR(40) NOT NULL,\n",
    "    Ranked BOOLEAN NOT NULL,\n",
    "    Time_control VARCHAR(20) NOT NULL,\n",
    "    Result VARCHAR(20) NOT NULL,\n",
    "    Winner VARCHAR(25),\n",
    "    White VARCHAR(25) NOT NULL,\n",
    "    Black VARCHAR(25) NOT NULL,\n",
    "    Moves VARCHAR(9999),\n",
    "    Openings VARCHAR(95),\n",
    "    SiteName VARCHAR(10) NOT NULL,\n",
    "    PRIMARY KEY(Id),\n",
    ") AS SELECT\n",
    "    id,\n",
    "    ranked,\n",
    "    time_control,\n",
    "    status,\n",
    "    winner,\n",
    "    white,\n",
    "    black,\n",
    "    moves,\n",
    "    opening,\n",
    "    site_name\n",
    "    FROM CSVREAD('../data/processed/all_games.csv')"
   ]
  },
  {
   "cell_type": "code",
   "execution_count": 7,
   "metadata": {},
   "outputs": [
    {
     "data": {
      "application/vnd.jupyter.widget-view+json": {
       "model_id": "024cdeb6-b2e1-4023-980a-efe89dfac564",
       "version_major": 2,
       "version_minor": 0
      },
      "text/plain": []
     },
     "metadata": {},
     "output_type": "display_data"
    }
   ],
   "source": [
    "SELECT * FROM Games"
   ]
  },
  {
   "cell_type": "markdown",
   "metadata": {},
   "source": [
    "# Criação da Tabela de Openings"
   ]
  },
  {
   "cell_type": "code",
   "execution_count": 5,
   "metadata": {},
   "outputs": [],
   "source": [
    "DROP Table IF EXISTS Openings;\n",
    "\n",
    "CREATE TABLE Openings (\n",
    "    Eco VARCHAR(3),\n",
    "    Opening VARCHAR(95),\n",
    "    Pgn VARCHAR(210),\n",
    "    PRIMARY KEY (Pgn)\n",
    ") AS SELECT\n",
    "    eco,\n",
    "    name,\n",
    "    pgn\n",
    "    FROM CSVREAD('../data/processed/openings.csv')"
   ]
  },
  {
   "cell_type": "code",
   "execution_count": 9,
   "metadata": {},
   "outputs": [
    {
     "data": {
      "application/vnd.jupyter.widget-view+json": {
       "model_id": "25f8b168-0237-4705-8d57-47b8296ea8f8",
       "version_major": 2,
       "version_minor": 0
      },
      "text/plain": []
     },
     "metadata": {},
     "output_type": "display_data"
    }
   ],
   "source": [
    "SELECT * FROM Openings"
   ]
  },
  {
   "cell_type": "markdown",
   "metadata": {},
   "source": [
    "# Análises realizadas no Database"
   ]
  },
  {
   "cell_type": "code",
   "execution_count": 6,
   "metadata": {},
   "outputs": [
    {
     "data": {
      "application/vnd.jupyter.widget-view+json": {
       "model_id": "87beb184-f298-4296-b369-4227795eda0d",
       "version_major": 2,
       "version_minor": 0
      },
      "text/plain": []
     },
     "metadata": {},
     "output_type": "display_data"
    }
   ],
   "source": [
    "SELECT * FROM Games G\n",
    "    LEFT JOIN Players PW\n",
    "    ON G.white = PW.Username AND G.SiteName = PW.SiteName\n",
    "    LEFT JOIN Players PB\n",
    "    ON G.black = PB.Username AND G.SiteName = PB.SiteName\n",
    "    "
   ]
  },
  {
   "cell_type": "code",
   "execution_count": 6,
   "metadata": {},
   "outputs": [
    {
     "data": {
      "application/vnd.jupyter.widget-view+json": {
       "model_id": "c09b25dc-8554-408a-99bf-0873617e329e",
       "version_major": 2,
       "version_minor": 0
      },
      "text/plain": []
     },
     "metadata": {},
     "output_type": "display_data"
    }
   ],
   "source": [
    "DROP TABLE IF EXISTS Winner;\n",
    "\n",
    "CREATE VIEW Winner AS\n",
    "SELECT P.Username, COUNT(*) Ganhadores\n",
    "    FROM Games G, Players P\n",
    "    WHERE G.Winner = P.Username AND G.SiteName = 'lichess'\n",
    "    GROUP BY P.Username;\n",
    "\n",
    "SELECT P.Username, P.Title, P.SiteName, W.Ganhadores\n",
    "FROM Winner W, Players P\n",
    "WHERE W.Username = P.Username AND W.Ganhadores = (SELECT MAX(Winner.Ganhadores) FROM Winner)"
   ]
  },
  {
   "cell_type": "code",
   "execution_count": 7,
   "metadata": {},
   "outputs": [
    {
     "data": {
      "application/vnd.jupyter.widget-view+json": {
       "model_id": "65020805-28e7-4c06-8a2c-1eb73d722323",
       "version_major": 2,
       "version_minor": 0
      },
      "text/plain": []
     },
     "metadata": {},
     "output_type": "display_data"
    }
   ],
   "source": [
    "DROP TABLE IF EXISTS MaxOpenings;\n",
    "\n",
    "CREATE VIEW MaxOpenings AS\n",
    "SELECT G.Openings, COUNT(*) Aberturas\n",
    "    FROM Games G, Players P\n",
    "    WHERE P.Username = 'kirillgenius' AND (P.Username = G.White OR P.Username = G.Black)\n",
    "    GROUP BY G.Openings\n",
    "    ORDER BY COUNT(*) DESC;\n",
    "\n",
    "SELECT * FROM MaxOpenings"
   ]
  },
  {
   "cell_type": "code",
   "execution_count": 8,
   "metadata": {},
   "outputs": [
    {
     "data": {
      "application/vnd.jupyter.widget-view+json": {
       "model_id": "bfc9b84d-34bc-46fe-ac99-f7e8832c2e2b",
       "version_major": 2,
       "version_minor": 0
      },
      "text/plain": []
     },
     "metadata": {},
     "output_type": "display_data"
    }
   ],
   "source": [
    "SELECT G.result, COUNT (*) OCORRENCIAS\n",
    "FROM Games G\n",
    "GROUP BY G.result\n",
    "ORDER BY OCORRENCIAS DESC"
   ]
  },
  {
   "cell_type": "code",
   "execution_count": 12,
   "metadata": {},
   "outputs": [
    {
     "data": {
      "application/vnd.jupyter.widget-view+json": {
       "model_id": "05d39346-bcbc-4bbc-8e04-4170b652fa57",
       "version_major": 2,
       "version_minor": 0
      },
      "text/plain": []
     },
     "metadata": {},
     "output_type": "display_data"
    }
   ],
   "source": [
    "SELECT X.winner, COUNT (*) WINS\n",
    "FROM (SELECT G.result, G.winner,G.white,G.black\n",
    "FROM Games G\n",
    "WHERE G.winner = G.white OR G.winner = G.Black) X\n",
    "GROUP BY X.winner\n",
    "ORDER BY WINS DESC;"
   ]
  }
 ],
 "metadata": {
  "kernelspec": {
   "display_name": "SQL",
   "language": "SQL",
   "name": "python385jvsc74a57bd0380030d1298d5a27518acca789ff38fe82bbf2e68b73263de6a6bf23efb7704c"
  },
  "language_info": {
   "codemirror_mode": "sql",
   "file_extension": ".sql",
   "mimetype": "",
   "name": "SQL",
   "nbconverter_exporter": "",
   "version": ""
  },
  "orig_nbformat": 4
 },
 "nbformat": 4,
 "nbformat_minor": 2
}
