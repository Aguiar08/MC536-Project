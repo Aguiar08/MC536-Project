{
 "cells": [
  {
   "cell_type": "code",
   "execution_count": 1,
   "metadata": {},
   "outputs": [],
   "source": [
    "%defaultDatasource jdbc:h2:mem:db"
   ]
  },
  {
   "cell_type": "code",
   "execution_count": null,
   "metadata": {},
   "outputs": [],
   "source": [
    "DROP TABLE IF EXISTS TakesPromotion;\n",
    "DROP TABLE IF EXISTS Promotion;\n",
    "DROP TABLE IF EXISTS PieceMove;\n",
    "DROP TABLE IF EXISTS PawnTakes;\n",
    "DROP TABLE IF EXISTS PawnMove;\n",
    "DROP TABLE IF EXISTS Castle;\n",
    "DROP TABLE IF EXISTS Takes;\n",
    "DROP TABLE IF EXISTS Mated;\n",
    "DROP TABLE IF EXISTS RoqueG;\n",
    "DROP TABLE IF EXISTS RoqueC;\n",
    "DROP TABLE IF EXISTS AllG;\n",
    "DROP TABLE IF EXISTS Winner;\n",
    "DROP TABLE IF EXISTS MaxOpenings;\n",
    "DROP Table IF EXISTS Players;\n",
    "DROP Table IF EXISTS Games;\n",
    "DROP Table IF EXISTS Openings;"
   ]
  },
  {
   "cell_type": "markdown",
   "metadata": {},
   "source": [
    "# Criação da Tabela de Players"
   ]
  },
  {
   "cell_type": "code",
   "execution_count": 2,
   "metadata": {},
   "outputs": [],
   "source": [
    "DROP Table IF EXISTS Players;\n",
    "\n",
    "CREATE TABLE Players (\n",
    "    Username VARCHAR(25) NOT NULL,\n",
    "    Title VARCHAR(3),\n",
    "    Bullet INTEGER,\n",
    "    Blitz INTEGER,\n",
    "    Rapid INTEGER,\n",
    "    SiteName VARCHAR(10) NOT NULL,\n",
    "    PRIMARY KEY(Username, SiteName)\n",
    ") AS SELECT\n",
    "    username,\n",
    "    title,\n",
    "    bullet_rating,\n",
    "    blitz_rating,\n",
    "    rapid_rating,\n",
    "    site_name\n",
    "    FROM CSVREAD('../data/processed/all_player_list.csv')"
   ]
  },
  {
   "cell_type": "code",
   "execution_count": 31,
   "metadata": {},
   "outputs": [
    {
     "data": {
      "application/vnd.jupyter.widget-view+json": {
       "model_id": "1da25dd3-d6b9-417c-8d90-40b2afe4d90b",
       "version_major": 2,
       "version_minor": 0
      },
      "text/plain": []
     },
     "metadata": {},
     "output_type": "display_data"
    }
   ],
   "source": [
    "SELECT * FROM Players"
   ]
  },
  {
   "cell_type": "markdown",
   "metadata": {},
   "source": [
    "# Criação da Tabela de Jogos"
   ]
  },
  {
   "cell_type": "code",
   "execution_count": 3,
   "metadata": {},
   "outputs": [],
   "source": [
    "DROP Table IF EXISTS Games;\n",
    "\n",
    "CREATE TABLE Games (\n",
    "    Id VARCHAR(40) NOT NULL,\n",
    "    Ranked BOOLEAN NOT NULL,\n",
    "    Time_control VARCHAR(20) NOT NULL,\n",
    "    Result VARCHAR(20) NOT NULL,\n",
    "    Winner VARCHAR(25),\n",
    "    White VARCHAR(25) NOT NULL,\n",
    "    Black VARCHAR(25) NOT NULL,\n",
    "    Moves VARCHAR(9999),\n",
    "    Openings VARCHAR(95),\n",
    "    SiteName VARCHAR(10) NOT NULL,\n",
    "    PRIMARY KEY(Id),\n",
    ") AS SELECT\n",
    "    id,\n",
    "    ranked,\n",
    "    time_control,\n",
    "    status,\n",
    "    winner,\n",
    "    white,\n",
    "    black,\n",
    "    moves,\n",
    "    opening,\n",
    "    site_name\n",
    "    FROM CSVREAD('../data/processed/all_games.csv')"
   ]
  },
  {
   "cell_type": "code",
   "execution_count": 32,
   "metadata": {},
   "outputs": [
    {
     "data": {
      "application/vnd.jupyter.widget-view+json": {
       "model_id": "e4455b82-afc1-4a9d-9f16-991d888935a3",
       "version_major": 2,
       "version_minor": 0
      },
      "text/plain": []
     },
     "metadata": {},
     "output_type": "display_data"
    }
   ],
   "source": [
    "SELECT * FROM Games G"
   ]
  },
  {
   "cell_type": "markdown",
   "metadata": {},
   "source": [
    "# Criação da Tabela de Openings"
   ]
  },
  {
   "cell_type": "code",
   "execution_count": 4,
   "metadata": {},
   "outputs": [],
   "source": [
    "DROP Table IF EXISTS Openings;\n",
    "\n",
    "CREATE TABLE Openings (\n",
    "    Eco VARCHAR(3),\n",
    "    Opening VARCHAR(95),\n",
    "    Pgn VARCHAR(210),\n",
    "    PRIMARY KEY (Pgn)\n",
    ") AS SELECT\n",
    "    eco,\n",
    "    name,\n",
    "    pgn\n",
    "    FROM CSVREAD('../data/processed/openings.csv')"
   ]
  },
  {
   "cell_type": "code",
   "execution_count": 33,
   "metadata": {},
   "outputs": [
    {
     "data": {
      "application/vnd.jupyter.widget-view+json": {
       "model_id": "cad8f66f-4008-401f-9c60-ad6ef89b7662",
       "version_major": 2,
       "version_minor": 0
      },
      "text/plain": []
     },
     "metadata": {},
     "output_type": "display_data"
    }
   ],
   "source": [
    "SELECT * FROM Openings"
   ]
  },
  {
   "cell_type": "markdown",
   "metadata": {},
   "source": [
    "# Análises realizadas no Database"
   ]
  },
  {
   "cell_type": "code",
   "execution_count": 34,
   "metadata": {},
   "outputs": [
    {
     "data": {
      "application/vnd.jupyter.widget-view+json": {
       "model_id": "4ed85c44-f7c2-4eb3-909e-c24452c20879",
       "version_major": 2,
       "version_minor": 0
      },
      "text/plain": []
     },
     "metadata": {},
     "output_type": "display_data"
    }
   ],
   "source": [
    "SELECT * FROM Games G\n",
    "    LEFT JOIN Players PW\n",
    "    ON G.white = PW.Username AND G.SiteName = PW.SiteName\n",
    "    LEFT JOIN Players PB\n",
    "    ON G.black = PB.Username AND G.SiteName = PB.SiteName\n",
    "    "
   ]
  },
  {
   "cell_type": "code",
   "execution_count": 35,
   "metadata": {},
   "outputs": [
    {
     "data": {
      "application/vnd.jupyter.widget-view+json": {
       "model_id": "a1cdd3b9-c5d4-4a0f-950a-64f97a277e92",
       "version_major": 2,
       "version_minor": 0
      },
      "text/plain": []
     },
     "metadata": {},
     "output_type": "display_data"
    }
   ],
   "source": [
    "DROP TABLE IF EXISTS Winner;\n",
    "\n",
    "CREATE VIEW Winner AS\n",
    "SELECT P.Username, COUNT(*) Ganhadores\n",
    "    FROM Games G, Players P\n",
    "    WHERE G.Winner = P.Username AND G.SiteName = 'lichess'\n",
    "    GROUP BY P.Username;\n",
    "\n",
    "SELECT P.Username, P.Title, P.SiteName, W.Ganhadores\n",
    "FROM Winner W, Players P\n",
    "WHERE W.Username = P.Username AND W.Ganhadores = (SELECT MAX(Winner.Ganhadores) FROM Winner)"
   ]
  },
  {
   "cell_type": "code",
   "execution_count": 36,
   "metadata": {},
   "outputs": [
    {
     "data": {
      "application/vnd.jupyter.widget-view+json": {
       "model_id": "edc2fe8a-baff-41b2-836e-e37383d6ce53",
       "version_major": 2,
       "version_minor": 0
      },
      "text/plain": []
     },
     "metadata": {},
     "output_type": "display_data"
    }
   ],
   "source": [
    "DROP TABLE IF EXISTS MaxOpenings;\n",
    "\n",
    "CREATE VIEW MaxOpenings AS\n",
    "SELECT G.Openings, COUNT(*) Aberturas\n",
    "    FROM Games G, Players P\n",
    "    WHERE P.Username = 'kirillgenius' AND (P.Username = G.White OR P.Username = G.Black)\n",
    "    GROUP BY G.Openings\n",
    "    ORDER BY COUNT(*) DESC;\n",
    "\n",
    "SELECT * FROM MaxOpenings"
   ]
  },
  {
   "cell_type": "code",
   "execution_count": 37,
   "metadata": {},
   "outputs": [
    {
     "data": {
      "application/vnd.jupyter.widget-view+json": {
       "model_id": "87b6a483-9a97-4281-8021-fc75719107cf",
       "version_major": 2,
       "version_minor": 0
      },
      "text/plain": []
     },
     "metadata": {},
     "output_type": "display_data"
    }
   ],
   "source": [
    "SELECT G.result, COUNT (*) OCORRENCIAS\n",
    "FROM Games G\n",
    "GROUP BY G.result\n",
    "ORDER BY OCORRENCIAS DESC"
   ]
  },
  {
   "cell_type": "code",
   "execution_count": 38,
   "metadata": {},
   "outputs": [
    {
     "data": {
      "application/vnd.jupyter.widget-view+json": {
       "model_id": "2a7e9e48-8c2b-4f58-87a6-e592acb2218b",
       "version_major": 2,
       "version_minor": 0
      },
      "text/plain": []
     },
     "metadata": {},
     "output_type": "display_data"
    }
   ],
   "source": [
    "SELECT X.winner, COUNT (*) WINS\n",
    "FROM (SELECT G.result, G.winner,G.white,G.black\n",
    "FROM Games G\n",
    "WHERE G.winner = G.white OR G.winner = G.Black) X\n",
    "GROUP BY X.winner\n",
    "ORDER BY WINS DESC;"
   ]
  },
  {
   "cell_type": "code",
   "execution_count": 10,
   "metadata": {},
   "outputs": [],
   "source": [
    "SELECT G.Result, P.Title, COUNT(*) Resultados, COUNT(*) Title\n",
    "    FROM Games G, Players P\n",
    "    GROUP BY G.Result, P.Title;\n",
    "\n",
    "SELECT distributor_id,\n",
    "    count(*) AS total,\n",
    "    sum(case when level = 'exec' then 1 else 0 end) AS ExecCount,\n",
    "    sum(case when level = 'personal' then 1 else 0 end) AS PersonalCount\n",
    "FROM yourtable\n",
    "GROUP BY distributor_id"
   ]
  },
  {
   "cell_type": "code",
   "execution_count": 5,
   "metadata": {},
   "outputs": [
    {
     "data": {
      "application/vnd.jupyter.widget-view+json": {
       "model_id": "5c790296-3288-4462-bde5-85fd590cb5ec",
       "version_major": 2,
       "version_minor": 0
      },
      "text/plain": []
     },
     "metadata": {},
     "output_type": "display_data"
    }
   ],
   "source": [
    "DROP TABLE IF EXISTS RoqueG;\n",
    "DROP TABLE IF EXISTS RoqueC;\n",
    "DROP TABLE IF EXISTS AllG;\n",
    "\n",
    "CREATE VIEW AllG AS\n",
    "SELECT COUNT(*) Total\n",
    "FROM GAMES G;\n",
    "\n",
    "CREATE VIEW RoqueG AS\n",
    "SELECT COUNT(*) RoqueGrande\n",
    "FROM GAMES G \n",
    "WHERE MOVES like '%O-O-O%';\n",
    "\n",
    "CREATE VIEW RoqueC AS\n",
    "SELECT COUNT(*) RoqueCurto\n",
    "FROM GAMES G \n",
    "WHERE MOVES like '% O-O %' OR MOVES like '% O-O+%' OR MOVES like '% O-O#%';\n",
    "\n",
    "SELECT G.Total, RG.RoqueGrande, RC.RoqueCurto, (RG.RoqueGrande + RC.RoqueCurto) AS Roques\n",
    "FROM RoqueG RG, RoqueC RC, AllG G\n"
   ]
  },
  {
   "cell_type": "code",
   "execution_count": 58,
   "metadata": {},
   "outputs": [
    {
     "data": {
      "application/vnd.jupyter.widget-view+json": {
       "model_id": "c420f862-7323-47fa-8b91-b453643bb98e",
       "version_major": 2,
       "version_minor": 0
      },
      "text/plain": []
     },
     "metadata": {},
     "output_type": "display_data"
    }
   ],
   "source": [
    "DROP TABLE IF EXISTS TakesPromotion;\n",
    "DROP TABLE IF EXISTS Promotion;\n",
    "DROP TABLE IF EXISTS PieceMove;\n",
    "DROP TABLE IF EXISTS PawnTakes;\n",
    "DROP TABLE IF EXISTS PawnMove;\n",
    "DROP TABLE IF EXISTS Castle;\n",
    "DROP TABLE IF EXISTS Takes;\n",
    "DROP TABLE IF EXISTS Mated;\n",
    "\n",
    "CREATE VIEW Mated AS\n",
    "    SELECT *\n",
    "    FROM GAMES G\n",
    "    WHERE MOVES like '%#%';\n",
    "\n",
    "CREATE VIEW TakesPromotion AS\n",
    "    SELECT LEFT(RIGHT(M.MOVES,11),7)\n",
    "    FROM Mated M\n",
    "    WHERE CHARINDEX(' ', LEFT(RIGHT(M.MOVES,11),7)) = 0;\n",
    "\n",
    "CREATE VIEW PawnMove AS\n",
    "    SELECT LEFT(RIGHT(M.MOVES,11),7)\n",
    "    FROM Mated M\n",
    "    WHERE CHARINDEX(' ', LEFT(RIGHT(M.MOVES,11),7)) = 0;\n",
    "\n",
    "SELECT * From TakesPromotion"
   ]
  }
 ],
 "metadata": {
  "kernelspec": {
   "display_name": "SQL",
   "language": "SQL",
   "name": "python395jvsc74a57bd033c65ec6b038a144e75867a195871cfb83022092cf8bef49097819ac44900014"
  },
  "language_info": {
   "codemirror_mode": "sql",
   "file_extension": ".sql",
   "mimetype": "",
   "name": "SQL",
   "nbconverter_exporter": "",
   "version": ""
  },
  "orig_nbformat": 4
 },
 "nbformat": 4,
 "nbformat_minor": 2
}
