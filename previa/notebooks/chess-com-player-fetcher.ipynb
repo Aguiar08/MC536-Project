{
 "cells": [
  {
   "cell_type": "code",
   "execution_count": 1,
   "id": "d73a96c5",
   "metadata": {
    "ExecuteTime": {
     "end_time": "2021-11-05T12:52:12.637472Z",
     "start_time": "2021-11-05T12:52:10.508837Z"
    }
   },
   "outputs": [],
   "source": [
    "import numpy as np\n",
    "import pandas as pd\n",
    "import matplotlib.pyplot as plt\n",
    "%matplotlib inline"
   ]
  },
  {
   "cell_type": "code",
   "execution_count": null,
   "id": "13a483c1",
   "metadata": {
    "ExecuteTime": {
     "end_time": "2021-11-05T12:52:50.838645Z",
     "start_time": "2021-11-05T12:52:47.430201Z"
    }
   },
   "outputs": [],
   "source": [
    "# resolve erro \"This event loop is already running\"\n",
    "!pip install nest_asyncio\n",
    "import nest_asyncio\n",
    "nest_asyncio.apply()"
   ]
  },
  {
   "cell_type": "code",
   "execution_count": 5,
   "id": "e14a0706",
   "metadata": {
    "ExecuteTime": {
     "end_time": "2021-11-05T12:52:58.464271Z",
     "start_time": "2021-11-05T12:52:58.443693Z"
    }
   },
   "outputs": [],
   "source": [
    "# instala e importa https://github.com/sarartur/chess.com\n",
    "# wrapper para dados publicados pelo chess.com\n",
    "!pip install chessdotcom\n",
    "import chessdotcom"
   ]
  },
  {
   "cell_type": "code",
   "execution_count": 43,
   "id": "dc18c3a7",
   "metadata": {
    "ExecuteTime": {
     "end_time": "2021-11-05T13:20:37.230898Z",
     "start_time": "2021-11-05T13:20:36.063491Z"
    }
   },
   "outputs": [],
   "source": [
    "# pega o nome dos players e coloca os titulos em duas listas\n",
    "player_names = []\n",
    "player_titles = []\n",
    "\n",
    "titles = ['GM', 'NM', 'FM', 'NM', 'CM', 'WGM']\n",
    "\n",
    "for i in titles:\n",
    "    response = chessdotcom.get_titled_players(i)\n",
    "    player_names = player_names + response.json['players']\n",
    "    for j in range(len(response.json['players'])):\n",
    "        player_titles.append(i)\n",
    "    "
   ]
  },
  {
   "cell_type": "code",
   "execution_count": null,
   "id": "6d7b3255",
   "metadata": {},
   "outputs": [],
   "source": [
    "# listas para guardar os ratings dos players\n",
    "player_rapid = []\n",
    "player_blitz = []\n",
    "player_bullet = []\n"
   ]
  },
  {
   "cell_type": "code",
   "execution_count": 118,
   "id": "602286bf",
   "metadata": {
    "ExecuteTime": {
     "end_time": "2021-11-05T16:00:54.031067Z",
     "start_time": "2021-11-05T15:51:43.803545Z"
    }
   },
   "outputs": [],
   "source": [
    "# loop pra pegar os ratings de cada players - peguei de pouquinho em pouquinho por isso começa do 7425\n",
    "for i in player_names[7425:]:\n",
    "    try:\n",
    "        response = chessdotcom.get_player_stats(i)\n",
    "        try:\n",
    "            player_rapid.append(response.json['stats']['chess_rapid']['last']['rating'])\n",
    "        except:\n",
    "            player_rapid.append(0)\n",
    "        try:\n",
    "            player_blitz.append(response.json['stats']['chess_blitz']['last']['rating'])\n",
    "        except:\n",
    "            player_blitz.append(0)\n",
    "        try:\n",
    "            player_bullet.append(response.json['stats']['chess_bullet']['last']['rating'])\n",
    "        except:\n",
    "            player_bullet.append(0)\n",
    "    except:\n",
    "        # tem uns players que a conta nao existe mais (especificamente o 7424)\n",
    "        player_rapid.append(0)\n",
    "        player_blitz.append(0)\n",
    "        player_bullet.append(0)"
   ]
  },
  {
   "cell_type": "code",
   "execution_count": 131,
   "id": "0508753a",
   "metadata": {
    "ExecuteTime": {
     "end_time": "2021-11-05T18:13:37.486674Z",
     "start_time": "2021-11-05T18:13:37.462596Z"
    }
   },
   "outputs": [
    {
     "data": {
      "text/plain": [
       "8561"
      ]
     },
     "execution_count": 131,
     "metadata": {},
     "output_type": "execute_result"
    }
   ],
   "source": [
    "len(player_rapid)"
   ]
  },
  {
   "cell_type": "code",
   "execution_count": 130,
   "id": "74fc0fd0",
   "metadata": {
    "ExecuteTime": {
     "end_time": "2021-11-05T16:19:50.884058Z",
     "start_time": "2021-11-05T16:19:50.867003Z"
    },
    "scrolled": true
   },
   "outputs": [
    {
     "data": {
      "text/plain": [
       "{'stats': {'chess_blitz': {'last': {'rating': 1317,\n",
       "    'date': 1590701699,\n",
       "    'rd': 223},\n",
       "   'best': {'rating': 1317,\n",
       "    'date': 1590701699,\n",
       "    'game': 'https://www.chess.com/game/live/4921218792'},\n",
       "   'record': {'win': 2, 'loss': 0, 'draw': 0}},\n",
       "  'fide': 0,\n",
       "  'tactics': {'highest': {'rating': 1623, 'date': 1614708985},\n",
       "   'lowest': {'rating': 416, 'date': 1590289785}},\n",
       "  'lessons': {},\n",
       "  'puzzle_rush': {'best': {'total_attempts': 27, 'score': 24}}}}"
      ]
     },
     "execution_count": 130,
     "metadata": {},
     "output_type": "execute_result"
    }
   ],
   "source": [
    "response.json"
   ]
  },
  {
   "cell_type": "code",
   "execution_count": 122,
   "id": "08152dd4",
   "metadata": {
    "ExecuteTime": {
     "end_time": "2021-11-05T16:02:39.195071Z",
     "start_time": "2021-11-05T16:02:38.949246Z"
    }
   },
   "outputs": [
    {
     "data": {
      "text/html": [
       "<div>\n",
       "<style scoped>\n",
       "    .dataframe tbody tr th:only-of-type {\n",
       "        vertical-align: middle;\n",
       "    }\n",
       "\n",
       "    .dataframe tbody tr th {\n",
       "        vertical-align: top;\n",
       "    }\n",
       "\n",
       "    .dataframe thead th {\n",
       "        text-align: right;\n",
       "    }\n",
       "</style>\n",
       "<table border=\"1\" class=\"dataframe\">\n",
       "  <thead>\n",
       "    <tr style=\"text-align: right;\">\n",
       "      <th></th>\n",
       "      <th>username</th>\n",
       "      <th>title</th>\n",
       "      <th>bullet_rating</th>\n",
       "      <th>blitz_rating</th>\n",
       "      <th>rapid_rating</th>\n",
       "    </tr>\n",
       "  </thead>\n",
       "  <tbody>\n",
       "    <tr>\n",
       "      <th>0</th>\n",
       "      <td>123lt</td>\n",
       "      <td>GM</td>\n",
       "      <td>2725</td>\n",
       "      <td>2704</td>\n",
       "      <td>2482</td>\n",
       "    </tr>\n",
       "    <tr>\n",
       "      <th>1</th>\n",
       "      <td>124chess</td>\n",
       "      <td>GM</td>\n",
       "      <td>2512</td>\n",
       "      <td>2713</td>\n",
       "      <td>2244</td>\n",
       "    </tr>\n",
       "    <tr>\n",
       "      <th>2</th>\n",
       "      <td>1977ivan</td>\n",
       "      <td>GM</td>\n",
       "      <td>2650</td>\n",
       "      <td>2707</td>\n",
       "      <td>2342</td>\n",
       "    </tr>\n",
       "    <tr>\n",
       "      <th>3</th>\n",
       "      <td>1stsecond</td>\n",
       "      <td>GM</td>\n",
       "      <td>2851</td>\n",
       "      <td>2655</td>\n",
       "      <td>2496</td>\n",
       "    </tr>\n",
       "    <tr>\n",
       "      <th>4</th>\n",
       "      <td>4thd-alpeacefulmoon</td>\n",
       "      <td>GM</td>\n",
       "      <td>0</td>\n",
       "      <td>0</td>\n",
       "      <td>0</td>\n",
       "    </tr>\n",
       "    <tr>\n",
       "      <th>...</th>\n",
       "      <td>...</td>\n",
       "      <td>...</td>\n",
       "      <td>...</td>\n",
       "      <td>...</td>\n",
       "      <td>...</td>\n",
       "    </tr>\n",
       "    <tr>\n",
       "      <th>8556</th>\n",
       "      <td>yaris9</td>\n",
       "      <td>WGM</td>\n",
       "      <td>2440</td>\n",
       "      <td>2451</td>\n",
       "      <td>2330</td>\n",
       "    </tr>\n",
       "    <tr>\n",
       "      <th>8557</th>\n",
       "      <td>yennefer1</td>\n",
       "      <td>WGM</td>\n",
       "      <td>2304</td>\n",
       "      <td>2436</td>\n",
       "      <td>2267</td>\n",
       "    </tr>\n",
       "    <tr>\n",
       "      <th>8558</th>\n",
       "      <td>yileai</td>\n",
       "      <td>WGM</td>\n",
       "      <td>0</td>\n",
       "      <td>2314</td>\n",
       "      <td>2167</td>\n",
       "    </tr>\n",
       "    <tr>\n",
       "      <th>8559</th>\n",
       "      <td>zefirka</td>\n",
       "      <td>WGM</td>\n",
       "      <td>2443</td>\n",
       "      <td>2463</td>\n",
       "      <td>1980</td>\n",
       "    </tr>\n",
       "    <tr>\n",
       "      <th>8560</th>\n",
       "      <td>zombik1</td>\n",
       "      <td>WGM</td>\n",
       "      <td>0</td>\n",
       "      <td>2372</td>\n",
       "      <td>0</td>\n",
       "    </tr>\n",
       "  </tbody>\n",
       "</table>\n",
       "<p>8561 rows × 5 columns</p>\n",
       "</div>"
      ],
      "text/plain": [
       "                 username title  bullet_rating  blitz_rating  rapid_rating\n",
       "0                   123lt    GM           2725          2704          2482\n",
       "1                124chess    GM           2512          2713          2244\n",
       "2                1977ivan    GM           2650          2707          2342\n",
       "3               1stsecond    GM           2851          2655          2496\n",
       "4     4thd-alpeacefulmoon    GM              0             0             0\n",
       "...                   ...   ...            ...           ...           ...\n",
       "8556               yaris9   WGM           2440          2451          2330\n",
       "8557            yennefer1   WGM           2304          2436          2267\n",
       "8558               yileai   WGM              0          2314          2167\n",
       "8559              zefirka   WGM           2443          2463          1980\n",
       "8560              zombik1   WGM              0          2372             0\n",
       "\n",
       "[8561 rows x 5 columns]"
      ]
     },
     "execution_count": 122,
     "metadata": {},
     "output_type": "execute_result"
    }
   ],
   "source": [
    "# dataframe com os jogadores, titulo e ratings\n",
    "players = pd.DataFrame({'username': player_names,'title':player_titles, 'bullet_rating': player_bullet, 'blitz_rating': player_blitz, 'rapid_rating': player_rapid, })\n",
    "players"
   ]
  },
  {
   "cell_type": "code",
   "execution_count": 123,
   "id": "206785f3",
   "metadata": {
    "ExecuteTime": {
     "end_time": "2021-11-05T16:12:22.550448Z",
     "start_time": "2021-11-05T16:12:22.420016Z"
    }
   },
   "outputs": [],
   "source": [
    "# salva em csv\n",
    "players.to_csv('../data/interim/player_list_chesscom.csv',index = False)"
   ]
  }
 ],
 "metadata": {
  "kernelspec": {
   "display_name": "Python 3",
   "language": "python",
   "name": "python3"
  },
  "language_info": {
   "codemirror_mode": {
    "name": "ipython",
    "version": 3
   },
   "file_extension": ".py",
   "mimetype": "text/x-python",
   "name": "python",
   "nbconvert_exporter": "python",
   "pygments_lexer": "ipython3",
   "version": "3.8.5"
  },
  "toc": {
   "base_numbering": 1,
   "nav_menu": {},
   "number_sections": false,
   "sideBar": false,
   "skip_h1_title": false,
   "title_cell": "Table of Contents",
   "title_sidebar": "Contents",
   "toc_cell": false,
   "toc_position": {},
   "toc_section_display": false,
   "toc_window_display": false
  }
 },
 "nbformat": 4,
 "nbformat_minor": 5
}
