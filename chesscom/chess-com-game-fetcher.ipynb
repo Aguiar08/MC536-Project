{
 "cells": [
  {
   "cell_type": "code",
   "execution_count": 1,
   "id": "0705b521",
   "metadata": {
    "ExecuteTime": {
     "end_time": "2021-11-07T00:53:03.028905Z",
     "start_time": "2021-11-07T00:53:03.017871Z"
    }
   },
   "outputs": [],
   "source": [
    "import re\n",
    "import urllib\n",
    "import urllib.request\n",
    "import numpy as np\n",
    "import pandas as pd\n",
    "import matplotlib.pyplot as plt\n",
    "import seaborn as sns\n",
    "import json\n",
    "%matplotlib inline\n",
    "plt.style.use('ggplot')\n",
    "sns.set_style('darkgrid')"
   ]
  },
  {
   "cell_type": "code",
   "execution_count": 2,
   "id": "12c7fbfe",
   "metadata": {
    "ExecuteTime": {
     "end_time": "2021-11-07T00:53:04.256503Z",
     "start_time": "2021-11-07T00:53:04.250481Z"
    }
   },
   "outputs": [],
   "source": [
    "# embaralhei a lista de players pra nao pegar só de GM - NAO PRECISA RODAR ESSA CEDULA DNV\n",
    "# shuffled_players.to_csv('shuffled_player_list_chesscom.csv',index = False)"
   ]
  },
  {
   "cell_type": "code",
   "execution_count": 3,
   "id": "b434b879",
   "metadata": {
    "ExecuteTime": {
     "end_time": "2021-11-07T00:53:05.087775Z",
     "start_time": "2021-11-07T00:53:05.060685Z"
    }
   },
   "outputs": [],
   "source": [
    "players = pd.read_csv('shuffled_player_list_chesscom.csv')"
   ]
  },
  {
   "cell_type": "code",
   "execution_count": 4,
   "id": "564eb5fe",
   "metadata": {
    "ExecuteTime": {
     "end_time": "2021-11-07T00:53:05.993797Z",
     "start_time": "2021-11-07T00:53:05.974736Z"
    }
   },
   "outputs": [
    {
     "data": {
      "text/html": [
       "<div>\n",
       "<style scoped>\n",
       "    .dataframe tbody tr th:only-of-type {\n",
       "        vertical-align: middle;\n",
       "    }\n",
       "\n",
       "    .dataframe tbody tr th {\n",
       "        vertical-align: top;\n",
       "    }\n",
       "\n",
       "    .dataframe thead th {\n",
       "        text-align: right;\n",
       "    }\n",
       "</style>\n",
       "<table border=\"1\" class=\"dataframe\">\n",
       "  <thead>\n",
       "    <tr style=\"text-align: right;\">\n",
       "      <th></th>\n",
       "      <th>username</th>\n",
       "      <th>title</th>\n",
       "      <th>bullet_rating</th>\n",
       "      <th>blitz_rating</th>\n",
       "      <th>rapid_rating</th>\n",
       "    </tr>\n",
       "  </thead>\n",
       "  <tbody>\n",
       "    <tr>\n",
       "      <th>0</th>\n",
       "      <td>michaelq2d5</td>\n",
       "      <td>GM</td>\n",
       "      <td>2793</td>\n",
       "      <td>2765</td>\n",
       "      <td>2903</td>\n",
       "    </tr>\n",
       "    <tr>\n",
       "      <th>1</th>\n",
       "      <td>bernd_stromberg</td>\n",
       "      <td>CM</td>\n",
       "      <td>2619</td>\n",
       "      <td>2701</td>\n",
       "      <td>0</td>\n",
       "    </tr>\n",
       "    <tr>\n",
       "      <th>2</th>\n",
       "      <td>g2_coder</td>\n",
       "      <td>FM</td>\n",
       "      <td>2350</td>\n",
       "      <td>2200</td>\n",
       "      <td>0</td>\n",
       "    </tr>\n",
       "    <tr>\n",
       "      <th>3</th>\n",
       "      <td>mennabarreto</td>\n",
       "      <td>FM</td>\n",
       "      <td>2251</td>\n",
       "      <td>2407</td>\n",
       "      <td>0</td>\n",
       "    </tr>\n",
       "    <tr>\n",
       "      <th>4</th>\n",
       "      <td>radojeiriz</td>\n",
       "      <td>FM</td>\n",
       "      <td>2388</td>\n",
       "      <td>2271</td>\n",
       "      <td>2489</td>\n",
       "    </tr>\n",
       "    <tr>\n",
       "      <th>...</th>\n",
       "      <td>...</td>\n",
       "      <td>...</td>\n",
       "      <td>...</td>\n",
       "      <td>...</td>\n",
       "      <td>...</td>\n",
       "    </tr>\n",
       "    <tr>\n",
       "      <th>8556</th>\n",
       "      <td>skiiier</td>\n",
       "      <td>FM</td>\n",
       "      <td>2492</td>\n",
       "      <td>2477</td>\n",
       "      <td>0</td>\n",
       "    </tr>\n",
       "    <tr>\n",
       "      <th>8557</th>\n",
       "      <td>volodymyrmolyboha</td>\n",
       "      <td>NM</td>\n",
       "      <td>2431</td>\n",
       "      <td>2503</td>\n",
       "      <td>2189</td>\n",
       "    </tr>\n",
       "    <tr>\n",
       "      <th>8558</th>\n",
       "      <td>miodrag-jevtic</td>\n",
       "      <td>FM</td>\n",
       "      <td>2378</td>\n",
       "      <td>2356</td>\n",
       "      <td>1936</td>\n",
       "    </tr>\n",
       "    <tr>\n",
       "      <th>8559</th>\n",
       "      <td>jerryle</td>\n",
       "      <td>NM</td>\n",
       "      <td>2214</td>\n",
       "      <td>2251</td>\n",
       "      <td>1365</td>\n",
       "    </tr>\n",
       "    <tr>\n",
       "      <th>8560</th>\n",
       "      <td>crni_ns</td>\n",
       "      <td>FM</td>\n",
       "      <td>2036</td>\n",
       "      <td>2328</td>\n",
       "      <td>1833</td>\n",
       "    </tr>\n",
       "  </tbody>\n",
       "</table>\n",
       "<p>8561 rows × 5 columns</p>\n",
       "</div>"
      ],
      "text/plain": [
       "               username title  bullet_rating  blitz_rating  rapid_rating\n",
       "0           michaelq2d5    GM           2793          2765          2903\n",
       "1       bernd_stromberg    CM           2619          2701             0\n",
       "2              g2_coder    FM           2350          2200             0\n",
       "3          mennabarreto    FM           2251          2407             0\n",
       "4            radojeiriz    FM           2388          2271          2489\n",
       "...                 ...   ...            ...           ...           ...\n",
       "8556            skiiier    FM           2492          2477             0\n",
       "8557  volodymyrmolyboha    NM           2431          2503          2189\n",
       "8558     miodrag-jevtic    FM           2378          2356          1936\n",
       "8559            jerryle    NM           2214          2251          1365\n",
       "8560            crni_ns    FM           2036          2328          1833\n",
       "\n",
       "[8561 rows x 5 columns]"
      ]
     },
     "execution_count": 4,
     "metadata": {},
     "output_type": "execute_result"
    }
   ],
   "source": [
    "players"
   ]
  },
  {
   "cell_type": "code",
   "execution_count": 5,
   "id": "4065c550",
   "metadata": {
    "ExecuteTime": {
     "end_time": "2021-11-07T00:53:10.865039Z",
     "start_time": "2021-11-07T00:53:08.222737Z"
    }
   },
   "outputs": [
    {
     "name": "stdout",
     "output_type": "stream",
     "text": [
      "Requirement already satisfied: nest_asyncio in c:\\users\\brnta\\anaconda3\\lib\\site-packages (1.5.1)\n"
     ]
    }
   ],
   "source": [
    "# resolve erro \"This event loop is already running\"\n",
    "!pip install nest_asyncio\n",
    "import nest_asyncio\n",
    "nest_asyncio.apply()"
   ]
  },
  {
   "cell_type": "code",
   "execution_count": 6,
   "id": "e577dc6c",
   "metadata": {
    "ExecuteTime": {
     "end_time": "2021-11-07T00:53:13.003223Z",
     "start_time": "2021-11-07T00:53:11.392316Z"
    }
   },
   "outputs": [
    {
     "name": "stderr",
     "output_type": "stream",
     "text": [
      "ERROR: Could not find a version that satisfies the requirement chessdotcom\n",
      "ERROR: No matching distribution found for chessdotcom\n"
     ]
    }
   ],
   "source": [
    "# instala e importa https://github.com/sarartur/chess.com\n",
    "# wrapper para dados publicados pelo chess.com\n",
    "!pip install chessdotcom\n",
    "import chessdotcom"
   ]
  },
  {
   "cell_type": "code",
   "execution_count": 26,
   "id": "09d2de4a",
   "metadata": {
    "ExecuteTime": {
     "end_time": "2021-11-07T00:56:53.435646Z",
     "start_time": "2021-11-07T00:56:53.426616Z"
    }
   },
   "outputs": [],
   "source": [
    "# peguei um role do stack overflow e editei, pega os anos/meses que teve jogo de cada pessoa\n",
    "\n",
    "def getDates(user):\n",
    "    username = user #change \n",
    "    baseUrl = \"https://api.chess.com/pub/player/\" + username + \"/games/\"\n",
    "    archivesUrl = baseUrl + \"archives\"\n",
    "\n",
    "    #read the archives url and store in a list\n",
    "    f = urllib.request.urlopen(archivesUrl)\n",
    "    archives = f.read().decode(\"utf-8\")\n",
    "    archives = archives.replace(\"{\\\"archives\\\":[\\\"\", \"\\\",\\\"\")\n",
    "    archivesList = archives.split(\"\\\",\\\"\" + baseUrl)\n",
    "    archivesList[len(archivesList)-1] = archivesList[len(archivesList)-1].rstrip(\"\\\"]}\")\n",
    "    #print(archivesList)\n",
    "    month = []\n",
    "    year = []\n",
    "    if archivesList[0] == '{\"archives\":[':\n",
    "        print('Erro - Jogador não possui partidas registradas')\n",
    "        return(month, year) \n",
    "    archivesList.remove('')\n",
    "    for i in archivesList:\n",
    "        year.append(int(i[0:4]))\n",
    "        month.append(int(i[5:]))\n",
    "    return(month, year)"
   ]
  },
  {
   "cell_type": "code",
   "execution_count": 8,
   "id": "a1f5f2a6",
   "metadata": {
    "ExecuteTime": {
     "end_time": "2021-11-07T00:53:15.428338Z",
     "start_time": "2021-11-07T00:53:15.412284Z"
    }
   },
   "outputs": [
    {
     "data": {
      "text/html": [
       "<div>\n",
       "<style scoped>\n",
       "    .dataframe tbody tr th:only-of-type {\n",
       "        vertical-align: middle;\n",
       "    }\n",
       "\n",
       "    .dataframe tbody tr th {\n",
       "        vertical-align: top;\n",
       "    }\n",
       "\n",
       "    .dataframe thead th {\n",
       "        text-align: right;\n",
       "    }\n",
       "</style>\n",
       "<table border=\"1\" class=\"dataframe\">\n",
       "  <thead>\n",
       "    <tr style=\"text-align: right;\">\n",
       "      <th></th>\n",
       "      <th>id</th>\n",
       "      <th>ranked</th>\n",
       "      <th>time_control</th>\n",
       "      <th>status</th>\n",
       "      <th>winner</th>\n",
       "      <th>white</th>\n",
       "      <th>black</th>\n",
       "      <th>moves</th>\n",
       "    </tr>\n",
       "  </thead>\n",
       "  <tbody>\n",
       "  </tbody>\n",
       "</table>\n",
       "</div>"
      ],
      "text/plain": [
       "Empty DataFrame\n",
       "Columns: [id, ranked, time_control, status, winner, white, black, moves]\n",
       "Index: []"
      ]
     },
     "execution_count": 8,
     "metadata": {},
     "output_type": "execute_result"
    }
   ],
   "source": [
    "games_db = pd.read_csv('empty_games.csv')\n",
    "games_db.head()"
   ]
  },
  {
   "cell_type": "code",
   "execution_count": 9,
   "id": "375b685b",
   "metadata": {
    "ExecuteTime": {
     "end_time": "2021-11-07T00:53:17.979870Z",
     "start_time": "2021-11-07T00:53:17.961813Z"
    }
   },
   "outputs": [],
   "source": [
    "def checkstatus(white_result, black_result):\n",
    "    if white_result != 'win':\n",
    "        return white_result\n",
    "    else:\n",
    "        return black_result\n",
    "    \n",
    "def checkwinner(white, black):\n",
    "    if white['result'] == 'win':\n",
    "        return white['username']\n",
    "    elif black['result'] == 'win':\n",
    "        return black['username']\n",
    "    else:\n",
    "        return 'draw'\n",
    "\n",
    "def trataPGN(pgn):\n",
    "    # remove clock\n",
    "    txt = '{\\[%clk \\d+:\\d+:\\d+(\\.\\d+)?\\]}'\n",
    "    a = re.sub(txt, \"\", pgn)\n",
    "\n",
    "    # remove header\n",
    "    txt = '\\[.+\\]'\n",
    "    a = re.sub(txt, \"\", a)\n",
    "    a\n",
    "\n",
    "    # remove \\n\n",
    "    txt = '\\\\n'\n",
    "    a = re.sub(txt, \"\", a)\n",
    "    a\n",
    "    \n",
    "    return(a)    "
   ]
  },
  {
   "cell_type": "code",
   "execution_count": 27,
   "id": "47de2d42",
   "metadata": {
    "ExecuteTime": {
     "end_time": "2021-11-07T00:53:26.232972Z",
     "start_time": "2021-11-07T00:53:26.222940Z"
    }
   },
   "outputs": [
    {
     "data": {
      "text/html": [
       "<div>\n",
       "<style scoped>\n",
       "    .dataframe tbody tr th:only-of-type {\n",
       "        vertical-align: middle;\n",
       "    }\n",
       "\n",
       "    .dataframe tbody tr th {\n",
       "        vertical-align: top;\n",
       "    }\n",
       "\n",
       "    .dataframe thead th {\n",
       "        text-align: right;\n",
       "    }\n",
       "</style>\n",
       "<table border=\"1\" class=\"dataframe\">\n",
       "  <thead>\n",
       "    <tr style=\"text-align: right;\">\n",
       "      <th></th>\n",
       "      <th>username</th>\n",
       "      <th>title</th>\n",
       "      <th>bullet_rating</th>\n",
       "      <th>blitz_rating</th>\n",
       "      <th>rapid_rating</th>\n",
       "    </tr>\n",
       "  </thead>\n",
       "  <tbody>\n",
       "    <tr>\n",
       "      <th>20</th>\n",
       "      <td>king_kinto</td>\n",
       "      <td>CM</td>\n",
       "      <td>2150</td>\n",
       "      <td>2219</td>\n",
       "      <td>2099</td>\n",
       "    </tr>\n",
       "    <tr>\n",
       "      <th>21</th>\n",
       "      <td>sidarun</td>\n",
       "      <td>NM</td>\n",
       "      <td>2248</td>\n",
       "      <td>2237</td>\n",
       "      <td>2177</td>\n",
       "    </tr>\n",
       "    <tr>\n",
       "      <th>22</th>\n",
       "      <td>tittanok</td>\n",
       "      <td>GM</td>\n",
       "      <td>0</td>\n",
       "      <td>0</td>\n",
       "      <td>0</td>\n",
       "    </tr>\n",
       "    <tr>\n",
       "      <th>23</th>\n",
       "      <td>taxticsw2</td>\n",
       "      <td>FM</td>\n",
       "      <td>2678</td>\n",
       "      <td>0</td>\n",
       "      <td>0</td>\n",
       "    </tr>\n",
       "    <tr>\n",
       "      <th>24</th>\n",
       "      <td>jovencata</td>\n",
       "      <td>CM</td>\n",
       "      <td>2414</td>\n",
       "      <td>2540</td>\n",
       "      <td>2045</td>\n",
       "    </tr>\n",
       "  </tbody>\n",
       "</table>\n",
       "</div>"
      ],
      "text/plain": [
       "      username title  bullet_rating  blitz_rating  rapid_rating\n",
       "20  king_kinto    CM           2150          2219          2099\n",
       "21     sidarun    NM           2248          2237          2177\n",
       "22    tittanok    GM              0             0             0\n",
       "23   taxticsw2    FM           2678             0             0\n",
       "24   jovencata    CM           2414          2540          2045"
      ]
     },
     "execution_count": 27,
     "metadata": {},
     "output_type": "execute_result"
    }
   ],
   "source": [
    "# escolhe que jogadores voce quer pegar\n",
    "players_to_db = players[20:25]\n",
    "players_to_db.head()"
   ]
  },
  {
   "cell_type": "code",
   "execution_count": 28,
   "id": "a94209da",
   "metadata": {
    "ExecuteTime": {
     "end_time": "2021-11-07T01:17:41.236636Z",
     "start_time": "2021-11-07T00:57:45.792525Z"
    }
   },
   "outputs": [
    {
     "name": "stdout",
     "output_type": "stream",
     "text": [
      "king_kinto\n",
      "sidarun\n",
      "Erro - Jogador não possui partidas registradas\n",
      "tittanok\n",
      "taxticsw2\n",
      "jovencata\n"
     ]
    }
   ],
   "source": [
    "games_db = pd.read_csv('empty_games.csv')\n",
    "\n",
    "for k in players_to_db['username']:\n",
    "    month, year = getDates(k)\n",
    "    print(k)\n",
    "    for i in range(len(month)):\n",
    "        response = chessdotcom.get_player_games_by_month(k,month=month[i],year=year[i]).json\n",
    "        for j in (response['games']):\n",
    "            try:\n",
    "                temp = {\n",
    "                    'id':j['uuid'],\n",
    "                    'ranked':j['rated'],\n",
    "                    'time_control': j['time_class'],\n",
    "                    'status': checkstatus(j['white']['result'],j['black']['result']),\n",
    "                    'winner': checkwinner(j['white'],j['black']),\n",
    "                    'white': (j['white']['username']),\n",
    "                    'black': (j['black']['username']),\n",
    "                    'moves': trataPGN(j['pgn'])\n",
    "                }\n",
    "                #print((j['white']['result'],j['black']['result']))\n",
    "                games_db = games_db.append(temp,ignore_index=True)\n",
    "            except:\n",
    "                temp = 0"
   ]
  },
  {
   "cell_type": "code",
   "execution_count": 29,
   "id": "1eadf9d3",
   "metadata": {
    "ExecuteTime": {
     "end_time": "2021-11-07T01:30:47.786561Z",
     "start_time": "2021-11-07T01:30:47.720341Z"
    }
   },
   "outputs": [
    {
     "data": {
      "text/html": [
       "<div>\n",
       "<style scoped>\n",
       "    .dataframe tbody tr th:only-of-type {\n",
       "        vertical-align: middle;\n",
       "    }\n",
       "\n",
       "    .dataframe tbody tr th {\n",
       "        vertical-align: top;\n",
       "    }\n",
       "\n",
       "    .dataframe thead th {\n",
       "        text-align: right;\n",
       "    }\n",
       "</style>\n",
       "<table border=\"1\" class=\"dataframe\">\n",
       "  <thead>\n",
       "    <tr style=\"text-align: right;\">\n",
       "      <th></th>\n",
       "      <th>id</th>\n",
       "      <th>ranked</th>\n",
       "      <th>time_control</th>\n",
       "      <th>status</th>\n",
       "      <th>winner</th>\n",
       "      <th>white</th>\n",
       "      <th>black</th>\n",
       "      <th>moves</th>\n",
       "    </tr>\n",
       "  </thead>\n",
       "  <tbody>\n",
       "    <tr>\n",
       "      <th>0</th>\n",
       "      <td>e851f078-3af7-11dd-8000-000000010001</td>\n",
       "      <td>True</td>\n",
       "      <td>blitz</td>\n",
       "      <td>resigned</td>\n",
       "      <td>king_kinto</td>\n",
       "      <td>king_kinto</td>\n",
       "      <td>chesspartner123</td>\n",
       "      <td>1. d4  1... Nf6  2. c4  2... g6  3. Nc3  3... ...</td>\n",
       "    </tr>\n",
       "    <tr>\n",
       "      <th>1</th>\n",
       "      <td>1a635200-3af8-11dd-8000-000000010001</td>\n",
       "      <td>True</td>\n",
       "      <td>blitz</td>\n",
       "      <td>resigned</td>\n",
       "      <td>chesspartner123</td>\n",
       "      <td>chesspartner123</td>\n",
       "      <td>king_kinto</td>\n",
       "      <td>1. e4  1... d6  2. d4  2... Nf6  3. Nc3  3... ...</td>\n",
       "    </tr>\n",
       "    <tr>\n",
       "      <th>2</th>\n",
       "      <td>54ccef1e-3af8-11dd-8000-000000010001</td>\n",
       "      <td>True</td>\n",
       "      <td>blitz</td>\n",
       "      <td>resigned</td>\n",
       "      <td>king_kinto</td>\n",
       "      <td>king_kinto</td>\n",
       "      <td>chesspartner123</td>\n",
       "      <td>1. e4  1... d5  2. exd5  2... Nf6  3. d4  3......</td>\n",
       "    </tr>\n",
       "    <tr>\n",
       "      <th>3</th>\n",
       "      <td>7a59f8ee-3af8-11dd-8000-000000010001</td>\n",
       "      <td>True</td>\n",
       "      <td>blitz</td>\n",
       "      <td>resigned</td>\n",
       "      <td>king_kinto</td>\n",
       "      <td>chesspartner123</td>\n",
       "      <td>king_kinto</td>\n",
       "      <td>1. e4  1... d6  2. d3  2... e5  3. g3  3... g5...</td>\n",
       "    </tr>\n",
       "    <tr>\n",
       "      <th>4</th>\n",
       "      <td>9362a99e-3af8-11dd-8000-000000010001</td>\n",
       "      <td>True</td>\n",
       "      <td>blitz</td>\n",
       "      <td>resigned</td>\n",
       "      <td>chesspartner123</td>\n",
       "      <td>king_kinto</td>\n",
       "      <td>chesspartner123</td>\n",
       "      <td>1. d4  1... Nf6  2. c4  2... c5  3. d5  3... b...</td>\n",
       "    </tr>\n",
       "    <tr>\n",
       "      <th>...</th>\n",
       "      <td>...</td>\n",
       "      <td>...</td>\n",
       "      <td>...</td>\n",
       "      <td>...</td>\n",
       "      <td>...</td>\n",
       "      <td>...</td>\n",
       "      <td>...</td>\n",
       "      <td>...</td>\n",
       "    </tr>\n",
       "    <tr>\n",
       "      <th>10585</th>\n",
       "      <td>32af8c9c-2782-11ec-8605-09ff3c010001</td>\n",
       "      <td>True</td>\n",
       "      <td>bullet</td>\n",
       "      <td>resigned</td>\n",
       "      <td>robertxbob</td>\n",
       "      <td>robertxbob</td>\n",
       "      <td>jovencata</td>\n",
       "      <td>1. d4  1... a6  2. c4  2... b5  3. cxb5  3... ...</td>\n",
       "    </tr>\n",
       "    <tr>\n",
       "      <th>10586</th>\n",
       "      <td>5cbdb155-2782-11ec-8605-09ff3c010001</td>\n",
       "      <td>True</td>\n",
       "      <td>bullet</td>\n",
       "      <td>resigned</td>\n",
       "      <td>jovencata</td>\n",
       "      <td>jovencata</td>\n",
       "      <td>robertxbob</td>\n",
       "      <td>1. Nf3  1... g6  2. g3  2... Bg7  3. Bg2  3......</td>\n",
       "    </tr>\n",
       "    <tr>\n",
       "      <th>10587</th>\n",
       "      <td>d5ee8e31-27d9-11ec-8605-09ff3c010001</td>\n",
       "      <td>True</td>\n",
       "      <td>bullet</td>\n",
       "      <td>resigned</td>\n",
       "      <td>jovencata</td>\n",
       "      <td>robertxbob</td>\n",
       "      <td>jovencata</td>\n",
       "      <td>1. d4  1... a6  2. c4  2... b5  3. cxb5  3... ...</td>\n",
       "    </tr>\n",
       "    <tr>\n",
       "      <th>10588</th>\n",
       "      <td>c9e83b37-417d-11ec-90b8-09ff3c010001</td>\n",
       "      <td>True</td>\n",
       "      <td>bullet</td>\n",
       "      <td>timeout</td>\n",
       "      <td>Jr_teng</td>\n",
       "      <td>Jr_teng</td>\n",
       "      <td>jovencata</td>\n",
       "      <td>1. e4  1... e6  2. d4  2... d5  3. Nc3  3... d...</td>\n",
       "    </tr>\n",
       "    <tr>\n",
       "      <th>10589</th>\n",
       "      <td>3703e6c0-417e-11ec-90b8-09ff3c010001</td>\n",
       "      <td>True</td>\n",
       "      <td>bullet</td>\n",
       "      <td>checkmated</td>\n",
       "      <td>Jr_teng</td>\n",
       "      <td>jovencata</td>\n",
       "      <td>Jr_teng</td>\n",
       "      <td>1. Nf3  1... d5  2. g3  2... Nf6  3. Bg2  3......</td>\n",
       "    </tr>\n",
       "  </tbody>\n",
       "</table>\n",
       "<p>10590 rows × 8 columns</p>\n",
       "</div>"
      ],
      "text/plain": [
       "                                         id ranked time_control      status  \\\n",
       "0      e851f078-3af7-11dd-8000-000000010001   True        blitz    resigned   \n",
       "1      1a635200-3af8-11dd-8000-000000010001   True        blitz    resigned   \n",
       "2      54ccef1e-3af8-11dd-8000-000000010001   True        blitz    resigned   \n",
       "3      7a59f8ee-3af8-11dd-8000-000000010001   True        blitz    resigned   \n",
       "4      9362a99e-3af8-11dd-8000-000000010001   True        blitz    resigned   \n",
       "...                                     ...    ...          ...         ...   \n",
       "10585  32af8c9c-2782-11ec-8605-09ff3c010001   True       bullet    resigned   \n",
       "10586  5cbdb155-2782-11ec-8605-09ff3c010001   True       bullet    resigned   \n",
       "10587  d5ee8e31-27d9-11ec-8605-09ff3c010001   True       bullet    resigned   \n",
       "10588  c9e83b37-417d-11ec-90b8-09ff3c010001   True       bullet     timeout   \n",
       "10589  3703e6c0-417e-11ec-90b8-09ff3c010001   True       bullet  checkmated   \n",
       "\n",
       "                winner            white            black  \\\n",
       "0           king_kinto       king_kinto  chesspartner123   \n",
       "1      chesspartner123  chesspartner123       king_kinto   \n",
       "2           king_kinto       king_kinto  chesspartner123   \n",
       "3           king_kinto  chesspartner123       king_kinto   \n",
       "4      chesspartner123       king_kinto  chesspartner123   \n",
       "...                ...              ...              ...   \n",
       "10585       robertxbob       robertxbob        jovencata   \n",
       "10586        jovencata        jovencata       robertxbob   \n",
       "10587        jovencata       robertxbob        jovencata   \n",
       "10588          Jr_teng          Jr_teng        jovencata   \n",
       "10589          Jr_teng        jovencata          Jr_teng   \n",
       "\n",
       "                                                   moves  \n",
       "0      1. d4  1... Nf6  2. c4  2... g6  3. Nc3  3... ...  \n",
       "1      1. e4  1... d6  2. d4  2... Nf6  3. Nc3  3... ...  \n",
       "2      1. e4  1... d5  2. exd5  2... Nf6  3. d4  3......  \n",
       "3      1. e4  1... d6  2. d3  2... e5  3. g3  3... g5...  \n",
       "4      1. d4  1... Nf6  2. c4  2... c5  3. d5  3... b...  \n",
       "...                                                  ...  \n",
       "10585  1. d4  1... a6  2. c4  2... b5  3. cxb5  3... ...  \n",
       "10586  1. Nf3  1... g6  2. g3  2... Bg7  3. Bg2  3......  \n",
       "10587  1. d4  1... a6  2. c4  2... b5  3. cxb5  3... ...  \n",
       "10588  1. e4  1... e6  2. d4  2... d5  3. Nc3  3... d...  \n",
       "10589  1. Nf3  1... d5  2. g3  2... Nf6  3. Bg2  3......  \n",
       "\n",
       "[10590 rows x 8 columns]"
      ]
     },
     "execution_count": 29,
     "metadata": {},
     "output_type": "execute_result"
    }
   ],
   "source": [
    "games_db"
   ]
  },
  {
   "cell_type": "code",
   "execution_count": 32,
   "id": "595d1e0a",
   "metadata": {
    "ExecuteTime": {
     "end_time": "2021-11-07T01:33:41.744419Z",
     "start_time": "2021-11-07T01:33:41.043078Z"
    }
   },
   "outputs": [],
   "source": [
    "# salva em csv\n",
    "games_db.to_csv('games_db_21_25.csv',index = False)"
   ]
  },
  {
   "cell_type": "code",
   "execution_count": null,
   "id": "46fa551b",
   "metadata": {},
   "outputs": [],
   "source": [
    "# Pesquisa de nomes no dataframe\n",
    "#w = 'chesspartner123'\n",
    "#texts = [*filter(lambda x: w in x, games_db['winner'])]\n",
    "#print(*texts, sep=f'\\n\\n{\"=\" * 200}\\n\\n')"
   ]
  }
 ],
 "metadata": {
  "interpreter": {
   "hash": "a00de7097f625a3059332afd72acb8e9b2cb3f21f921c12b0c9a37fa2a2945a1"
  },
  "kernelspec": {
   "display_name": "Python 3.8.8 64-bit ('base': conda)",
   "name": "python3"
  },
  "language_info": {
   "codemirror_mode": {
    "name": "ipython",
    "version": 3
   },
   "file_extension": ".py",
   "mimetype": "text/x-python",
   "name": "python",
   "nbconvert_exporter": "python",
   "pygments_lexer": "ipython3",
   "version": "3.8.8"
  },
  "toc": {
   "base_numbering": 1,
   "nav_menu": {},
   "number_sections": false,
   "sideBar": false,
   "skip_h1_title": false,
   "title_cell": "Table of Contents",
   "title_sidebar": "Contents",
   "toc_cell": false,
   "toc_position": {},
   "toc_section_display": false,
   "toc_window_display": false
  }
 },
 "nbformat": 4,
 "nbformat_minor": 5
}
