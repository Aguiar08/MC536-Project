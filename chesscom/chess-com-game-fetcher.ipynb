{
 "cells": [
  {
   "cell_type": "code",
   "execution_count": 1,
   "id": "0705b521",
   "metadata": {
    "ExecuteTime": {
     "end_time": "2021-11-07T00:53:03.028905Z",
     "start_time": "2021-11-07T00:53:03.017871Z"
    }
   },
   "outputs": [],
   "source": [
    "import re\n",
    "import urllib\n",
    "import urllib.request\n",
    "import numpy as np\n",
    "import pandas as pd\n",
    "import matplotlib.pyplot as plt\n",
    "import seaborn as sns\n",
    "import json\n",
    "%matplotlib inline\n",
    "plt.style.use('ggplot')\n",
    "sns.set_style('darkgrid')"
   ]
  },
  {
   "cell_type": "code",
   "execution_count": 2,
   "id": "12c7fbfe",
   "metadata": {
    "ExecuteTime": {
     "end_time": "2021-11-07T00:53:04.256503Z",
     "start_time": "2021-11-07T00:53:04.250481Z"
    }
   },
   "outputs": [],
   "source": [
    "# embaralhei a lista de players pra nao pegar só de GM - NAO PRECISA RODAR ESSA CEDULA DNV\n",
    "# shuffled_players.to_csv('shuffled_player_list_chesscom.csv',index = False)"
   ]
  },
  {
   "cell_type": "code",
   "execution_count": 3,
   "id": "b434b879",
   "metadata": {
    "ExecuteTime": {
     "end_time": "2021-11-07T00:53:05.087775Z",
     "start_time": "2021-11-07T00:53:05.060685Z"
    }
   },
   "outputs": [],
   "source": [
    "players = pd.read_csv('shuffled_player_list_chesscom.csv')"
   ]
  },
  {
   "cell_type": "code",
   "execution_count": 4,
   "id": "564eb5fe",
   "metadata": {
    "ExecuteTime": {
     "end_time": "2021-11-07T00:53:05.993797Z",
     "start_time": "2021-11-07T00:53:05.974736Z"
    }
   },
   "outputs": [
    {
     "data": {
      "text/html": [
       "<div>\n",
       "<style scoped>\n",
       "    .dataframe tbody tr th:only-of-type {\n",
       "        vertical-align: middle;\n",
       "    }\n",
       "\n",
       "    .dataframe tbody tr th {\n",
       "        vertical-align: top;\n",
       "    }\n",
       "\n",
       "    .dataframe thead th {\n",
       "        text-align: right;\n",
       "    }\n",
       "</style>\n",
       "<table border=\"1\" class=\"dataframe\">\n",
       "  <thead>\n",
       "    <tr style=\"text-align: right;\">\n",
       "      <th></th>\n",
       "      <th>username</th>\n",
       "      <th>title</th>\n",
       "      <th>bullet_rating</th>\n",
       "      <th>blitz_rating</th>\n",
       "      <th>rapid_rating</th>\n",
       "    </tr>\n",
       "  </thead>\n",
       "  <tbody>\n",
       "    <tr>\n",
       "      <th>0</th>\n",
       "      <td>michaelq2d5</td>\n",
       "      <td>GM</td>\n",
       "      <td>2793</td>\n",
       "      <td>2765</td>\n",
       "      <td>2903</td>\n",
       "    </tr>\n",
       "    <tr>\n",
       "      <th>1</th>\n",
       "      <td>bernd_stromberg</td>\n",
       "      <td>CM</td>\n",
       "      <td>2619</td>\n",
       "      <td>2701</td>\n",
       "      <td>0</td>\n",
       "    </tr>\n",
       "    <tr>\n",
       "      <th>2</th>\n",
       "      <td>g2_coder</td>\n",
       "      <td>FM</td>\n",
       "      <td>2350</td>\n",
       "      <td>2200</td>\n",
       "      <td>0</td>\n",
       "    </tr>\n",
       "    <tr>\n",
       "      <th>3</th>\n",
       "      <td>mennabarreto</td>\n",
       "      <td>FM</td>\n",
       "      <td>2251</td>\n",
       "      <td>2407</td>\n",
       "      <td>0</td>\n",
       "    </tr>\n",
       "    <tr>\n",
       "      <th>4</th>\n",
       "      <td>radojeiriz</td>\n",
       "      <td>FM</td>\n",
       "      <td>2388</td>\n",
       "      <td>2271</td>\n",
       "      <td>2489</td>\n",
       "    </tr>\n",
       "    <tr>\n",
       "      <th>...</th>\n",
       "      <td>...</td>\n",
       "      <td>...</td>\n",
       "      <td>...</td>\n",
       "      <td>...</td>\n",
       "      <td>...</td>\n",
       "    </tr>\n",
       "    <tr>\n",
       "      <th>8556</th>\n",
       "      <td>skiiier</td>\n",
       "      <td>FM</td>\n",
       "      <td>2492</td>\n",
       "      <td>2477</td>\n",
       "      <td>0</td>\n",
       "    </tr>\n",
       "    <tr>\n",
       "      <th>8557</th>\n",
       "      <td>volodymyrmolyboha</td>\n",
       "      <td>NM</td>\n",
       "      <td>2431</td>\n",
       "      <td>2503</td>\n",
       "      <td>2189</td>\n",
       "    </tr>\n",
       "    <tr>\n",
       "      <th>8558</th>\n",
       "      <td>miodrag-jevtic</td>\n",
       "      <td>FM</td>\n",
       "      <td>2378</td>\n",
       "      <td>2356</td>\n",
       "      <td>1936</td>\n",
       "    </tr>\n",
       "    <tr>\n",
       "      <th>8559</th>\n",
       "      <td>jerryle</td>\n",
       "      <td>NM</td>\n",
       "      <td>2214</td>\n",
       "      <td>2251</td>\n",
       "      <td>1365</td>\n",
       "    </tr>\n",
       "    <tr>\n",
       "      <th>8560</th>\n",
       "      <td>crni_ns</td>\n",
       "      <td>FM</td>\n",
       "      <td>2036</td>\n",
       "      <td>2328</td>\n",
       "      <td>1833</td>\n",
       "    </tr>\n",
       "  </tbody>\n",
       "</table>\n",
       "<p>8561 rows × 5 columns</p>\n",
       "</div>"
      ],
      "text/plain": [
       "               username title  bullet_rating  blitz_rating  rapid_rating\n",
       "0           michaelq2d5    GM           2793          2765          2903\n",
       "1       bernd_stromberg    CM           2619          2701             0\n",
       "2              g2_coder    FM           2350          2200             0\n",
       "3          mennabarreto    FM           2251          2407             0\n",
       "4            radojeiriz    FM           2388          2271          2489\n",
       "...                 ...   ...            ...           ...           ...\n",
       "8556            skiiier    FM           2492          2477             0\n",
       "8557  volodymyrmolyboha    NM           2431          2503          2189\n",
       "8558     miodrag-jevtic    FM           2378          2356          1936\n",
       "8559            jerryle    NM           2214          2251          1365\n",
       "8560            crni_ns    FM           2036          2328          1833\n",
       "\n",
       "[8561 rows x 5 columns]"
      ]
     },
     "execution_count": 4,
     "metadata": {},
     "output_type": "execute_result"
    }
   ],
   "source": [
    "players"
   ]
  },
  {
   "cell_type": "code",
   "execution_count": 5,
   "id": "4065c550",
   "metadata": {
    "ExecuteTime": {
     "end_time": "2021-11-07T00:53:10.865039Z",
     "start_time": "2021-11-07T00:53:08.222737Z"
    }
   },
   "outputs": [
    {
     "name": "stdout",
     "output_type": "stream",
     "text": [
      "Requirement already satisfied: nest_asyncio in c:\\users\\brnta\\anaconda3\\lib\\site-packages (1.5.1)\n"
     ]
    }
   ],
   "source": [
    "# resolve erro \"This event loop is already running\"\n",
    "!pip install nest_asyncio\n",
    "import nest_asyncio\n",
    "nest_asyncio.apply()"
   ]
  },
  {
   "cell_type": "code",
   "execution_count": 6,
   "id": "e577dc6c",
   "metadata": {
    "ExecuteTime": {
     "end_time": "2021-11-07T00:53:13.003223Z",
     "start_time": "2021-11-07T00:53:11.392316Z"
    }
   },
   "outputs": [
    {
     "name": "stderr",
     "output_type": "stream",
     "text": [
      "ERROR: Could not find a version that satisfies the requirement chessdotcom\n",
      "ERROR: No matching distribution found for chessdotcom\n"
     ]
    }
   ],
   "source": [
    "# instala e importa https://github.com/sarartur/chess.com\n",
    "# wrapper para dados publicados pelo chess.com\n",
    "!pip install chessdotcom\n",
    "import chessdotcom"
   ]
  },
  {
   "cell_type": "code",
   "execution_count": 26,
   "id": "09d2de4a",
   "metadata": {
    "ExecuteTime": {
     "end_time": "2021-11-07T00:56:53.435646Z",
     "start_time": "2021-11-07T00:56:53.426616Z"
    }
   },
   "outputs": [],
   "source": [
    "# peguei um role do stack overflow e editei, pega os anos/meses que teve jogo de cada pessoa\n",
    "\n",
    "def getDates(user):\n",
    "    username = user #change \n",
    "    baseUrl = \"https://api.chess.com/pub/player/\" + username + \"/games/\"\n",
    "    archivesUrl = baseUrl + \"archives\"\n",
    "\n",
    "    #read the archives url and store in a list\n",
    "    f = urllib.request.urlopen(archivesUrl)\n",
    "    archives = f.read().decode(\"utf-8\")\n",
    "    archives = archives.replace(\"{\\\"archives\\\":[\\\"\", \"\\\",\\\"\")\n",
    "    archivesList = archives.split(\"\\\",\\\"\" + baseUrl)\n",
    "    archivesList[len(archivesList)-1] = archivesList[len(archivesList)-1].rstrip(\"\\\"]}\")\n",
    "    #print(archivesList)\n",
    "    month = []\n",
    "    year = []\n",
    "    # trata caso em que o jogador nao tem jogos\n",
    "    if archivesList[0] == '{\"archives\":[':\n",
    "        print('Erro - Jogador não possui partidas registradas')\n",
    "        return(month, year) \n",
    "    archivesList.remove('')\n",
    "    for i in archivesList:\n",
    "        year.append(int(i[0:4]))\n",
    "        month.append(int(i[5:]))\n",
    "    return(month, year)"
   ]
  },
  {
   "cell_type": "code",
   "execution_count": 8,
   "id": "a1f5f2a6",
   "metadata": {
    "ExecuteTime": {
     "end_time": "2021-11-07T00:53:15.428338Z",
     "start_time": "2021-11-07T00:53:15.412284Z"
    }
   },
   "outputs": [
    {
     "data": {
      "text/html": [
       "<div>\n",
       "<style scoped>\n",
       "    .dataframe tbody tr th:only-of-type {\n",
       "        vertical-align: middle;\n",
       "    }\n",
       "\n",
       "    .dataframe tbody tr th {\n",
       "        vertical-align: top;\n",
       "    }\n",
       "\n",
       "    .dataframe thead th {\n",
       "        text-align: right;\n",
       "    }\n",
       "</style>\n",
       "<table border=\"1\" class=\"dataframe\">\n",
       "  <thead>\n",
       "    <tr style=\"text-align: right;\">\n",
       "      <th></th>\n",
       "      <th>id</th>\n",
       "      <th>ranked</th>\n",
       "      <th>time_control</th>\n",
       "      <th>status</th>\n",
       "      <th>winner</th>\n",
       "      <th>white</th>\n",
       "      <th>black</th>\n",
       "      <th>moves</th>\n",
       "    </tr>\n",
       "  </thead>\n",
       "  <tbody>\n",
       "  </tbody>\n",
       "</table>\n",
       "</div>"
      ],
      "text/plain": [
       "Empty DataFrame\n",
       "Columns: [id, ranked, time_control, status, winner, white, black, moves]\n",
       "Index: []"
      ]
     },
     "execution_count": 8,
     "metadata": {},
     "output_type": "execute_result"
    }
   ],
   "source": [
    "games_db = pd.read_csv('empty_games.csv')\n",
    "games_db.head()"
   ]
  },
  {
   "cell_type": "code",
   "execution_count": 9,
   "id": "375b685b",
   "metadata": {
    "ExecuteTime": {
     "end_time": "2021-11-07T00:53:17.979870Z",
     "start_time": "2021-11-07T00:53:17.961813Z"
    }
   },
   "outputs": [],
   "source": [
    "def checkstatus(white_result, black_result):\n",
    "    if white_result != 'win':\n",
    "        return white_result\n",
    "    else:\n",
    "        return black_result\n",
    "    \n",
    "def checkwinner(white, black):\n",
    "    if white['result'] == 'win':\n",
    "        return white['username']\n",
    "    elif black['result'] == 'win':\n",
    "        return black['username']\n",
    "    else:\n",
    "        return 'draw'\n",
    "\n",
    "def trataPGN(pgn):\n",
    "    # remove clock\n",
    "    txt = '{\\[%clk \\d+:\\d+:\\d+(\\.\\d+)?\\]}'\n",
    "    a = re.sub(txt, \"\", pgn)\n",
    "\n",
    "    # remove header\n",
    "    txt = '\\[.+\\]'\n",
    "    a = re.sub(txt, \"\", a)\n",
    "    a\n",
    "\n",
    "    # remove \\n\n",
    "    txt = '\\\\n'\n",
    "    a = re.sub(txt, \"\", a)\n",
    "    a\n",
    "    \n",
    "    return(a)    "
   ]
  },
  {
   "cell_type": "code",
   "execution_count": 51,
   "id": "47de2d42",
   "metadata": {
    "ExecuteTime": {
     "end_time": "2021-11-07T00:53:26.232972Z",
     "start_time": "2021-11-07T00:53:26.222940Z"
    }
   },
   "outputs": [
    {
     "data": {
      "text/html": [
       "<div>\n",
       "<style scoped>\n",
       "    .dataframe tbody tr th:only-of-type {\n",
       "        vertical-align: middle;\n",
       "    }\n",
       "\n",
       "    .dataframe tbody tr th {\n",
       "        vertical-align: top;\n",
       "    }\n",
       "\n",
       "    .dataframe thead th {\n",
       "        text-align: right;\n",
       "    }\n",
       "</style>\n",
       "<table border=\"1\" class=\"dataframe\">\n",
       "  <thead>\n",
       "    <tr style=\"text-align: right;\">\n",
       "      <th></th>\n",
       "      <th>username</th>\n",
       "      <th>title</th>\n",
       "      <th>bullet_rating</th>\n",
       "      <th>blitz_rating</th>\n",
       "      <th>rapid_rating</th>\n",
       "    </tr>\n",
       "  </thead>\n",
       "  <tbody>\n",
       "    <tr>\n",
       "      <th>45</th>\n",
       "      <td>1d51-0</td>\n",
       "      <td>NM</td>\n",
       "      <td>2321</td>\n",
       "      <td>2072</td>\n",
       "      <td>0</td>\n",
       "    </tr>\n",
       "    <tr>\n",
       "      <th>46</th>\n",
       "      <td>sl0m</td>\n",
       "      <td>NM</td>\n",
       "      <td>1594</td>\n",
       "      <td>2117</td>\n",
       "      <td>2140</td>\n",
       "    </tr>\n",
       "    <tr>\n",
       "      <th>47</th>\n",
       "      <td>jonahwillow</td>\n",
       "      <td>FM</td>\n",
       "      <td>3171</td>\n",
       "      <td>2832</td>\n",
       "      <td>2179</td>\n",
       "    </tr>\n",
       "    <tr>\n",
       "      <th>48</th>\n",
       "      <td>kosanovicgoran</td>\n",
       "      <td>GM</td>\n",
       "      <td>0</td>\n",
       "      <td>2636</td>\n",
       "      <td>2028</td>\n",
       "    </tr>\n",
       "    <tr>\n",
       "      <th>49</th>\n",
       "      <td>johangunawan</td>\n",
       "      <td>FM</td>\n",
       "      <td>1951</td>\n",
       "      <td>2056</td>\n",
       "      <td>0</td>\n",
       "    </tr>\n",
       "    <tr>\n",
       "      <th>50</th>\n",
       "      <td>gmpeter008</td>\n",
       "      <td>GM</td>\n",
       "      <td>2390</td>\n",
       "      <td>2353</td>\n",
       "      <td>2057</td>\n",
       "    </tr>\n",
       "    <tr>\n",
       "      <th>51</th>\n",
       "      <td>oldturkishboy</td>\n",
       "      <td>NM</td>\n",
       "      <td>0</td>\n",
       "      <td>0</td>\n",
       "      <td>0</td>\n",
       "    </tr>\n",
       "    <tr>\n",
       "      <th>52</th>\n",
       "      <td>lordiron</td>\n",
       "      <td>FM</td>\n",
       "      <td>2561</td>\n",
       "      <td>2293</td>\n",
       "      <td>2431</td>\n",
       "    </tr>\n",
       "    <tr>\n",
       "      <th>53</th>\n",
       "      <td>lpsupi</td>\n",
       "      <td>GM</td>\n",
       "      <td>2775</td>\n",
       "      <td>2888</td>\n",
       "      <td>2707</td>\n",
       "    </tr>\n",
       "    <tr>\n",
       "      <th>54</th>\n",
       "      <td>maximych26</td>\n",
       "      <td>FM</td>\n",
       "      <td>2150</td>\n",
       "      <td>2277</td>\n",
       "      <td>2036</td>\n",
       "    </tr>\n",
       "  </tbody>\n",
       "</table>\n",
       "</div>"
      ],
      "text/plain": [
       "          username title  bullet_rating  blitz_rating  rapid_rating\n",
       "45          1d51-0    NM           2321          2072             0\n",
       "46            sl0m    NM           1594          2117          2140\n",
       "47     jonahwillow    FM           3171          2832          2179\n",
       "48  kosanovicgoran    GM              0          2636          2028\n",
       "49    johangunawan    FM           1951          2056             0\n",
       "50      gmpeter008    GM           2390          2353          2057\n",
       "51   oldturkishboy    NM              0             0             0\n",
       "52        lordiron    FM           2561          2293          2431\n",
       "53          lpsupi    GM           2775          2888          2707\n",
       "54      maximych26    FM           2150          2277          2036"
      ]
     },
     "execution_count": 51,
     "metadata": {},
     "output_type": "execute_result"
    }
   ],
   "source": [
    "# escolhe que jogadores voce quer pegar\n",
    "players_to_db = players[45:55]\n",
    "players_to_db"
   ]
  },
  {
   "cell_type": "code",
   "execution_count": 52,
   "id": "a94209da",
   "metadata": {
    "ExecuteTime": {
     "end_time": "2021-11-07T01:17:41.236636Z",
     "start_time": "2021-11-07T00:57:45.792525Z"
    }
   },
   "outputs": [
    {
     "name": "stdout",
     "output_type": "stream",
     "text": [
      "1d51-0\n",
      "sl0m\n",
      "jonahwillow\n",
      "kosanovicgoran\n",
      "johangunawan\n",
      "gmpeter008\n",
      "Erro - Jogador não possui partidas registradas\n",
      "oldturkishboy\n",
      "lordiron\n",
      "lpsupi\n",
      "maximych26\n"
     ]
    }
   ],
   "source": [
    "games_db = pd.read_csv('empty_games.csv')\n",
    "\n",
    "for k in players_to_db['username']:\n",
    "    month, year = getDates(k)\n",
    "    print(k)\n",
    "    for i in range(len(month)):\n",
    "        response = chessdotcom.get_player_games_by_month(k,month=month[i],year=year[i]).json\n",
    "        for j in (response['games']):\n",
    "            try:\n",
    "                temp = {\n",
    "                    'id':j['uuid'],\n",
    "                    'ranked':j['rated'],\n",
    "                    'time_control': j['time_class'],\n",
    "                    'status': checkstatus(j['white']['result'],j['black']['result']),\n",
    "                    'winner': checkwinner(j['white'],j['black']),\n",
    "                    'white': (j['white']['username']),\n",
    "                    'black': (j['black']['username']),\n",
    "                    'moves': trataPGN(j['pgn'])\n",
    "                }\n",
    "                #print((j['white']['result'],j['black']['result']))\n",
    "                games_db = games_db.append(temp,ignore_index=True)\n",
    "            except:\n",
    "                temp = 0"
   ]
  },
  {
   "cell_type": "code",
   "execution_count": 53,
   "id": "1eadf9d3",
   "metadata": {
    "ExecuteTime": {
     "end_time": "2021-11-07T01:30:47.786561Z",
     "start_time": "2021-11-07T01:30:47.720341Z"
    }
   },
   "outputs": [
    {
     "data": {
      "text/html": [
       "<div>\n",
       "<style scoped>\n",
       "    .dataframe tbody tr th:only-of-type {\n",
       "        vertical-align: middle;\n",
       "    }\n",
       "\n",
       "    .dataframe tbody tr th {\n",
       "        vertical-align: top;\n",
       "    }\n",
       "\n",
       "    .dataframe thead th {\n",
       "        text-align: right;\n",
       "    }\n",
       "</style>\n",
       "<table border=\"1\" class=\"dataframe\">\n",
       "  <thead>\n",
       "    <tr style=\"text-align: right;\">\n",
       "      <th></th>\n",
       "      <th>id</th>\n",
       "      <th>ranked</th>\n",
       "      <th>time_control</th>\n",
       "      <th>status</th>\n",
       "      <th>winner</th>\n",
       "      <th>white</th>\n",
       "      <th>black</th>\n",
       "      <th>moves</th>\n",
       "    </tr>\n",
       "  </thead>\n",
       "  <tbody>\n",
       "    <tr>\n",
       "      <th>0</th>\n",
       "      <td>a42ab65e-1fca-11ec-9f2a-09ff3c010001</td>\n",
       "      <td>True</td>\n",
       "      <td>blitz</td>\n",
       "      <td>checkmated</td>\n",
       "      <td>Crackitovich</td>\n",
       "      <td>1d51-0</td>\n",
       "      <td>Crackitovich</td>\n",
       "      <td>1. d4  1... d5  2. c4  2... e6  3. Nc3  3... N...</td>\n",
       "    </tr>\n",
       "    <tr>\n",
       "      <th>1</th>\n",
       "      <td>5580a8b7-1fcb-11ec-9f2a-09ff3c010001</td>\n",
       "      <td>True</td>\n",
       "      <td>blitz</td>\n",
       "      <td>resigned</td>\n",
       "      <td>1d51-0</td>\n",
       "      <td>Crackitovich</td>\n",
       "      <td>1d51-0</td>\n",
       "      <td>1. e4  1... c5  2. Nf3  2... g6  3. d4  3... c...</td>\n",
       "    </tr>\n",
       "    <tr>\n",
       "      <th>2</th>\n",
       "      <td>ada9c8b9-1fcb-11ec-9f2a-09ff3c010001</td>\n",
       "      <td>True</td>\n",
       "      <td>blitz</td>\n",
       "      <td>resigned</td>\n",
       "      <td>1d51-0</td>\n",
       "      <td>1d51-0</td>\n",
       "      <td>walidsaid73</td>\n",
       "      <td>1. Nf3  1... d5  2. g3  2... e6  3. Bg2  3... ...</td>\n",
       "    </tr>\n",
       "    <tr>\n",
       "      <th>3</th>\n",
       "      <td>5ef77e0c-1fcc-11ec-9f2a-09ff3c010001</td>\n",
       "      <td>True</td>\n",
       "      <td>blitz</td>\n",
       "      <td>checkmated</td>\n",
       "      <td>ivanmanshm</td>\n",
       "      <td>ivanmanshm</td>\n",
       "      <td>1d51-0</td>\n",
       "      <td>1. Nf3  1... Nf6  2. e3  2... g6  3. b3  3... ...</td>\n",
       "    </tr>\n",
       "    <tr>\n",
       "      <th>4</th>\n",
       "      <td>2fe66e2e-1fcd-11ec-9f2a-09ff3c010001</td>\n",
       "      <td>True</td>\n",
       "      <td>blitz</td>\n",
       "      <td>checkmated</td>\n",
       "      <td>ivanmanshm</td>\n",
       "      <td>1d51-0</td>\n",
       "      <td>ivanmanshm</td>\n",
       "      <td>1. e4  1... c5  2. Nf3  2... d6  3. d4  3... c...</td>\n",
       "    </tr>\n",
       "    <tr>\n",
       "      <th>...</th>\n",
       "      <td>...</td>\n",
       "      <td>...</td>\n",
       "      <td>...</td>\n",
       "      <td>...</td>\n",
       "      <td>...</td>\n",
       "      <td>...</td>\n",
       "      <td>...</td>\n",
       "      <td>...</td>\n",
       "    </tr>\n",
       "    <tr>\n",
       "      <th>43105</th>\n",
       "      <td>d1d3361a-1b01-11ec-8206-09ff3c010001</td>\n",
       "      <td>True</td>\n",
       "      <td>blitz</td>\n",
       "      <td>checkmated</td>\n",
       "      <td>hleol</td>\n",
       "      <td>maximych26</td>\n",
       "      <td>hleol</td>\n",
       "      <td>1. e4  1... e6  2. d4  2... d5  3. Nd2  3... B...</td>\n",
       "    </tr>\n",
       "    <tr>\n",
       "      <th>43106</th>\n",
       "      <td>136ad418-1b04-11ec-8206-09ff3c010001</td>\n",
       "      <td>True</td>\n",
       "      <td>blitz</td>\n",
       "      <td>agreed</td>\n",
       "      <td>draw</td>\n",
       "      <td>maximych26</td>\n",
       "      <td>newauto</td>\n",
       "      <td>1. e4  1/2-1/2</td>\n",
       "    </tr>\n",
       "    <tr>\n",
       "      <th>43107</th>\n",
       "      <td>a3f3c176-1b05-11ec-8206-09ff3c010001</td>\n",
       "      <td>True</td>\n",
       "      <td>blitz</td>\n",
       "      <td>checkmated</td>\n",
       "      <td>gabduschew</td>\n",
       "      <td>gabduschew</td>\n",
       "      <td>maximych26</td>\n",
       "      <td>1. b3  1... d5  2. Bb2  2... Nf6  3. e3  3... ...</td>\n",
       "    </tr>\n",
       "    <tr>\n",
       "      <th>43108</th>\n",
       "      <td>03538990-1b07-11ec-8206-09ff3c010001</td>\n",
       "      <td>True</td>\n",
       "      <td>blitz</td>\n",
       "      <td>timeout</td>\n",
       "      <td>durin</td>\n",
       "      <td>maximych26</td>\n",
       "      <td>durin</td>\n",
       "      <td>0-1</td>\n",
       "    </tr>\n",
       "    <tr>\n",
       "      <th>43109</th>\n",
       "      <td>058233c5-1b08-11ec-8206-09ff3c010001</td>\n",
       "      <td>True</td>\n",
       "      <td>blitz</td>\n",
       "      <td>timeout</td>\n",
       "      <td>maximych26</td>\n",
       "      <td>Rebecajf_17</td>\n",
       "      <td>maximych26</td>\n",
       "      <td>0-1</td>\n",
       "    </tr>\n",
       "  </tbody>\n",
       "</table>\n",
       "<p>43110 rows × 8 columns</p>\n",
       "</div>"
      ],
      "text/plain": [
       "                                         id ranked time_control      status  \\\n",
       "0      a42ab65e-1fca-11ec-9f2a-09ff3c010001   True        blitz  checkmated   \n",
       "1      5580a8b7-1fcb-11ec-9f2a-09ff3c010001   True        blitz    resigned   \n",
       "2      ada9c8b9-1fcb-11ec-9f2a-09ff3c010001   True        blitz    resigned   \n",
       "3      5ef77e0c-1fcc-11ec-9f2a-09ff3c010001   True        blitz  checkmated   \n",
       "4      2fe66e2e-1fcd-11ec-9f2a-09ff3c010001   True        blitz  checkmated   \n",
       "...                                     ...    ...          ...         ...   \n",
       "43105  d1d3361a-1b01-11ec-8206-09ff3c010001   True        blitz  checkmated   \n",
       "43106  136ad418-1b04-11ec-8206-09ff3c010001   True        blitz      agreed   \n",
       "43107  a3f3c176-1b05-11ec-8206-09ff3c010001   True        blitz  checkmated   \n",
       "43108  03538990-1b07-11ec-8206-09ff3c010001   True        blitz     timeout   \n",
       "43109  058233c5-1b08-11ec-8206-09ff3c010001   True        blitz     timeout   \n",
       "\n",
       "             winner         white         black  \\\n",
       "0      Crackitovich        1d51-0  Crackitovich   \n",
       "1            1d51-0  Crackitovich        1d51-0   \n",
       "2            1d51-0        1d51-0   walidsaid73   \n",
       "3        ivanmanshm    ivanmanshm        1d51-0   \n",
       "4        ivanmanshm        1d51-0    ivanmanshm   \n",
       "...             ...           ...           ...   \n",
       "43105         hleol    maximych26         hleol   \n",
       "43106          draw    maximych26       newauto   \n",
       "43107    gabduschew    gabduschew    maximych26   \n",
       "43108         durin    maximych26         durin   \n",
       "43109    maximych26   Rebecajf_17    maximych26   \n",
       "\n",
       "                                                   moves  \n",
       "0      1. d4  1... d5  2. c4  2... e6  3. Nc3  3... N...  \n",
       "1      1. e4  1... c5  2. Nf3  2... g6  3. d4  3... c...  \n",
       "2      1. Nf3  1... d5  2. g3  2... e6  3. Bg2  3... ...  \n",
       "3      1. Nf3  1... Nf6  2. e3  2... g6  3. b3  3... ...  \n",
       "4      1. e4  1... c5  2. Nf3  2... d6  3. d4  3... c...  \n",
       "...                                                  ...  \n",
       "43105  1. e4  1... e6  2. d4  2... d5  3. Nd2  3... B...  \n",
       "43106                                     1. e4  1/2-1/2  \n",
       "43107  1. b3  1... d5  2. Bb2  2... Nf6  3. e3  3... ...  \n",
       "43108                                                0-1  \n",
       "43109                                                0-1  \n",
       "\n",
       "[43110 rows x 8 columns]"
      ]
     },
     "execution_count": 53,
     "metadata": {},
     "output_type": "execute_result"
    }
   ],
   "source": [
    "games_db"
   ]
  },
  {
   "cell_type": "code",
   "execution_count": 54,
   "id": "595d1e0a",
   "metadata": {
    "ExecuteTime": {
     "end_time": "2021-11-07T01:33:41.744419Z",
     "start_time": "2021-11-07T01:33:41.043078Z"
    }
   },
   "outputs": [],
   "source": [
    "# salva em csv\n",
    "games_db.to_csv('games_db_46_54.csv',index = False)"
   ]
  },
  {
   "cell_type": "code",
   "execution_count": null,
   "id": "46fa551b",
   "metadata": {},
   "outputs": [],
   "source": [
    "# Pesquisa de nomes no dataframe\n",
    "#w = 'chesspartner123'\n",
    "#texts = [*filter(lambda x: w in x, games_db['winner'])]\n",
    "#print(*texts, sep=f'\\n\\n{\"=\" * 200}\\n\\n')"
   ]
  }
 ],
 "metadata": {
  "interpreter": {
   "hash": "a00de7097f625a3059332afd72acb8e9b2cb3f21f921c12b0c9a37fa2a2945a1"
  },
  "kernelspec": {
   "display_name": "Python 3.8.8 64-bit ('base': conda)",
   "name": "python3"
  },
  "language_info": {
   "codemirror_mode": {
    "name": "ipython",
    "version": 3
   },
   "file_extension": ".py",
   "mimetype": "text/x-python",
   "name": "python",
   "nbconvert_exporter": "python",
   "pygments_lexer": "ipython3",
   "version": "3.8.8"
  },
  "toc": {
   "base_numbering": 1,
   "nav_menu": {},
   "number_sections": false,
   "sideBar": false,
   "skip_h1_title": false,
   "title_cell": "Table of Contents",
   "title_sidebar": "Contents",
   "toc_cell": false,
   "toc_position": {},
   "toc_section_display": false,
   "toc_window_display": false
  }
 },
 "nbformat": 4,
 "nbformat_minor": 5
}
