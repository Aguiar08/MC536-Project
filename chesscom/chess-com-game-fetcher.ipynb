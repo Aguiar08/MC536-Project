{
 "cells": [
  {
   "cell_type": "code",
   "execution_count": 1,
   "id": "0705b521",
   "metadata": {
    "ExecuteTime": {
     "end_time": "2021-11-07T00:53:03.028905Z",
     "start_time": "2021-11-07T00:53:03.017871Z"
    }
   },
   "outputs": [],
   "source": [
    "import re\n",
    "import urllib\n",
    "import urllib.request\n",
    "import numpy as np\n",
    "import pandas as pd\n",
    "import matplotlib.pyplot as plt\n",
    "import seaborn as sns\n",
    "import json\n",
    "%matplotlib inline\n",
    "plt.style.use('ggplot')\n",
    "sns.set_style('darkgrid')"
   ]
  },
  {
   "cell_type": "code",
   "execution_count": 2,
   "id": "12c7fbfe",
   "metadata": {
    "ExecuteTime": {
     "end_time": "2021-11-07T00:53:04.256503Z",
     "start_time": "2021-11-07T00:53:04.250481Z"
    }
   },
   "outputs": [],
   "source": [
    "# embaralhei a lista de players pra nao pegar só de GM - NAO PRECISA RODAR ESSA CEDULA DNV\n",
    "# shuffled_players.to_csv('shuffled_player_list_chesscom.csv',index = False)"
   ]
  },
  {
   "cell_type": "code",
   "execution_count": 3,
   "id": "b434b879",
   "metadata": {
    "ExecuteTime": {
     "end_time": "2021-11-07T00:53:05.087775Z",
     "start_time": "2021-11-07T00:53:05.060685Z"
    }
   },
   "outputs": [],
   "source": [
    "players = pd.read_csv('shuffled_player_list_chesscom.csv')"
   ]
  },
  {
   "cell_type": "code",
   "execution_count": 4,
   "id": "564eb5fe",
   "metadata": {
    "ExecuteTime": {
     "end_time": "2021-11-07T00:53:05.993797Z",
     "start_time": "2021-11-07T00:53:05.974736Z"
    }
   },
   "outputs": [
    {
     "data": {
      "text/html": [
       "<div>\n",
       "<style scoped>\n",
       "    .dataframe tbody tr th:only-of-type {\n",
       "        vertical-align: middle;\n",
       "    }\n",
       "\n",
       "    .dataframe tbody tr th {\n",
       "        vertical-align: top;\n",
       "    }\n",
       "\n",
       "    .dataframe thead th {\n",
       "        text-align: right;\n",
       "    }\n",
       "</style>\n",
       "<table border=\"1\" class=\"dataframe\">\n",
       "  <thead>\n",
       "    <tr style=\"text-align: right;\">\n",
       "      <th></th>\n",
       "      <th>username</th>\n",
       "      <th>title</th>\n",
       "      <th>bullet_rating</th>\n",
       "      <th>blitz_rating</th>\n",
       "      <th>rapid_rating</th>\n",
       "    </tr>\n",
       "  </thead>\n",
       "  <tbody>\n",
       "    <tr>\n",
       "      <th>0</th>\n",
       "      <td>michaelq2d5</td>\n",
       "      <td>GM</td>\n",
       "      <td>2793</td>\n",
       "      <td>2765</td>\n",
       "      <td>2903</td>\n",
       "    </tr>\n",
       "    <tr>\n",
       "      <th>1</th>\n",
       "      <td>bernd_stromberg</td>\n",
       "      <td>CM</td>\n",
       "      <td>2619</td>\n",
       "      <td>2701</td>\n",
       "      <td>0</td>\n",
       "    </tr>\n",
       "    <tr>\n",
       "      <th>2</th>\n",
       "      <td>g2_coder</td>\n",
       "      <td>FM</td>\n",
       "      <td>2350</td>\n",
       "      <td>2200</td>\n",
       "      <td>0</td>\n",
       "    </tr>\n",
       "    <tr>\n",
       "      <th>3</th>\n",
       "      <td>mennabarreto</td>\n",
       "      <td>FM</td>\n",
       "      <td>2251</td>\n",
       "      <td>2407</td>\n",
       "      <td>0</td>\n",
       "    </tr>\n",
       "    <tr>\n",
       "      <th>4</th>\n",
       "      <td>radojeiriz</td>\n",
       "      <td>FM</td>\n",
       "      <td>2388</td>\n",
       "      <td>2271</td>\n",
       "      <td>2489</td>\n",
       "    </tr>\n",
       "    <tr>\n",
       "      <th>...</th>\n",
       "      <td>...</td>\n",
       "      <td>...</td>\n",
       "      <td>...</td>\n",
       "      <td>...</td>\n",
       "      <td>...</td>\n",
       "    </tr>\n",
       "    <tr>\n",
       "      <th>8556</th>\n",
       "      <td>skiiier</td>\n",
       "      <td>FM</td>\n",
       "      <td>2492</td>\n",
       "      <td>2477</td>\n",
       "      <td>0</td>\n",
       "    </tr>\n",
       "    <tr>\n",
       "      <th>8557</th>\n",
       "      <td>volodymyrmolyboha</td>\n",
       "      <td>NM</td>\n",
       "      <td>2431</td>\n",
       "      <td>2503</td>\n",
       "      <td>2189</td>\n",
       "    </tr>\n",
       "    <tr>\n",
       "      <th>8558</th>\n",
       "      <td>miodrag-jevtic</td>\n",
       "      <td>FM</td>\n",
       "      <td>2378</td>\n",
       "      <td>2356</td>\n",
       "      <td>1936</td>\n",
       "    </tr>\n",
       "    <tr>\n",
       "      <th>8559</th>\n",
       "      <td>jerryle</td>\n",
       "      <td>NM</td>\n",
       "      <td>2214</td>\n",
       "      <td>2251</td>\n",
       "      <td>1365</td>\n",
       "    </tr>\n",
       "    <tr>\n",
       "      <th>8560</th>\n",
       "      <td>crni_ns</td>\n",
       "      <td>FM</td>\n",
       "      <td>2036</td>\n",
       "      <td>2328</td>\n",
       "      <td>1833</td>\n",
       "    </tr>\n",
       "  </tbody>\n",
       "</table>\n",
       "<p>8561 rows × 5 columns</p>\n",
       "</div>"
      ],
      "text/plain": [
       "               username title  bullet_rating  blitz_rating  rapid_rating\n",
       "0           michaelq2d5    GM           2793          2765          2903\n",
       "1       bernd_stromberg    CM           2619          2701             0\n",
       "2              g2_coder    FM           2350          2200             0\n",
       "3          mennabarreto    FM           2251          2407             0\n",
       "4            radojeiriz    FM           2388          2271          2489\n",
       "...                 ...   ...            ...           ...           ...\n",
       "8556            skiiier    FM           2492          2477             0\n",
       "8557  volodymyrmolyboha    NM           2431          2503          2189\n",
       "8558     miodrag-jevtic    FM           2378          2356          1936\n",
       "8559            jerryle    NM           2214          2251          1365\n",
       "8560            crni_ns    FM           2036          2328          1833\n",
       "\n",
       "[8561 rows x 5 columns]"
      ]
     },
     "execution_count": 4,
     "metadata": {},
     "output_type": "execute_result"
    }
   ],
   "source": [
    "players"
   ]
  },
  {
   "cell_type": "code",
   "execution_count": 5,
   "id": "4065c550",
   "metadata": {
    "ExecuteTime": {
     "end_time": "2021-11-07T00:53:10.865039Z",
     "start_time": "2021-11-07T00:53:08.222737Z"
    }
   },
   "outputs": [
    {
     "name": "stdout",
     "output_type": "stream",
     "text": [
      "Requirement already satisfied: nest_asyncio in c:\\users\\brnta\\anaconda3\\lib\\site-packages (1.5.1)\n"
     ]
    }
   ],
   "source": [
    "# resolve erro \"This event loop is already running\"\n",
    "!pip install nest_asyncio\n",
    "import nest_asyncio\n",
    "nest_asyncio.apply()"
   ]
  },
  {
   "cell_type": "code",
   "execution_count": 6,
   "id": "e577dc6c",
   "metadata": {
    "ExecuteTime": {
     "end_time": "2021-11-07T00:53:13.003223Z",
     "start_time": "2021-11-07T00:53:11.392316Z"
    }
   },
   "outputs": [
    {
     "name": "stderr",
     "output_type": "stream",
     "text": [
      "ERROR: Could not find a version that satisfies the requirement chessdotcom\n",
      "ERROR: No matching distribution found for chessdotcom\n"
     ]
    }
   ],
   "source": [
    "# instala e importa https://github.com/sarartur/chess.com\n",
    "# wrapper para dados publicados pelo chess.com\n",
    "!pip install chessdotcom\n",
    "import chessdotcom"
   ]
  },
  {
   "cell_type": "code",
   "execution_count": 7,
   "id": "09d2de4a",
   "metadata": {
    "ExecuteTime": {
     "end_time": "2021-11-07T00:56:53.435646Z",
     "start_time": "2021-11-07T00:56:53.426616Z"
    }
   },
   "outputs": [],
   "source": [
    "# peguei um role do stack overflow e editei, pega os anos/meses que teve jogo de cada pessoa\n",
    "\n",
    "def getDates(user):\n",
    "    username = user #change \n",
    "    baseUrl = \"https://api.chess.com/pub/player/\" + username + \"/games/\"\n",
    "    archivesUrl = baseUrl + \"archives\"\n",
    "\n",
    "    #read the archives url and store in a list\n",
    "    f = urllib.request.urlopen(archivesUrl)\n",
    "    archives = f.read().decode(\"utf-8\")\n",
    "    archives = archives.replace(\"{\\\"archives\\\":[\\\"\", \"\\\",\\\"\")\n",
    "    archivesList = archives.split(\"\\\",\\\"\" + baseUrl)\n",
    "    archivesList[len(archivesList)-1] = archivesList[len(archivesList)-1].rstrip(\"\\\"]}\")\n",
    "    #print(archivesList)\n",
    "    month = []\n",
    "    year = []\n",
    "    # trata caso em que o jogador nao tem jogos\n",
    "    if archivesList[0] == '{\"archives\":[':\n",
    "        print('Erro - Jogador não possui partidas registradas')\n",
    "        return(month, year) \n",
    "    archivesList.remove('')\n",
    "    for i in archivesList:\n",
    "        year.append(int(i[0:4]))\n",
    "        month.append(int(i[5:]))\n",
    "    return(month, year)"
   ]
  },
  {
   "cell_type": "code",
   "execution_count": 8,
   "id": "a1f5f2a6",
   "metadata": {
    "ExecuteTime": {
     "end_time": "2021-11-07T00:53:15.428338Z",
     "start_time": "2021-11-07T00:53:15.412284Z"
    }
   },
   "outputs": [
    {
     "data": {
      "text/html": [
       "<div>\n",
       "<style scoped>\n",
       "    .dataframe tbody tr th:only-of-type {\n",
       "        vertical-align: middle;\n",
       "    }\n",
       "\n",
       "    .dataframe tbody tr th {\n",
       "        vertical-align: top;\n",
       "    }\n",
       "\n",
       "    .dataframe thead th {\n",
       "        text-align: right;\n",
       "    }\n",
       "</style>\n",
       "<table border=\"1\" class=\"dataframe\">\n",
       "  <thead>\n",
       "    <tr style=\"text-align: right;\">\n",
       "      <th></th>\n",
       "      <th>id</th>\n",
       "      <th>ranked</th>\n",
       "      <th>time_control</th>\n",
       "      <th>status</th>\n",
       "      <th>winner</th>\n",
       "      <th>white</th>\n",
       "      <th>black</th>\n",
       "      <th>moves</th>\n",
       "    </tr>\n",
       "  </thead>\n",
       "  <tbody>\n",
       "  </tbody>\n",
       "</table>\n",
       "</div>"
      ],
      "text/plain": [
       "Empty DataFrame\n",
       "Columns: [id, ranked, time_control, status, winner, white, black, moves]\n",
       "Index: []"
      ]
     },
     "execution_count": 8,
     "metadata": {},
     "output_type": "execute_result"
    }
   ],
   "source": [
    "games_db = pd.read_csv('empty_games.csv')\n",
    "games_db.head()"
   ]
  },
  {
   "cell_type": "code",
   "execution_count": 9,
   "id": "375b685b",
   "metadata": {
    "ExecuteTime": {
     "end_time": "2021-11-07T00:53:17.979870Z",
     "start_time": "2021-11-07T00:53:17.961813Z"
    }
   },
   "outputs": [],
   "source": [
    "def checkstatus(white_result, black_result):\n",
    "    if white_result != 'win':\n",
    "        return white_result\n",
    "    else:\n",
    "        return black_result\n",
    "    \n",
    "def checkwinner(white, black):\n",
    "    if white['result'] == 'win':\n",
    "        return white['username']\n",
    "    elif black['result'] == 'win':\n",
    "        return black['username']\n",
    "    else:\n",
    "        return 'draw'\n",
    "\n",
    "def trataPGN(pgn):\n",
    "    # remove clock\n",
    "    txt = '{\\[%clk \\d+:\\d+:\\d+(\\.\\d+)?\\]}'\n",
    "    a = re.sub(txt, \"\", pgn)\n",
    "\n",
    "    # remove header\n",
    "    txt = '\\[.+\\]'\n",
    "    a = re.sub(txt, \"\", a)\n",
    "    a\n",
    "\n",
    "    # remove \\n\n",
    "    txt = '\\\\n'\n",
    "    a = re.sub(txt, \"\", a)\n",
    "    a\n",
    "    \n",
    "    return(a)    "
   ]
  },
  {
   "cell_type": "code",
   "execution_count": 20,
   "id": "47de2d42",
   "metadata": {
    "ExecuteTime": {
     "end_time": "2021-11-07T00:53:26.232972Z",
     "start_time": "2021-11-07T00:53:26.222940Z"
    }
   },
   "outputs": [
    {
     "data": {
      "text/html": [
       "<div>\n",
       "<style scoped>\n",
       "    .dataframe tbody tr th:only-of-type {\n",
       "        vertical-align: middle;\n",
       "    }\n",
       "\n",
       "    .dataframe tbody tr th {\n",
       "        vertical-align: top;\n",
       "    }\n",
       "\n",
       "    .dataframe thead th {\n",
       "        text-align: right;\n",
       "    }\n",
       "</style>\n",
       "<table border=\"1\" class=\"dataframe\">\n",
       "  <thead>\n",
       "    <tr style=\"text-align: right;\">\n",
       "      <th></th>\n",
       "      <th>username</th>\n",
       "      <th>title</th>\n",
       "      <th>bullet_rating</th>\n",
       "      <th>blitz_rating</th>\n",
       "      <th>rapid_rating</th>\n",
       "    </tr>\n",
       "  </thead>\n",
       "  <tbody>\n",
       "    <tr>\n",
       "      <th>55</th>\n",
       "      <td>atalik</td>\n",
       "      <td>GM</td>\n",
       "      <td>2623</td>\n",
       "      <td>2660</td>\n",
       "      <td>2520</td>\n",
       "    </tr>\n",
       "    <tr>\n",
       "      <th>56</th>\n",
       "      <td>veneteanuc</td>\n",
       "      <td>NM</td>\n",
       "      <td>2183</td>\n",
       "      <td>2190</td>\n",
       "      <td>0</td>\n",
       "    </tr>\n",
       "    <tr>\n",
       "      <th>57</th>\n",
       "      <td>ebrimabah</td>\n",
       "      <td>FM</td>\n",
       "      <td>0</td>\n",
       "      <td>2162</td>\n",
       "      <td>1954</td>\n",
       "    </tr>\n",
       "    <tr>\n",
       "      <th>58</th>\n",
       "      <td>busygin</td>\n",
       "      <td>NM</td>\n",
       "      <td>2202</td>\n",
       "      <td>1909</td>\n",
       "      <td>2043</td>\n",
       "    </tr>\n",
       "    <tr>\n",
       "      <th>59</th>\n",
       "      <td>jackvino</td>\n",
       "      <td>FM</td>\n",
       "      <td>2514</td>\n",
       "      <td>2249</td>\n",
       "      <td>1952</td>\n",
       "    </tr>\n",
       "    <tr>\n",
       "      <th>60</th>\n",
       "      <td>chessforthesun</td>\n",
       "      <td>NM</td>\n",
       "      <td>2587</td>\n",
       "      <td>2609</td>\n",
       "      <td>2273</td>\n",
       "    </tr>\n",
       "    <tr>\n",
       "      <th>61</th>\n",
       "      <td>keitharkell</td>\n",
       "      <td>GM</td>\n",
       "      <td>2361</td>\n",
       "      <td>2477</td>\n",
       "      <td>2408</td>\n",
       "    </tr>\n",
       "    <tr>\n",
       "      <th>62</th>\n",
       "      <td>911master</td>\n",
       "      <td>NM</td>\n",
       "      <td>0</td>\n",
       "      <td>1900</td>\n",
       "      <td>1872</td>\n",
       "    </tr>\n",
       "    <tr>\n",
       "      <th>63</th>\n",
       "      <td>ruzigura</td>\n",
       "      <td>CM</td>\n",
       "      <td>1641</td>\n",
       "      <td>1628</td>\n",
       "      <td>1777</td>\n",
       "    </tr>\n",
       "    <tr>\n",
       "      <th>64</th>\n",
       "      <td>cristiancamilosoto</td>\n",
       "      <td>FM</td>\n",
       "      <td>2267</td>\n",
       "      <td>2254</td>\n",
       "      <td>0</td>\n",
       "    </tr>\n",
       "  </tbody>\n",
       "</table>\n",
       "</div>"
      ],
      "text/plain": [
       "              username title  bullet_rating  blitz_rating  rapid_rating\n",
       "55              atalik    GM           2623          2660          2520\n",
       "56          veneteanuc    NM           2183          2190             0\n",
       "57           ebrimabah    FM              0          2162          1954\n",
       "58             busygin    NM           2202          1909          2043\n",
       "59            jackvino    FM           2514          2249          1952\n",
       "60      chessforthesun    NM           2587          2609          2273\n",
       "61         keitharkell    GM           2361          2477          2408\n",
       "62           911master    NM              0          1900          1872\n",
       "63            ruzigura    CM           1641          1628          1777\n",
       "64  cristiancamilosoto    FM           2267          2254             0"
      ]
     },
     "execution_count": 20,
     "metadata": {},
     "output_type": "execute_result"
    }
   ],
   "source": [
    "# escolhe que jogadores voce quer pegar\n",
    "players_to_db = players[55:65]\n",
    "players_to_db"
   ]
  },
  {
   "cell_type": "code",
   "execution_count": 21,
   "id": "a94209da",
   "metadata": {
    "ExecuteTime": {
     "end_time": "2021-11-07T01:17:41.236636Z",
     "start_time": "2021-11-07T00:57:45.792525Z"
    }
   },
   "outputs": [
    {
     "name": "stdout",
     "output_type": "stream",
     "text": [
      "atalik\n",
      "veneteanuc\n",
      "ebrimabah\n",
      "busygin\n",
      "jackvino\n",
      "chessforthesun\n",
      "keitharkell\n",
      "911master\n",
      "ruzigura\n",
      "cristiancamilosoto\n"
     ]
    }
   ],
   "source": [
    "games_db = pd.read_csv('empty_games.csv')\n",
    "\n",
    "for k in players_to_db['username']:\n",
    "    month, year = getDates(k)\n",
    "    print(k)\n",
    "    for i in range(len(month)):\n",
    "        response = chessdotcom.get_player_games_by_month(k,month=month[i],year=year[i]).json\n",
    "        for j in (response['games']):\n",
    "            try:\n",
    "                temp = {\n",
    "                    'id':j['uuid'],\n",
    "                    'ranked':j['rated'],\n",
    "                    'time_control': j['time_class'],\n",
    "                    'status': checkstatus(j['white']['result'],j['black']['result']),\n",
    "                    'winner': checkwinner(j['white'],j['black']),\n",
    "                    'white': (j['white']['username']),\n",
    "                    'black': (j['black']['username']),\n",
    "                    'moves': trataPGN(j['pgn'])\n",
    "                }\n",
    "                #print((j['white']['result'],j['black']['result']))\n",
    "                games_db = games_db.append(temp,ignore_index=True)\n",
    "            except:\n",
    "                temp = 0"
   ]
  },
  {
   "cell_type": "code",
   "execution_count": 22,
   "id": "1eadf9d3",
   "metadata": {
    "ExecuteTime": {
     "end_time": "2021-11-07T01:30:47.786561Z",
     "start_time": "2021-11-07T01:30:47.720341Z"
    }
   },
   "outputs": [
    {
     "data": {
      "text/html": [
       "<div>\n",
       "<style scoped>\n",
       "    .dataframe tbody tr th:only-of-type {\n",
       "        vertical-align: middle;\n",
       "    }\n",
       "\n",
       "    .dataframe tbody tr th {\n",
       "        vertical-align: top;\n",
       "    }\n",
       "\n",
       "    .dataframe thead th {\n",
       "        text-align: right;\n",
       "    }\n",
       "</style>\n",
       "<table border=\"1\" class=\"dataframe\">\n",
       "  <thead>\n",
       "    <tr style=\"text-align: right;\">\n",
       "      <th></th>\n",
       "      <th>id</th>\n",
       "      <th>ranked</th>\n",
       "      <th>time_control</th>\n",
       "      <th>status</th>\n",
       "      <th>winner</th>\n",
       "      <th>white</th>\n",
       "      <th>black</th>\n",
       "      <th>moves</th>\n",
       "    </tr>\n",
       "  </thead>\n",
       "  <tbody>\n",
       "    <tr>\n",
       "      <th>0</th>\n",
       "      <td>e6cd2f50-bb4f-11dd-8000-000000010001</td>\n",
       "      <td>True</td>\n",
       "      <td>blitz</td>\n",
       "      <td>checkmated</td>\n",
       "      <td>Atalik</td>\n",
       "      <td>Atalik</td>\n",
       "      <td>ubahn</td>\n",
       "      <td>1. d4  1... e6  2. c4  2... d6  3. e4  3... c6...</td>\n",
       "    </tr>\n",
       "    <tr>\n",
       "      <th>1</th>\n",
       "      <td>a7564b64-bdba-11dd-8000-000000010001</td>\n",
       "      <td>True</td>\n",
       "      <td>bullet</td>\n",
       "      <td>resigned</td>\n",
       "      <td>Atalik</td>\n",
       "      <td>martinZH</td>\n",
       "      <td>Atalik</td>\n",
       "      <td>1. d4  1... Nf6  2. c4  2... e6  3. Nc3  3... ...</td>\n",
       "    </tr>\n",
       "    <tr>\n",
       "      <th>2</th>\n",
       "      <td>f603e53c-bdba-11dd-8000-000000010001</td>\n",
       "      <td>True</td>\n",
       "      <td>blitz</td>\n",
       "      <td>timeout</td>\n",
       "      <td>Atalik</td>\n",
       "      <td>Atalik</td>\n",
       "      <td>rock_baby_rock</td>\n",
       "      <td>1. d4  1... Nf6  2. c4  2... e6  3. Nc3  3... ...</td>\n",
       "    </tr>\n",
       "    <tr>\n",
       "      <th>3</th>\n",
       "      <td>893d1b0c-bdbb-11dd-8000-000000010001</td>\n",
       "      <td>True</td>\n",
       "      <td>blitz</td>\n",
       "      <td>timeout</td>\n",
       "      <td>okahais</td>\n",
       "      <td>okahais</td>\n",
       "      <td>Atalik</td>\n",
       "      <td>1. e4  1... e6  2. d4  2... d5  3. Nd2  3... N...</td>\n",
       "    </tr>\n",
       "    <tr>\n",
       "      <th>4</th>\n",
       "      <td>b8f12078-bdc5-11dd-8000-000000010001</td>\n",
       "      <td>True</td>\n",
       "      <td>blitz</td>\n",
       "      <td>resigned</td>\n",
       "      <td>Atalik</td>\n",
       "      <td>Atalik</td>\n",
       "      <td>mattkvagabond</td>\n",
       "      <td>1. d4  1... c5  2. d5  2... d6  3. e4  3... e6...</td>\n",
       "    </tr>\n",
       "    <tr>\n",
       "      <th>...</th>\n",
       "      <td>...</td>\n",
       "      <td>...</td>\n",
       "      <td>...</td>\n",
       "      <td>...</td>\n",
       "      <td>...</td>\n",
       "      <td>...</td>\n",
       "      <td>...</td>\n",
       "      <td>...</td>\n",
       "    </tr>\n",
       "    <tr>\n",
       "      <th>63780</th>\n",
       "      <td>8d7277fc-9309-11eb-b848-536974010001</td>\n",
       "      <td>True</td>\n",
       "      <td>bullet</td>\n",
       "      <td>checkmated</td>\n",
       "      <td>cristiancamilosoto</td>\n",
       "      <td>cristiancamilosoto</td>\n",
       "      <td>LordIron</td>\n",
       "      <td>1. c4  1... b6  2. Nc3  2... Bb7  3. e4  3... ...</td>\n",
       "    </tr>\n",
       "    <tr>\n",
       "      <th>63781</th>\n",
       "      <td>f889ef74-9309-11eb-b848-536974010001</td>\n",
       "      <td>True</td>\n",
       "      <td>bullet</td>\n",
       "      <td>checkmated</td>\n",
       "      <td>cristiancamilosoto</td>\n",
       "      <td>cristiancamilosoto</td>\n",
       "      <td>allvim</td>\n",
       "      <td>1. c4  1... Nf6  2. Nc3  2... g6  3. e4  3... ...</td>\n",
       "    </tr>\n",
       "    <tr>\n",
       "      <th>63782</th>\n",
       "      <td>5e8bacf5-930a-11eb-b848-536974010001</td>\n",
       "      <td>True</td>\n",
       "      <td>bullet</td>\n",
       "      <td>checkmated</td>\n",
       "      <td>kinga2008</td>\n",
       "      <td>kinga2008</td>\n",
       "      <td>cristiancamilosoto</td>\n",
       "      <td>1. e4  1... c5  2. Nf3  2... e6  3. c3  3... N...</td>\n",
       "    </tr>\n",
       "    <tr>\n",
       "      <th>63783</th>\n",
       "      <td>c644683c-930a-11eb-b848-536974010001</td>\n",
       "      <td>True</td>\n",
       "      <td>bullet</td>\n",
       "      <td>timeout</td>\n",
       "      <td>Manukyan_Artak</td>\n",
       "      <td>cristiancamilosoto</td>\n",
       "      <td>Manukyan_Artak</td>\n",
       "      <td>1. c4  1... c6  2. Nc3  2... Nf6  3. e4  3... ...</td>\n",
       "    </tr>\n",
       "    <tr>\n",
       "      <th>63784</th>\n",
       "      <td>3482c20b-930b-11eb-b848-536974010001</td>\n",
       "      <td>True</td>\n",
       "      <td>bullet</td>\n",
       "      <td>timeout</td>\n",
       "      <td>ChessFunMaker</td>\n",
       "      <td>ChessFunMaker</td>\n",
       "      <td>cristiancamilosoto</td>\n",
       "      <td>1. c4  1... Nf6  2. g3  2... d6  3. Bg2  3... ...</td>\n",
       "    </tr>\n",
       "  </tbody>\n",
       "</table>\n",
       "<p>63785 rows × 8 columns</p>\n",
       "</div>"
      ],
      "text/plain": [
       "                                         id ranked time_control      status  \\\n",
       "0      e6cd2f50-bb4f-11dd-8000-000000010001   True        blitz  checkmated   \n",
       "1      a7564b64-bdba-11dd-8000-000000010001   True       bullet    resigned   \n",
       "2      f603e53c-bdba-11dd-8000-000000010001   True        blitz     timeout   \n",
       "3      893d1b0c-bdbb-11dd-8000-000000010001   True        blitz     timeout   \n",
       "4      b8f12078-bdc5-11dd-8000-000000010001   True        blitz    resigned   \n",
       "...                                     ...    ...          ...         ...   \n",
       "63780  8d7277fc-9309-11eb-b848-536974010001   True       bullet  checkmated   \n",
       "63781  f889ef74-9309-11eb-b848-536974010001   True       bullet  checkmated   \n",
       "63782  5e8bacf5-930a-11eb-b848-536974010001   True       bullet  checkmated   \n",
       "63783  c644683c-930a-11eb-b848-536974010001   True       bullet     timeout   \n",
       "63784  3482c20b-930b-11eb-b848-536974010001   True       bullet     timeout   \n",
       "\n",
       "                   winner               white               black  \\\n",
       "0                  Atalik              Atalik               ubahn   \n",
       "1                  Atalik            martinZH              Atalik   \n",
       "2                  Atalik              Atalik      rock_baby_rock   \n",
       "3                 okahais             okahais              Atalik   \n",
       "4                  Atalik              Atalik       mattkvagabond   \n",
       "...                   ...                 ...                 ...   \n",
       "63780  cristiancamilosoto  cristiancamilosoto            LordIron   \n",
       "63781  cristiancamilosoto  cristiancamilosoto              allvim   \n",
       "63782           kinga2008           kinga2008  cristiancamilosoto   \n",
       "63783      Manukyan_Artak  cristiancamilosoto      Manukyan_Artak   \n",
       "63784       ChessFunMaker       ChessFunMaker  cristiancamilosoto   \n",
       "\n",
       "                                                   moves  \n",
       "0      1. d4  1... e6  2. c4  2... d6  3. e4  3... c6...  \n",
       "1      1. d4  1... Nf6  2. c4  2... e6  3. Nc3  3... ...  \n",
       "2      1. d4  1... Nf6  2. c4  2... e6  3. Nc3  3... ...  \n",
       "3      1. e4  1... e6  2. d4  2... d5  3. Nd2  3... N...  \n",
       "4      1. d4  1... c5  2. d5  2... d6  3. e4  3... e6...  \n",
       "...                                                  ...  \n",
       "63780  1. c4  1... b6  2. Nc3  2... Bb7  3. e4  3... ...  \n",
       "63781  1. c4  1... Nf6  2. Nc3  2... g6  3. e4  3... ...  \n",
       "63782  1. e4  1... c5  2. Nf3  2... e6  3. c3  3... N...  \n",
       "63783  1. c4  1... c6  2. Nc3  2... Nf6  3. e4  3... ...  \n",
       "63784  1. c4  1... Nf6  2. g3  2... d6  3. Bg2  3... ...  \n",
       "\n",
       "[63785 rows x 8 columns]"
      ]
     },
     "execution_count": 22,
     "metadata": {},
     "output_type": "execute_result"
    }
   ],
   "source": [
    "games_db"
   ]
  },
  {
   "cell_type": "code",
   "execution_count": 23,
   "id": "595d1e0a",
   "metadata": {
    "ExecuteTime": {
     "end_time": "2021-11-07T01:33:41.744419Z",
     "start_time": "2021-11-07T01:33:41.043078Z"
    }
   },
   "outputs": [],
   "source": [
    "# salva em csv\n",
    "games_db.to_csv('games_db_55_64.csv',index = False)"
   ]
  },
  {
   "cell_type": "code",
   "execution_count": null,
   "id": "46fa551b",
   "metadata": {},
   "outputs": [],
   "source": [
    "# Pesquisa de nomes no dataframe\n",
    "#w = 'chesspartner123'\n",
    "#texts = [*filter(lambda x: w in x, games_db['winner'])]\n",
    "#print(*texts, sep=f'\\n\\n{\"=\" * 200}\\n\\n')"
   ]
  }
 ],
 "metadata": {
  "interpreter": {
   "hash": "a00de7097f625a3059332afd72acb8e9b2cb3f21f921c12b0c9a37fa2a2945a1"
  },
  "kernelspec": {
   "display_name": "Python 3.8.8 64-bit ('base': conda)",
   "name": "python3"
  },
  "language_info": {
   "codemirror_mode": {
    "name": "ipython",
    "version": 3
   },
   "file_extension": ".py",
   "mimetype": "text/x-python",
   "name": "python",
   "nbconvert_exporter": "python",
   "pygments_lexer": "ipython3",
   "version": "3.8.8"
  },
  "toc": {
   "base_numbering": 1,
   "nav_menu": {},
   "number_sections": false,
   "sideBar": false,
   "skip_h1_title": false,
   "title_cell": "Table of Contents",
   "title_sidebar": "Contents",
   "toc_cell": false,
   "toc_position": {},
   "toc_section_display": false,
   "toc_window_display": false
  }
 },
 "nbformat": 4,
 "nbformat_minor": 5
}
