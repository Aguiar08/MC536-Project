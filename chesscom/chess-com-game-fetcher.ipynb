{
 "cells": [
  {
   "cell_type": "code",
   "execution_count": 198,
   "id": "0705b521",
   "metadata": {
    "ExecuteTime": {
     "end_time": "2021-11-07T00:53:03.028905Z",
     "start_time": "2021-11-07T00:53:03.017871Z"
    }
   },
   "outputs": [],
   "source": [
    "import re\n",
    "import urllib\n",
    "import urllib.request\n",
    "import numpy as np\n",
    "import pandas as pd\n",
    "import matplotlib.pyplot as plt\n",
    "import seaborn as sns\n",
    "import json\n",
    "%matplotlib inline\n",
    "plt.style.use('ggplot')\n",
    "sns.set_style('darkgrid')"
   ]
  },
  {
   "cell_type": "code",
   "execution_count": 199,
   "id": "12c7fbfe",
   "metadata": {
    "ExecuteTime": {
     "end_time": "2021-11-07T00:53:04.256503Z",
     "start_time": "2021-11-07T00:53:04.250481Z"
    }
   },
   "outputs": [],
   "source": [
    "# embaralhei a lista de players pra nao pegar só de GM - NAO PRECISA RODAR ESSA CEDULA DNV\n",
    "# shuffled_players.to_csv('shuffled_player_list_chesscom.csv',index = False)"
   ]
  },
  {
   "cell_type": "code",
   "execution_count": 200,
   "id": "b434b879",
   "metadata": {
    "ExecuteTime": {
     "end_time": "2021-11-07T00:53:05.087775Z",
     "start_time": "2021-11-07T00:53:05.060685Z"
    }
   },
   "outputs": [],
   "source": [
    "players = pd.read_csv('shuffled_player_list_chesscom.csv')"
   ]
  },
  {
   "cell_type": "code",
   "execution_count": 201,
   "id": "564eb5fe",
   "metadata": {
    "ExecuteTime": {
     "end_time": "2021-11-07T00:53:05.993797Z",
     "start_time": "2021-11-07T00:53:05.974736Z"
    }
   },
   "outputs": [
    {
     "data": {
      "text/html": [
       "<div>\n",
       "<style scoped>\n",
       "    .dataframe tbody tr th:only-of-type {\n",
       "        vertical-align: middle;\n",
       "    }\n",
       "\n",
       "    .dataframe tbody tr th {\n",
       "        vertical-align: top;\n",
       "    }\n",
       "\n",
       "    .dataframe thead th {\n",
       "        text-align: right;\n",
       "    }\n",
       "</style>\n",
       "<table border=\"1\" class=\"dataframe\">\n",
       "  <thead>\n",
       "    <tr style=\"text-align: right;\">\n",
       "      <th></th>\n",
       "      <th>username</th>\n",
       "      <th>title</th>\n",
       "      <th>bullet_rating</th>\n",
       "      <th>blitz_rating</th>\n",
       "      <th>rapid_rating</th>\n",
       "    </tr>\n",
       "  </thead>\n",
       "  <tbody>\n",
       "    <tr>\n",
       "      <th>0</th>\n",
       "      <td>michaelq2d5</td>\n",
       "      <td>GM</td>\n",
       "      <td>2793</td>\n",
       "      <td>2765</td>\n",
       "      <td>2903</td>\n",
       "    </tr>\n",
       "    <tr>\n",
       "      <th>1</th>\n",
       "      <td>bernd_stromberg</td>\n",
       "      <td>CM</td>\n",
       "      <td>2619</td>\n",
       "      <td>2701</td>\n",
       "      <td>0</td>\n",
       "    </tr>\n",
       "    <tr>\n",
       "      <th>2</th>\n",
       "      <td>g2_coder</td>\n",
       "      <td>FM</td>\n",
       "      <td>2350</td>\n",
       "      <td>2200</td>\n",
       "      <td>0</td>\n",
       "    </tr>\n",
       "    <tr>\n",
       "      <th>3</th>\n",
       "      <td>mennabarreto</td>\n",
       "      <td>FM</td>\n",
       "      <td>2251</td>\n",
       "      <td>2407</td>\n",
       "      <td>0</td>\n",
       "    </tr>\n",
       "    <tr>\n",
       "      <th>4</th>\n",
       "      <td>radojeiriz</td>\n",
       "      <td>FM</td>\n",
       "      <td>2388</td>\n",
       "      <td>2271</td>\n",
       "      <td>2489</td>\n",
       "    </tr>\n",
       "    <tr>\n",
       "      <th>...</th>\n",
       "      <td>...</td>\n",
       "      <td>...</td>\n",
       "      <td>...</td>\n",
       "      <td>...</td>\n",
       "      <td>...</td>\n",
       "    </tr>\n",
       "    <tr>\n",
       "      <th>8556</th>\n",
       "      <td>skiiier</td>\n",
       "      <td>FM</td>\n",
       "      <td>2492</td>\n",
       "      <td>2477</td>\n",
       "      <td>0</td>\n",
       "    </tr>\n",
       "    <tr>\n",
       "      <th>8557</th>\n",
       "      <td>volodymyrmolyboha</td>\n",
       "      <td>NM</td>\n",
       "      <td>2431</td>\n",
       "      <td>2503</td>\n",
       "      <td>2189</td>\n",
       "    </tr>\n",
       "    <tr>\n",
       "      <th>8558</th>\n",
       "      <td>miodrag-jevtic</td>\n",
       "      <td>FM</td>\n",
       "      <td>2378</td>\n",
       "      <td>2356</td>\n",
       "      <td>1936</td>\n",
       "    </tr>\n",
       "    <tr>\n",
       "      <th>8559</th>\n",
       "      <td>jerryle</td>\n",
       "      <td>NM</td>\n",
       "      <td>2214</td>\n",
       "      <td>2251</td>\n",
       "      <td>1365</td>\n",
       "    </tr>\n",
       "    <tr>\n",
       "      <th>8560</th>\n",
       "      <td>crni_ns</td>\n",
       "      <td>FM</td>\n",
       "      <td>2036</td>\n",
       "      <td>2328</td>\n",
       "      <td>1833</td>\n",
       "    </tr>\n",
       "  </tbody>\n",
       "</table>\n",
       "<p>8561 rows × 5 columns</p>\n",
       "</div>"
      ],
      "text/plain": [
       "               username title  bullet_rating  blitz_rating  rapid_rating\n",
       "0           michaelq2d5    GM           2793          2765          2903\n",
       "1       bernd_stromberg    CM           2619          2701             0\n",
       "2              g2_coder    FM           2350          2200             0\n",
       "3          mennabarreto    FM           2251          2407             0\n",
       "4            radojeiriz    FM           2388          2271          2489\n",
       "...                 ...   ...            ...           ...           ...\n",
       "8556            skiiier    FM           2492          2477             0\n",
       "8557  volodymyrmolyboha    NM           2431          2503          2189\n",
       "8558     miodrag-jevtic    FM           2378          2356          1936\n",
       "8559            jerryle    NM           2214          2251          1365\n",
       "8560            crni_ns    FM           2036          2328          1833\n",
       "\n",
       "[8561 rows x 5 columns]"
      ]
     },
     "execution_count": 201,
     "metadata": {},
     "output_type": "execute_result"
    }
   ],
   "source": [
    "players"
   ]
  },
  {
   "cell_type": "code",
   "execution_count": 202,
   "id": "4065c550",
   "metadata": {
    "ExecuteTime": {
     "end_time": "2021-11-07T00:53:10.865039Z",
     "start_time": "2021-11-07T00:53:08.222737Z"
    }
   },
   "outputs": [
    {
     "name": "stdout",
     "output_type": "stream",
     "text": [
      "Requirement already satisfied: nest_asyncio in c:\\users\\brnta\\anaconda3\\lib\\site-packages (1.5.1)\n"
     ]
    }
   ],
   "source": [
    "# resolve erro \"This event loop is already running\"\n",
    "!pip install nest_asyncio\n",
    "import nest_asyncio\n",
    "nest_asyncio.apply()"
   ]
  },
  {
   "cell_type": "code",
   "execution_count": 203,
   "id": "e577dc6c",
   "metadata": {
    "ExecuteTime": {
     "end_time": "2021-11-07T00:53:13.003223Z",
     "start_time": "2021-11-07T00:53:11.392316Z"
    }
   },
   "outputs": [
    {
     "name": "stderr",
     "output_type": "stream",
     "text": [
      "ERROR: Could not find a version that satisfies the requirement chessdotcom\n",
      "ERROR: No matching distribution found for chessdotcom\n"
     ]
    }
   ],
   "source": [
    "# instala e importa https://github.com/sarartur/chess.com\n",
    "# wrapper para dados publicados pelo chess.com\n",
    "!pip install chessdotcom\n",
    "import chessdotcom"
   ]
  },
  {
   "cell_type": "code",
   "execution_count": 211,
   "id": "09d2de4a",
   "metadata": {
    "ExecuteTime": {
     "end_time": "2021-11-07T00:56:53.435646Z",
     "start_time": "2021-11-07T00:56:53.426616Z"
    }
   },
   "outputs": [],
   "source": [
    "# peguei um role do stack overflow e editei, pega os anos/meses que teve jogo de cada pessoa\n",
    "\n",
    "def getDates(user):\n",
    "    username = user #change \n",
    "    baseUrl = \"https://api.chess.com/pub/player/\" + username + \"/games/\"\n",
    "    archivesUrl = baseUrl + \"archives\"\n",
    "\n",
    "    #read the archives url and store in a list\n",
    "    f = urllib.request.urlopen(archivesUrl)\n",
    "    archives = f.read().decode(\"utf-8\")\n",
    "    archives = archives.replace(\"{\\\"archives\\\":[\\\"\", \"\\\",\\\"\")\n",
    "    archivesList = archives.split(\"\\\",\\\"\" + baseUrl)\n",
    "    archivesList[len(archivesList)-1] = archivesList[len(archivesList)-1].rstrip(\"\\\"]}\")\n",
    "    archivesList.remove('')\n",
    "    month = []\n",
    "    year = []\n",
    "    for i in archivesList:\n",
    "        year.append(int(i[0:4]))\n",
    "        month.append(int(i[5:]))\n",
    "    return(month, year)"
   ]
  },
  {
   "cell_type": "code",
   "execution_count": 205,
   "id": "a1f5f2a6",
   "metadata": {
    "ExecuteTime": {
     "end_time": "2021-11-07T00:53:15.428338Z",
     "start_time": "2021-11-07T00:53:15.412284Z"
    }
   },
   "outputs": [
    {
     "data": {
      "text/html": [
       "<div>\n",
       "<style scoped>\n",
       "    .dataframe tbody tr th:only-of-type {\n",
       "        vertical-align: middle;\n",
       "    }\n",
       "\n",
       "    .dataframe tbody tr th {\n",
       "        vertical-align: top;\n",
       "    }\n",
       "\n",
       "    .dataframe thead th {\n",
       "        text-align: right;\n",
       "    }\n",
       "</style>\n",
       "<table border=\"1\" class=\"dataframe\">\n",
       "  <thead>\n",
       "    <tr style=\"text-align: right;\">\n",
       "      <th></th>\n",
       "      <th>id</th>\n",
       "      <th>ranked</th>\n",
       "      <th>time_control</th>\n",
       "      <th>status</th>\n",
       "      <th>winner</th>\n",
       "      <th>white</th>\n",
       "      <th>black</th>\n",
       "      <th>moves</th>\n",
       "    </tr>\n",
       "  </thead>\n",
       "  <tbody>\n",
       "  </tbody>\n",
       "</table>\n",
       "</div>"
      ],
      "text/plain": [
       "Empty DataFrame\n",
       "Columns: [id, ranked, time_control, status, winner, white, black, moves]\n",
       "Index: []"
      ]
     },
     "execution_count": 205,
     "metadata": {},
     "output_type": "execute_result"
    }
   ],
   "source": [
    "games_db = pd.read_csv('empty_games.csv')\n",
    "games_db.head()"
   ]
  },
  {
   "cell_type": "code",
   "execution_count": 207,
   "id": "375b685b",
   "metadata": {
    "ExecuteTime": {
     "end_time": "2021-11-07T00:53:17.979870Z",
     "start_time": "2021-11-07T00:53:17.961813Z"
    }
   },
   "outputs": [],
   "source": [
    "def checkstatus(white_result, black_result):\n",
    "    if white_result != 'win':\n",
    "        return white_result\n",
    "    else:\n",
    "        return black_result\n",
    "    \n",
    "def checkwinner(white, black):\n",
    "    if white['result'] == 'win':\n",
    "        return white['username']\n",
    "    elif black['result'] == 'win':\n",
    "        return black['username']\n",
    "    else:\n",
    "        return 'draw'\n",
    "\n",
    "def trataPGN(pgn):\n",
    "    # remove clock\n",
    "    txt = '{\\[%clk \\d+:\\d+:\\d+(\\.\\d+)?\\]}'\n",
    "    a = re.sub(txt, \"\", pgn)\n",
    "\n",
    "    # remove header\n",
    "    txt = '\\[.+\\]'\n",
    "    a = re.sub(txt, \"\", a)\n",
    "    a\n",
    "\n",
    "    # remove \\n\n",
    "    txt = '\\\\n'\n",
    "    a = re.sub(txt, \"\", a)\n",
    "    a\n",
    "    \n",
    "    return(a)    "
   ]
  },
  {
   "cell_type": "code",
   "execution_count": 208,
   "id": "47de2d42",
   "metadata": {
    "ExecuteTime": {
     "end_time": "2021-11-07T00:53:26.232972Z",
     "start_time": "2021-11-07T00:53:26.222940Z"
    }
   },
   "outputs": [
    {
     "data": {
      "text/html": [
       "<div>\n",
       "<style scoped>\n",
       "    .dataframe tbody tr th:only-of-type {\n",
       "        vertical-align: middle;\n",
       "    }\n",
       "\n",
       "    .dataframe tbody tr th {\n",
       "        vertical-align: top;\n",
       "    }\n",
       "\n",
       "    .dataframe thead th {\n",
       "        text-align: right;\n",
       "    }\n",
       "</style>\n",
       "<table border=\"1\" class=\"dataframe\">\n",
       "  <thead>\n",
       "    <tr style=\"text-align: right;\">\n",
       "      <th></th>\n",
       "      <th>username</th>\n",
       "      <th>title</th>\n",
       "      <th>bullet_rating</th>\n",
       "      <th>blitz_rating</th>\n",
       "      <th>rapid_rating</th>\n",
       "    </tr>\n",
       "  </thead>\n",
       "  <tbody>\n",
       "    <tr>\n",
       "      <th>0</th>\n",
       "      <td>michaelq2d5</td>\n",
       "      <td>GM</td>\n",
       "      <td>2793</td>\n",
       "      <td>2765</td>\n",
       "      <td>2903</td>\n",
       "    </tr>\n",
       "    <tr>\n",
       "      <th>1</th>\n",
       "      <td>bernd_stromberg</td>\n",
       "      <td>CM</td>\n",
       "      <td>2619</td>\n",
       "      <td>2701</td>\n",
       "      <td>0</td>\n",
       "    </tr>\n",
       "    <tr>\n",
       "      <th>2</th>\n",
       "      <td>g2_coder</td>\n",
       "      <td>FM</td>\n",
       "      <td>2350</td>\n",
       "      <td>2200</td>\n",
       "      <td>0</td>\n",
       "    </tr>\n",
       "  </tbody>\n",
       "</table>\n",
       "</div>"
      ],
      "text/plain": [
       "          username title  bullet_rating  blitz_rating  rapid_rating\n",
       "0      michaelq2d5    GM           2793          2765          2903\n",
       "1  bernd_stromberg    CM           2619          2701             0\n",
       "2         g2_coder    FM           2350          2200             0"
      ]
     },
     "execution_count": 208,
     "metadata": {},
     "output_type": "execute_result"
    }
   ],
   "source": [
    "# escolhe que jogadores voce quer pegar\n",
    "players_to_db = players[0:3]\n",
    "players_to_db.head()"
   ]
  },
  {
   "cell_type": "code",
   "execution_count": 212,
   "id": "a94209da",
   "metadata": {
    "ExecuteTime": {
     "end_time": "2021-11-07T01:17:41.236636Z",
     "start_time": "2021-11-07T00:57:45.792525Z"
    }
   },
   "outputs": [],
   "source": [
    "games_db = pd.read_csv('empty_games.csv')\n",
    "\n",
    "for k in players_to_db['username']:\n",
    "    month, year = getDates(k)\n",
    "    for i in range(len(month)):\n",
    "        response = chessdotcom.get_player_games_by_month(k,month=month[i],year=year[i]).json\n",
    "        for j in (response['games']):\n",
    "            try:\n",
    "                temp = {\n",
    "                    'id':j['uuid'],\n",
    "                    'ranked':j['rated'],\n",
    "                    'time_control': j['time_class'],\n",
    "                    'status': checkstatus(j['white']['result'],j['black']['result']),\n",
    "                    'winner': checkwinner(j['white'],j['black']),\n",
    "                    'white': (j['white']['username']),\n",
    "                    'black': (j['black']['username']),\n",
    "                    'moves': trataPGN(j['pgn'])\n",
    "                }\n",
    "                #print((j['white']['result'],j['black']['result']))\n",
    "                games_db = games_db.append(temp,ignore_index=True)\n",
    "            except:\n",
    "                temp = 0"
   ]
  },
  {
   "cell_type": "code",
   "execution_count": 213,
   "id": "1eadf9d3",
   "metadata": {
    "ExecuteTime": {
     "end_time": "2021-11-07T01:30:47.786561Z",
     "start_time": "2021-11-07T01:30:47.720341Z"
    }
   },
   "outputs": [
    {
     "data": {
      "text/html": [
       "<div>\n",
       "<style scoped>\n",
       "    .dataframe tbody tr th:only-of-type {\n",
       "        vertical-align: middle;\n",
       "    }\n",
       "\n",
       "    .dataframe tbody tr th {\n",
       "        vertical-align: top;\n",
       "    }\n",
       "\n",
       "    .dataframe thead th {\n",
       "        text-align: right;\n",
       "    }\n",
       "</style>\n",
       "<table border=\"1\" class=\"dataframe\">\n",
       "  <thead>\n",
       "    <tr style=\"text-align: right;\">\n",
       "      <th></th>\n",
       "      <th>id</th>\n",
       "      <th>ranked</th>\n",
       "      <th>time_control</th>\n",
       "      <th>status</th>\n",
       "      <th>winner</th>\n",
       "      <th>white</th>\n",
       "      <th>black</th>\n",
       "      <th>moves</th>\n",
       "    </tr>\n",
       "  </thead>\n",
       "  <tbody>\n",
       "    <tr>\n",
       "      <th>0</th>\n",
       "      <td>db338032-0f2b-11df-8000-000000010001</td>\n",
       "      <td>True</td>\n",
       "      <td>blitz</td>\n",
       "      <td>resigned</td>\n",
       "      <td>michaelq2d5</td>\n",
       "      <td>michaelq2d5</td>\n",
       "      <td>malachi76</td>\n",
       "      <td>1. d4  1... d5  2. c4  2... c6  3. cxd5  3... ...</td>\n",
       "    </tr>\n",
       "    <tr>\n",
       "      <th>1</th>\n",
       "      <td>38c7cc80-0f2c-11df-8000-000000010001</td>\n",
       "      <td>True</td>\n",
       "      <td>blitz</td>\n",
       "      <td>checkmated</td>\n",
       "      <td>malachi76</td>\n",
       "      <td>malachi76</td>\n",
       "      <td>michaelq2d5</td>\n",
       "      <td>1. e4  1... e5  2. Nf3  2... Nc6  3. Bc4  3......</td>\n",
       "    </tr>\n",
       "    <tr>\n",
       "      <th>2</th>\n",
       "      <td>978d4682-0f2c-11df-8000-000000010001</td>\n",
       "      <td>True</td>\n",
       "      <td>blitz</td>\n",
       "      <td>resigned</td>\n",
       "      <td>michaelq2d5</td>\n",
       "      <td>Jojo_Dy</td>\n",
       "      <td>michaelq2d5</td>\n",
       "      <td>1. e4  1... e5  2. Nf3  2... Nc6  3. Bb5  3......</td>\n",
       "    </tr>\n",
       "    <tr>\n",
       "      <th>3</th>\n",
       "      <td>ca373ea8-0f2c-11df-8000-000000010001</td>\n",
       "      <td>True</td>\n",
       "      <td>blitz</td>\n",
       "      <td>timeout</td>\n",
       "      <td>Surfsmurf</td>\n",
       "      <td>michaelq2d5</td>\n",
       "      <td>Surfsmurf</td>\n",
       "      <td>1. d4  1... d6  2. Nf3  2... Bg4  3. c4  3... ...</td>\n",
       "    </tr>\n",
       "    <tr>\n",
       "      <th>4</th>\n",
       "      <td>3e71e200-0f2d-11df-8000-000000010001</td>\n",
       "      <td>True</td>\n",
       "      <td>blitz</td>\n",
       "      <td>resigned</td>\n",
       "      <td>michaelq2d5</td>\n",
       "      <td>Adolf_Anderssen</td>\n",
       "      <td>michaelq2d5</td>\n",
       "      <td>1. e4  1... e5  2. Nf3  2... Nc6  3. Bb5  3......</td>\n",
       "    </tr>\n",
       "    <tr>\n",
       "      <th>...</th>\n",
       "      <td>...</td>\n",
       "      <td>...</td>\n",
       "      <td>...</td>\n",
       "      <td>...</td>\n",
       "      <td>...</td>\n",
       "      <td>...</td>\n",
       "      <td>...</td>\n",
       "      <td>...</td>\n",
       "    </tr>\n",
       "    <tr>\n",
       "      <th>36443</th>\n",
       "      <td>52dfcc80-aa6b-11e6-8000-000000010001</td>\n",
       "      <td>True</td>\n",
       "      <td>bullet</td>\n",
       "      <td>resigned</td>\n",
       "      <td>SaudiSalman</td>\n",
       "      <td>SaudiSalman</td>\n",
       "      <td>G2_Coder</td>\n",
       "      <td>1. e3  1... e5  2. Bd3  2... Qf6  3. f4  3... ...</td>\n",
       "    </tr>\n",
       "    <tr>\n",
       "      <th>36444</th>\n",
       "      <td>a5b9843c-aa6b-11e6-8000-000000010001</td>\n",
       "      <td>True</td>\n",
       "      <td>bullet</td>\n",
       "      <td>checkmated</td>\n",
       "      <td>G2_Coder</td>\n",
       "      <td>ricfazolim</td>\n",
       "      <td>G2_Coder</td>\n",
       "      <td>1. e4  1... e5  2. Nf3  2... Bc5  3. c3  3... ...</td>\n",
       "    </tr>\n",
       "    <tr>\n",
       "      <th>36445</th>\n",
       "      <td>2037e1f8-ab08-11e6-8000-000000010001</td>\n",
       "      <td>True</td>\n",
       "      <td>blitz</td>\n",
       "      <td>abandoned</td>\n",
       "      <td>G2_Coder</td>\n",
       "      <td>Vin_it007</td>\n",
       "      <td>G2_Coder</td>\n",
       "      <td>1. Nf3  1... Nf6  2. d4  2... e5  3. c3  3... ...</td>\n",
       "    </tr>\n",
       "    <tr>\n",
       "      <th>36446</th>\n",
       "      <td>08fdf1a8-ab12-11e6-8000-000000010001</td>\n",
       "      <td>True</td>\n",
       "      <td>blitz</td>\n",
       "      <td>checkmated</td>\n",
       "      <td>G2_Coder</td>\n",
       "      <td>G2_Coder</td>\n",
       "      <td>10101987</td>\n",
       "      <td>1. d4  1... e6  2. Nf3  2... Qf6  3. e4  3... ...</td>\n",
       "    </tr>\n",
       "    <tr>\n",
       "      <th>36447</th>\n",
       "      <td>3fc52c28-ac26-11e6-8000-000000010001</td>\n",
       "      <td>True</td>\n",
       "      <td>blitz</td>\n",
       "      <td>checkmated</td>\n",
       "      <td>G2_Coder</td>\n",
       "      <td>G2_Coder</td>\n",
       "      <td>cristiano1972</td>\n",
       "      <td>1. d4  1... g6  2. Nf3  2... d5  3. Bf4  3... ...</td>\n",
       "    </tr>\n",
       "  </tbody>\n",
       "</table>\n",
       "<p>36448 rows × 8 columns</p>\n",
       "</div>"
      ],
      "text/plain": [
       "                                         id ranked time_control      status  \\\n",
       "0      db338032-0f2b-11df-8000-000000010001   True        blitz    resigned   \n",
       "1      38c7cc80-0f2c-11df-8000-000000010001   True        blitz  checkmated   \n",
       "2      978d4682-0f2c-11df-8000-000000010001   True        blitz    resigned   \n",
       "3      ca373ea8-0f2c-11df-8000-000000010001   True        blitz     timeout   \n",
       "4      3e71e200-0f2d-11df-8000-000000010001   True        blitz    resigned   \n",
       "...                                     ...    ...          ...         ...   \n",
       "36443  52dfcc80-aa6b-11e6-8000-000000010001   True       bullet    resigned   \n",
       "36444  a5b9843c-aa6b-11e6-8000-000000010001   True       bullet  checkmated   \n",
       "36445  2037e1f8-ab08-11e6-8000-000000010001   True        blitz   abandoned   \n",
       "36446  08fdf1a8-ab12-11e6-8000-000000010001   True        blitz  checkmated   \n",
       "36447  3fc52c28-ac26-11e6-8000-000000010001   True        blitz  checkmated   \n",
       "\n",
       "            winner            white          black  \\\n",
       "0      michaelq2d5      michaelq2d5      malachi76   \n",
       "1        malachi76        malachi76    michaelq2d5   \n",
       "2      michaelq2d5          Jojo_Dy    michaelq2d5   \n",
       "3        Surfsmurf      michaelq2d5      Surfsmurf   \n",
       "4      michaelq2d5  Adolf_Anderssen    michaelq2d5   \n",
       "...            ...              ...            ...   \n",
       "36443  SaudiSalman      SaudiSalman       G2_Coder   \n",
       "36444     G2_Coder       ricfazolim       G2_Coder   \n",
       "36445     G2_Coder        Vin_it007       G2_Coder   \n",
       "36446     G2_Coder         G2_Coder       10101987   \n",
       "36447     G2_Coder         G2_Coder  cristiano1972   \n",
       "\n",
       "                                                   moves  \n",
       "0      1. d4  1... d5  2. c4  2... c6  3. cxd5  3... ...  \n",
       "1      1. e4  1... e5  2. Nf3  2... Nc6  3. Bc4  3......  \n",
       "2      1. e4  1... e5  2. Nf3  2... Nc6  3. Bb5  3......  \n",
       "3      1. d4  1... d6  2. Nf3  2... Bg4  3. c4  3... ...  \n",
       "4      1. e4  1... e5  2. Nf3  2... Nc6  3. Bb5  3......  \n",
       "...                                                  ...  \n",
       "36443  1. e3  1... e5  2. Bd3  2... Qf6  3. f4  3... ...  \n",
       "36444  1. e4  1... e5  2. Nf3  2... Bc5  3. c3  3... ...  \n",
       "36445  1. Nf3  1... Nf6  2. d4  2... e5  3. c3  3... ...  \n",
       "36446  1. d4  1... e6  2. Nf3  2... Qf6  3. e4  3... ...  \n",
       "36447  1. d4  1... g6  2. Nf3  2... d5  3. Bf4  3... ...  \n",
       "\n",
       "[36448 rows x 8 columns]"
      ]
     },
     "execution_count": 213,
     "metadata": {},
     "output_type": "execute_result"
    }
   ],
   "source": [
    "games_db"
   ]
  },
  {
   "cell_type": "code",
   "execution_count": 214,
   "id": "595d1e0a",
   "metadata": {
    "ExecuteTime": {
     "end_time": "2021-11-07T01:33:41.744419Z",
     "start_time": "2021-11-07T01:33:41.043078Z"
    }
   },
   "outputs": [],
   "source": [
    "# salva em csv\n",
    "games_db.to_csv('games_db_1_3.csv',index = False)"
   ]
  },
  {
   "cell_type": "code",
   "execution_count": null,
   "id": "46fa551b",
   "metadata": {},
   "outputs": [],
   "source": []
  }
 ],
 "metadata": {
  "kernelspec": {
   "display_name": "Python 3",
   "language": "python",
   "name": "python3"
  },
  "language_info": {
   "codemirror_mode": {
    "name": "ipython",
    "version": 3
   },
   "file_extension": ".py",
   "mimetype": "text/x-python",
   "name": "python",
   "nbconvert_exporter": "python",
   "pygments_lexer": "ipython3",
   "version": "3.8.8"
  },
  "toc": {
   "base_numbering": 1,
   "nav_menu": {},
   "number_sections": false,
   "sideBar": false,
   "skip_h1_title": false,
   "title_cell": "Table of Contents",
   "title_sidebar": "Contents",
   "toc_cell": false,
   "toc_position": {},
   "toc_section_display": false,
   "toc_window_display": false
  }
 },
 "nbformat": 4,
 "nbformat_minor": 5
}
