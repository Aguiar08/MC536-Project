{
 "cells": [
  {
   "cell_type": "code",
   "execution_count": 1,
   "metadata": {},
   "outputs": [],
   "source": [
    "import re\n",
    "import numpy as np\n",
    "import pandas as pd"
   ]
  },
  {
   "cell_type": "code",
   "execution_count": 15,
   "metadata": {},
   "outputs": [],
   "source": [
    "# remove numero, espaços para ficar de acordo com o arquivo de aberturas\n",
    "def trataPGN(pgn):\n",
    "\n",
    "    txt = '\\S+\\.{3}'\n",
    "    a = re.sub(txt, \"\", pgn)\n",
    "    a\n",
    "\n",
    "    txt = '\\ {2,3}'\n",
    "    a = re.sub(txt, \" \", a)\n",
    "    a\n",
    "            \n",
    "    return(a) "
   ]
  },
  {
   "cell_type": "code",
   "execution_count": 71,
   "metadata": {},
   "outputs": [],
   "source": [
    "filename = 'games_db_65_74.csv'\n",
    "filepath = '../data/raw/chessdotcom' + filename\n",
    "players = pd.read_csv(filepath)"
   ]
  },
  {
   "cell_type": "code",
   "execution_count": 72,
   "metadata": {},
   "outputs": [
    {
     "data": {
      "text/html": [
       "<div>\n",
       "<style scoped>\n",
       "    .dataframe tbody tr th:only-of-type {\n",
       "        vertical-align: middle;\n",
       "    }\n",
       "\n",
       "    .dataframe tbody tr th {\n",
       "        vertical-align: top;\n",
       "    }\n",
       "\n",
       "    .dataframe thead th {\n",
       "        text-align: right;\n",
       "    }\n",
       "</style>\n",
       "<table border=\"1\" class=\"dataframe\">\n",
       "  <thead>\n",
       "    <tr style=\"text-align: right;\">\n",
       "      <th></th>\n",
       "      <th>id</th>\n",
       "      <th>ranked</th>\n",
       "      <th>time_control</th>\n",
       "      <th>status</th>\n",
       "      <th>winner</th>\n",
       "      <th>white</th>\n",
       "      <th>black</th>\n",
       "      <th>moves</th>\n",
       "    </tr>\n",
       "  </thead>\n",
       "  <tbody>\n",
       "    <tr>\n",
       "      <th>0</th>\n",
       "      <td>ff229d0a-6e2d-11e4-8226-00000001000b</td>\n",
       "      <td>True</td>\n",
       "      <td>daily</td>\n",
       "      <td>resigned</td>\n",
       "      <td>ambaixador</td>\n",
       "      <td>Fostovarzadeh</td>\n",
       "      <td>ambaixador</td>\n",
       "      <td>1. e4 c5 2. Nf3 e6 3. Nc3 Nc6 4. d4 cxd4 5. Nx...</td>\n",
       "    </tr>\n",
       "    <tr>\n",
       "      <th>1</th>\n",
       "      <td>9c0dca54-7478-11e4-82a8-00000001000b</td>\n",
       "      <td>True</td>\n",
       "      <td>daily</td>\n",
       "      <td>resigned</td>\n",
       "      <td>Fostovarzadeh</td>\n",
       "      <td>ambaixador</td>\n",
       "      <td>Fostovarzadeh</td>\n",
       "      <td>1. e4 e5 2. f4 exf4 3. Nf3 Be7 4. Bc4 Nf6 5. N...</td>\n",
       "    </tr>\n",
       "    <tr>\n",
       "      <th>2</th>\n",
       "      <td>6487b282-829e-11e4-8018-00000001000b</td>\n",
       "      <td>True</td>\n",
       "      <td>daily</td>\n",
       "      <td>resigned</td>\n",
       "      <td>ambaixador</td>\n",
       "      <td>Fostovarzadeh</td>\n",
       "      <td>ambaixador</td>\n",
       "      <td>1. e4 c5 2. Nf3 d6 3. Nc3 Nf6 4. d4 cxd4 5. Nx...</td>\n",
       "    </tr>\n",
       "    <tr>\n",
       "      <th>3</th>\n",
       "      <td>be6a36bc-b787-11e4-826e-00000001000b</td>\n",
       "      <td>True</td>\n",
       "      <td>daily</td>\n",
       "      <td>timeout</td>\n",
       "      <td>Fostovarzadeh</td>\n",
       "      <td>ambaixador</td>\n",
       "      <td>Fostovarzadeh</td>\n",
       "      <td>1. e4 e5 2. Nf3 Nc6 3. Bc4 Nf6 4. d3 Bc5 5. c3...</td>\n",
       "    </tr>\n",
       "    <tr>\n",
       "      <th>4</th>\n",
       "      <td>62af6334-c7c6-11e4-8058-00000001000b</td>\n",
       "      <td>True</td>\n",
       "      <td>daily</td>\n",
       "      <td>resigned</td>\n",
       "      <td>ambaixador</td>\n",
       "      <td>Fostovarzadeh</td>\n",
       "      <td>ambaixador</td>\n",
       "      <td>1. e4 e5 2. Nf3 Nc6 3. Bb5 a6 4. Bxc6 dxc6 5. ...</td>\n",
       "    </tr>\n",
       "  </tbody>\n",
       "</table>\n",
       "</div>"
      ],
      "text/plain": [
       "                                     id  ranked time_control    status  \\\n",
       "0  ff229d0a-6e2d-11e4-8226-00000001000b    True        daily  resigned   \n",
       "1  9c0dca54-7478-11e4-82a8-00000001000b    True        daily  resigned   \n",
       "2  6487b282-829e-11e4-8018-00000001000b    True        daily  resigned   \n",
       "3  be6a36bc-b787-11e4-826e-00000001000b    True        daily   timeout   \n",
       "4  62af6334-c7c6-11e4-8058-00000001000b    True        daily  resigned   \n",
       "\n",
       "          winner          white          black  \\\n",
       "0     ambaixador  Fostovarzadeh     ambaixador   \n",
       "1  Fostovarzadeh     ambaixador  Fostovarzadeh   \n",
       "2     ambaixador  Fostovarzadeh     ambaixador   \n",
       "3  Fostovarzadeh     ambaixador  Fostovarzadeh   \n",
       "4     ambaixador  Fostovarzadeh     ambaixador   \n",
       "\n",
       "                                               moves  \n",
       "0  1. e4 c5 2. Nf3 e6 3. Nc3 Nc6 4. d4 cxd4 5. Nx...  \n",
       "1  1. e4 e5 2. f4 exf4 3. Nf3 Be7 4. Bc4 Nf6 5. N...  \n",
       "2  1. e4 c5 2. Nf3 d6 3. Nc3 Nf6 4. d4 cxd4 5. Nx...  \n",
       "3  1. e4 e5 2. Nf3 Nc6 3. Bc4 Nf6 4. d3 Bc5 5. c3...  \n",
       "4  1. e4 e5 2. Nf3 Nc6 3. Bb5 a6 4. Bxc6 dxc6 5. ...  "
      ]
     },
     "execution_count": 72,
     "metadata": {},
     "output_type": "execute_result"
    }
   ],
   "source": [
    "players['moves'] = players['moves'].apply(trataPGN)\n",
    "\n",
    "players.head()"
   ]
  },
  {
   "cell_type": "code",
   "execution_count": 73,
   "metadata": {},
   "outputs": [
    {
     "data": {
      "text/plain": [
       "'1. e4 c5 2. Nf3 e6 3. Nc3 Nc6 4. d4 cxd4 5. Nxd4 a6 6. Be2 Qc7 7. O-O Nf6 8. Nxc6 bxc6 9. Be3 Be7 10. Qd2 O-O 11. f4 d5 12. e5 Nd7 13. Qd3 c5 14. Rad1 d4 15. Bxd4 cxd4 16. Qxd4 0-1'"
      ]
     },
     "execution_count": 73,
     "metadata": {},
     "output_type": "execute_result"
    }
   ],
   "source": [
    "players['moves'][0]"
   ]
  },
  {
   "cell_type": "code",
   "execution_count": 74,
   "metadata": {},
   "outputs": [],
   "source": [
    "players.to_csv('../data/chessdotcom/games/'+filename,index = False)"
   ]
  }
 ],
 "metadata": {
  "interpreter": {
   "hash": "a00de7097f625a3059332afd72acb8e9b2cb3f21f921c12b0c9a37fa2a2945a1"
  },
  "kernelspec": {
   "display_name": "Python 3.8.8 64-bit ('base': conda)",
   "language": "python",
   "name": "python3"
  },
  "language_info": {
   "codemirror_mode": {
    "name": "ipython",
    "version": 3
   },
   "file_extension": ".py",
   "mimetype": "text/x-python",
   "name": "python",
   "nbconvert_exporter": "python",
   "pygments_lexer": "ipython3",
   "version": "3.8.8"
  },
  "orig_nbformat": 4
 },
 "nbformat": 4,
 "nbformat_minor": 2
}
