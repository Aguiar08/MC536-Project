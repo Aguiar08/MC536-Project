{
 "cells": [
  {
   "cell_type": "code",
   "execution_count": 1,
   "metadata": {},
   "outputs": [
    {
     "name": "stdout",
     "output_type": "stream",
     "text": [
      "Requirement already satisfied: berserk-downstream in c:\\users\\asus\\anaconda3\\lib\\site-packages (0.11.6)\n",
      "Requirement already satisfied: deprecated~=1.2.7 in c:\\users\\asus\\anaconda3\\lib\\site-packages (from berserk-downstream) (1.2.13)\n",
      "Requirement already satisfied: ndjson~=0.2 in c:\\users\\asus\\anaconda3\\lib\\site-packages (from berserk-downstream) (0.3.1)\n",
      "Requirement already satisfied: requests~=2.20 in c:\\users\\asus\\anaconda3\\lib\\site-packages (from berserk-downstream) (2.26.0)\n",
      "Requirement already satisfied: wrapt<2,>=1.10 in c:\\users\\asus\\anaconda3\\lib\\site-packages (from deprecated~=1.2.7->berserk-downstream) (1.12.1)\n",
      "Requirement already satisfied: certifi>=2017.4.17 in c:\\users\\asus\\anaconda3\\lib\\site-packages (from requests~=2.20->berserk-downstream) (2020.6.20)\n",
      "Requirement already satisfied: charset-normalizer~=2.0.0; python_version >= \"3\" in c:\\users\\asus\\anaconda3\\lib\\site-packages (from requests~=2.20->berserk-downstream) (2.0.6)\n",
      "Requirement already satisfied: idna<4,>=2.5; python_version >= \"3\" in c:\\users\\asus\\anaconda3\\lib\\site-packages (from requests~=2.20->berserk-downstream) (2.10)\n",
      "Requirement already satisfied: urllib3<1.27,>=1.21.1 in c:\\users\\asus\\anaconda3\\lib\\site-packages (from requests~=2.20->berserk-downstream) (1.26.7)\n"
     ]
    }
   ],
   "source": [
    "!pip install berserk-downstream"
   ]
  },
  {
   "cell_type": "code",
   "execution_count": 2,
   "metadata": {},
   "outputs": [
    {
     "name": "stdout",
     "output_type": "stream",
     "text": [
      "Requirement already satisfied: firebase_admin in c:\\users\\asus\\anaconda3\\lib\\site-packages (5.0.3)\n",
      "Requirement already satisfied: cachecontrol>=0.12.6 in c:\\users\\asus\\anaconda3\\lib\\site-packages (from firebase_admin) (0.12.9)\n",
      "Requirement already satisfied: google-cloud-storage>=1.37.1 in c:\\users\\asus\\anaconda3\\lib\\site-packages (from firebase_admin) (1.42.3)\n",
      "Requirement already satisfied: google-cloud-firestore>=2.1.0; platform_python_implementation != \"PyPy\" in c:\\users\\asus\\anaconda3\\lib\\site-packages (from firebase_admin) (2.3.4)\n",
      "Requirement already satisfied: google-api-python-client>=1.7.8 in c:\\users\\asus\\anaconda3\\lib\\site-packages (from firebase_admin) (2.29.0)\n",
      "Requirement already satisfied: google-api-core[grpc]<3.0.0dev,>=1.22.1; platform_python_implementation != \"PyPy\" in c:\\users\\asus\\anaconda3\\lib\\site-packages (from firebase_admin) (2.2.2)\n",
      "Requirement already satisfied: msgpack>=0.5.2 in c:\\users\\asus\\anaconda3\\lib\\site-packages (from cachecontrol>=0.12.6->firebase_admin) (1.0.0)\n",
      "Requirement already satisfied: requests in c:\\users\\asus\\anaconda3\\lib\\site-packages (from cachecontrol>=0.12.6->firebase_admin) (2.26.0)\n",
      "Requirement already satisfied: google-cloud-core<3.0dev,>=1.6.0; python_version >= \"3.6\" in c:\\users\\asus\\anaconda3\\lib\\site-packages (from google-cloud-storage>=1.37.1->firebase_admin) (2.1.0)\n",
      "Requirement already satisfied: google-resumable-media<3.0dev,>=1.3.0; python_version >= \"3.6\" in c:\\users\\asus\\anaconda3\\lib\\site-packages (from google-cloud-storage>=1.37.1->firebase_admin) (2.1.0)\n",
      "Requirement already satisfied: google-auth<3.0dev,>=1.25.0; python_version >= \"3.6\" in c:\\users\\asus\\anaconda3\\lib\\site-packages (from google-cloud-storage>=1.37.1->firebase_admin) (1.35.0)\n",
      "Requirement already satisfied: six in c:\\users\\asus\\anaconda3\\lib\\site-packages (from google-cloud-storage>=1.37.1->firebase_admin) (1.15.0)\n",
      "Requirement already satisfied: protobuf; python_version >= \"3.6\" in c:\\users\\asus\\anaconda3\\lib\\site-packages (from google-cloud-storage>=1.37.1->firebase_admin) (3.18.1)\n",
      "Requirement already satisfied: packaging>=14.3 in c:\\users\\asus\\anaconda3\\lib\\site-packages (from google-cloud-firestore>=2.1.0; platform_python_implementation != \"PyPy\"->firebase_admin) (20.4)\n",
      "Requirement already satisfied: proto-plus>=1.10.0 in c:\\users\\asus\\anaconda3\\lib\\site-packages (from google-cloud-firestore>=2.1.0; platform_python_implementation != \"PyPy\"->firebase_admin) (1.19.7)\n",
      "Requirement already satisfied: uritemplate<5,>=3.0.0 in c:\\users\\asus\\anaconda3\\lib\\site-packages (from google-api-python-client>=1.7.8->firebase_admin) (4.1.1)\n",
      "Requirement already satisfied: httplib2<1dev,>=0.15.0 in c:\\users\\asus\\anaconda3\\lib\\site-packages (from google-api-python-client>=1.7.8->firebase_admin) (0.20.2)\n",
      "Requirement already satisfied: google-auth-httplib2>=0.1.0 in c:\\users\\asus\\anaconda3\\lib\\site-packages (from google-api-python-client>=1.7.8->firebase_admin) (0.1.0)\n",
      "Requirement already satisfied: googleapis-common-protos<2.0dev,>=1.52.0 in c:\\users\\asus\\anaconda3\\lib\\site-packages (from google-api-core[grpc]<3.0.0dev,>=1.22.1; platform_python_implementation != \"PyPy\"->firebase_admin) (1.53.0)\n",
      "Requirement already satisfied: setuptools>=40.3.0 in c:\\users\\asus\\anaconda3\\lib\\site-packages (from google-api-core[grpc]<3.0.0dev,>=1.22.1; platform_python_implementation != \"PyPy\"->firebase_admin) (50.3.1.post20201107)\n",
      "Requirement already satisfied: grpcio-status<2.0dev,>=1.33.2; extra == \"grpc\" in c:\\users\\asus\\anaconda3\\lib\\site-packages (from google-api-core[grpc]<3.0.0dev,>=1.22.1; platform_python_implementation != \"PyPy\"->firebase_admin) (1.41.1)\n",
      "Requirement already satisfied: grpcio<2.0dev,>=1.33.2; extra == \"grpc\" in c:\\users\\asus\\anaconda3\\lib\\site-packages (from google-api-core[grpc]<3.0.0dev,>=1.22.1; platform_python_implementation != \"PyPy\"->firebase_admin) (1.41.0)\n",
      "Requirement already satisfied: idna<4,>=2.5; python_version >= \"3\" in c:\\users\\asus\\anaconda3\\lib\\site-packages (from requests->cachecontrol>=0.12.6->firebase_admin) (2.10)\n",
      "Requirement already satisfied: urllib3<1.27,>=1.21.1 in c:\\users\\asus\\anaconda3\\lib\\site-packages (from requests->cachecontrol>=0.12.6->firebase_admin) (1.26.7)\n",
      "Requirement already satisfied: certifi>=2017.4.17 in c:\\users\\asus\\anaconda3\\lib\\site-packages (from requests->cachecontrol>=0.12.6->firebase_admin) (2020.6.20)\n",
      "Requirement already satisfied: charset-normalizer~=2.0.0; python_version >= \"3\" in c:\\users\\asus\\anaconda3\\lib\\site-packages (from requests->cachecontrol>=0.12.6->firebase_admin) (2.0.6)\n",
      "Requirement already satisfied: google-crc32c<2.0dev,>=1.0 in c:\\users\\asus\\anaconda3\\lib\\site-packages (from google-resumable-media<3.0dev,>=1.3.0; python_version >= \"3.6\"->google-cloud-storage>=1.37.1->firebase_admin) (1.3.0)\n",
      "Requirement already satisfied: cachetools<5.0,>=2.0.0 in c:\\users\\asus\\anaconda3\\lib\\site-packages (from google-auth<3.0dev,>=1.25.0; python_version >= \"3.6\"->google-cloud-storage>=1.37.1->firebase_admin) (4.2.4)\n",
      "Requirement already satisfied: rsa<5,>=3.1.4; python_version >= \"3.6\" in c:\\users\\asus\\anaconda3\\lib\\site-packages (from google-auth<3.0dev,>=1.25.0; python_version >= \"3.6\"->google-cloud-storage>=1.37.1->firebase_admin) (4.7.2)\n",
      "Requirement already satisfied: pyasn1-modules>=0.2.1 in c:\\users\\asus\\anaconda3\\lib\\site-packages (from google-auth<3.0dev,>=1.25.0; python_version >= \"3.6\"->google-cloud-storage>=1.37.1->firebase_admin) (0.2.8)\n",
      "Requirement already satisfied: pyparsing>=2.0.2 in c:\\users\\asus\\anaconda3\\lib\\site-packages (from packaging>=14.3->google-cloud-firestore>=2.1.0; platform_python_implementation != \"PyPy\"->firebase_admin) (2.4.7)\n",
      "Requirement already satisfied: pyasn1>=0.1.3 in c:\\users\\asus\\anaconda3\\lib\\site-packages (from rsa<5,>=3.1.4; python_version >= \"3.6\"->google-auth<3.0dev,>=1.25.0; python_version >= \"3.6\"->google-cloud-storage>=1.37.1->firebase_admin) (0.4.8)\n"
     ]
    }
   ],
   "source": [
    "!pip install firebase_admin"
   ]
  },
  {
   "cell_type": "code",
   "execution_count": 2,
   "metadata": {},
   "outputs": [],
   "source": [
    "import numpy as np\n",
    "import pandas as pd\n",
    "import matplotlib.pyplot as plt\n",
    "import seaborn as sns\n",
    "import urllib\n",
    "import requests\n",
    "import json\n",
    "%matplotlib inline\n",
    "plt.style.use('ggplot')\n",
    "sns.set_style('darkgrid')"
   ]
  },
  {
   "cell_type": "code",
   "execution_count": 5,
   "metadata": {},
   "outputs": [],
   "source": [
    "url = \"https://lichess.org/blog/X0I7phAAACQAMCfH/titled-arena-announcements\"\n",
    "table_MN = pd.read_html(url)"
   ]
  },
  {
   "cell_type": "code",
   "execution_count": 9,
   "metadata": {},
   "outputs": [
    {
     "data": {
      "text/html": [
       "<div>\n",
       "<style scoped>\n",
       "    .dataframe tbody tr th:only-of-type {\n",
       "        vertical-align: middle;\n",
       "    }\n",
       "\n",
       "    .dataframe tbody tr th {\n",
       "        vertical-align: top;\n",
       "    }\n",
       "\n",
       "    .dataframe thead th {\n",
       "        text-align: right;\n",
       "    }\n",
       "</style>\n",
       "<table border=\"1\" class=\"dataframe\">\n",
       "  <thead>\n",
       "    <tr style=\"text-align: right;\">\n",
       "      <th></th>\n",
       "      <th>Event</th>\n",
       "      <th>Date</th>\n",
       "      <th>Link</th>\n",
       "      <th>Warm-up</th>\n",
       "    </tr>\n",
       "  </thead>\n",
       "  <tbody>\n",
       "    <tr>\n",
       "      <th>0</th>\n",
       "      <td>Sep '20 Blitz TA</td>\n",
       "      <td>5th Sep 2020</td>\n",
       "      <td>&lt;a href=\"https://lichess.org/tournament/sep20b...</td>\n",
       "      <td>&lt;a href=\"https://lichess.org/tournament/sep20b...</td>\n",
       "    </tr>\n",
       "    <tr>\n",
       "      <th>1</th>\n",
       "      <td>Sep '20 TA</td>\n",
       "      <td>26th Sep 2020</td>\n",
       "      <td>&lt;a href=\"https://lichess.org/tournament/sep20l...</td>\n",
       "      <td>&lt;a href=\"https://lichess.org/tournament/sep20w...</td>\n",
       "    </tr>\n",
       "    <tr>\n",
       "      <th>2</th>\n",
       "      <td>October '20 960 TA</td>\n",
       "      <td>10th Oct 2020</td>\n",
       "      <td>&lt;a href=\"https://lichess.org/tournament/960oct...</td>\n",
       "      <td>&lt;a href=\"https://lichess.org/tournament/96woct...</td>\n",
       "    </tr>\n",
       "    <tr>\n",
       "      <th>3</th>\n",
       "      <td>October '20 TA</td>\n",
       "      <td>24th Oct 2020</td>\n",
       "      <td>&lt;a href=\"https://lichess.org/tournament/oct20l...</td>\n",
       "      <td>&lt;a href=\"https://lichess.org/tournament/oct20w...</td>\n",
       "    </tr>\n",
       "    <tr>\n",
       "      <th>4</th>\n",
       "      <td>November '20 Blitz TA</td>\n",
       "      <td>7th Nov 2020</td>\n",
       "      <td>&lt;a href=\"https://lichess.org/tournament/nov20b...</td>\n",
       "      <td>&lt;a href=\"https://lichess.org/tournament/nov20b...</td>\n",
       "    </tr>\n",
       "    <tr>\n",
       "      <th>5</th>\n",
       "      <td>November '20 TA</td>\n",
       "      <td>21st Nov 2020</td>\n",
       "      <td>&lt;a href=\"https://lichess.org/tournament/nov20l...</td>\n",
       "      <td>&lt;a href=\"https://lichess.org/tournament/nov20w...</td>\n",
       "    </tr>\n",
       "    <tr>\n",
       "      <th>6</th>\n",
       "      <td>December '20 Blitz TA</td>\n",
       "      <td>5th Dec 2020</td>\n",
       "      <td>&lt;a href=\"https://lichess.org/tournament/dec20b...</td>\n",
       "      <td>&lt;a href=\"https://lichess.org/tournament/dec20b...</td>\n",
       "    </tr>\n",
       "    <tr>\n",
       "      <th>7</th>\n",
       "      <td>December '20 TA</td>\n",
       "      <td>19th Dec 2020</td>\n",
       "      <td>&lt;a href=\"https://lichess.org/tournament/dec20l...</td>\n",
       "      <td>&lt;a href=\"https://lichess.org/tournament/dec20w...</td>\n",
       "    </tr>\n",
       "  </tbody>\n",
       "</table>\n",
       "</div>"
      ],
      "text/plain": [
       "                   Event           Date  \\\n",
       "0       Sep '20 Blitz TA   5th Sep 2020   \n",
       "1             Sep '20 TA  26th Sep 2020   \n",
       "2     October '20 960 TA  10th Oct 2020   \n",
       "3         October '20 TA  24th Oct 2020   \n",
       "4  November '20 Blitz TA   7th Nov 2020   \n",
       "5        November '20 TA  21st Nov 2020   \n",
       "6  December '20 Blitz TA   5th Dec 2020   \n",
       "7        December '20 TA  19th Dec 2020   \n",
       "\n",
       "                                                Link  \\\n",
       "0  <a href=\"https://lichess.org/tournament/sep20b...   \n",
       "1  <a href=\"https://lichess.org/tournament/sep20l...   \n",
       "2  <a href=\"https://lichess.org/tournament/960oct...   \n",
       "3  <a href=\"https://lichess.org/tournament/oct20l...   \n",
       "4  <a href=\"https://lichess.org/tournament/nov20b...   \n",
       "5  <a href=\"https://lichess.org/tournament/nov20l...   \n",
       "6  <a href=\"https://lichess.org/tournament/dec20b...   \n",
       "7  <a href=\"https://lichess.org/tournament/dec20l...   \n",
       "\n",
       "                                             Warm-up  \n",
       "0  <a href=\"https://lichess.org/tournament/sep20b...  \n",
       "1  <a href=\"https://lichess.org/tournament/sep20w...  \n",
       "2  <a href=\"https://lichess.org/tournament/96woct...  \n",
       "3  <a href=\"https://lichess.org/tournament/oct20w...  \n",
       "4  <a href=\"https://lichess.org/tournament/nov20b...  \n",
       "5  <a href=\"https://lichess.org/tournament/nov20w...  \n",
       "6  <a href=\"https://lichess.org/tournament/dec20b...  \n",
       "7  <a href=\"https://lichess.org/tournament/dec20w...  "
      ]
     },
     "execution_count": 9,
     "metadata": {},
     "output_type": "execute_result"
    }
   ],
   "source": [
    "titled_tornaments = table_MN[0]\n",
    "titled_tornaments.head(10)"
   ]
  },
  {
   "cell_type": "code",
   "execution_count": 2,
   "metadata": {},
   "outputs": [],
   "source": [
    "titles = {\n",
    "    \"GM\": \"Grandmaster\",\n",
    "    \"WGM\": \"Woman Grandmaster\",\n",
    "    \"IM\" : \"International Master\",\n",
    "    \"WIM\" : \"Woman International Master\",\n",
    "    \"FM\" : \"FIDE Master\",\n",
    "    \"WFM\" : \"Woman FIDE Master\",\n",
    "    \"NM\" : \"National Master\",\n",
    "    \"CM\" : \"Candidate Master (FIDE)\",\n",
    "    \"WCM\" : \"Woman Candidate Master (FIDE)\",\n",
    "    \"WNM\" : \"Woman National Master\"\n",
    "}"
   ]
  },
  {
   "cell_type": "code",
   "execution_count": 7,
   "metadata": {},
   "outputs": [],
   "source": [
    "import berserk\n",
    "\n",
    "session = berserk.TokenSession('INSERT_KEY')\n",
    "client = berserk.Client(session=session)"
   ]
  },
  {
   "cell_type": "code",
   "execution_count": 59,
   "metadata": {},
   "outputs": [],
   "source": [
    "#tour_results = client.tournaments.stream_results('apr21lta')\n",
    "#tour_json = list(tour_results)\n",
    "#tour_json"
   ]
  },
  {
   "cell_type": "code",
   "execution_count": 97,
   "metadata": {},
   "outputs": [],
   "source": [
    "#player_names = []\n",
    "#player_titles = []\n",
    "#player_ratings = []\n",
    "#for i in tour_json:\n",
    "#    if 'title' in i:\n",
    "#        player_names.append(i['username'])    \n",
    "#        player_titles.append(i['title'])\n",
    "#        player_ratings.append(i['rating'])"
   ]
  },
  {
   "cell_type": "code",
   "execution_count": 131,
   "metadata": {},
   "outputs": [],
   "source": [
    "#players.to_csv('player_list.csv',index = False)"
   ]
  },
  {
   "cell_type": "code",
   "execution_count": 10,
   "metadata": {},
   "outputs": [],
   "source": [
    "#No caso de começar daqui, ler o .csv dos players\n",
    "players = pd.read_csv('player_list.csv')"
   ]
  },
  {
   "cell_type": "code",
   "execution_count": 11,
   "metadata": {},
   "outputs": [
    {
     "data": {
      "text/plain": [
       "<AxesSubplot:xlabel='title', ylabel='count'>"
      ]
     },
     "execution_count": 11,
     "metadata": {},
     "output_type": "execute_result"
    },
    {
     "data": {
      "image/png": "[encoded data removed]",
      "text/plain": [
       "<Figure size 504x288 with 1 Axes>"
      ]
     },
     "metadata": {},
     "output_type": "display_data"
    }
   ],
   "source": [
    "plt.figure(figsize=(7,4))\n",
    "sns.countplot(x = 'title', data = players, order = players['title'].value_counts().index)\n",
    "#players['title'].value_counts().plot(kind='pie',figsize=(6,6))"
   ]
  },
  {
   "cell_type": "code",
   "execution_count": 35,
   "metadata": {},
   "outputs": [],
   "source": [
    "games_db = pd.read_csv('empty_games.csv')"
   ]
  },
  {
   "cell_type": "code",
   "execution_count": 36,
   "metadata": {},
   "outputs": [
    {
     "data": {
      "text/html": [
       "<div>\n",
       "<style scoped>\n",
       "    .dataframe tbody tr th:only-of-type {\n",
       "        vertical-align: middle;\n",
       "    }\n",
       "\n",
       "    .dataframe tbody tr th {\n",
       "        vertical-align: top;\n",
       "    }\n",
       "\n",
       "    .dataframe thead th {\n",
       "        text-align: right;\n",
       "    }\n",
       "</style>\n",
       "<table border=\"1\" class=\"dataframe\">\n",
       "  <thead>\n",
       "    <tr style=\"text-align: right;\">\n",
       "      <th></th>\n",
       "      <th>id</th>\n",
       "      <th>ranked</th>\n",
       "      <th>time_control</th>\n",
       "      <th>status</th>\n",
       "      <th>winner</th>\n",
       "      <th>white</th>\n",
       "      <th>black</th>\n",
       "      <th>moves</th>\n",
       "    </tr>\n",
       "  </thead>\n",
       "  <tbody>\n",
       "  </tbody>\n",
       "</table>\n",
       "</div>"
      ],
      "text/plain": [
       "Empty DataFrame\n",
       "Columns: [id, ranked, time_control, status, winner, white, black, moves]\n",
       "Index: []"
      ]
     },
     "execution_count": 36,
     "metadata": {},
     "output_type": "execute_result"
    }
   ],
   "source": [
    "games_db.head()"
   ]
  },
  {
   "cell_type": "code",
   "execution_count": 37,
   "metadata": {},
   "outputs": [],
   "source": [
    "for j in players[27:30]['username']:\n",
    "    currgames = list(client.games.export_by_player(j))\n",
    "    for i in currgames:\n",
    "        try:\n",
    "            if 'winner' in i:\n",
    "                temp = {\n",
    "                    'id':i['id'],\n",
    "                    'ranked':i['rated'],\n",
    "                    'time_control': i['speed'],\n",
    "                    'status': i['status'],\n",
    "                    'winner': i['winner'],\n",
    "                    'white': (i['players']['white']['user']['name']),\n",
    "                    'black': (i['players']['black']['user']['name']),\n",
    "                    'moves': i['moves']\n",
    "                }\n",
    "            else:\n",
    "                temp = {\n",
    "                    'id':i['id'],\n",
    "                    'ranked':i['rated'],\n",
    "                    'time_control': i['speed'],\n",
    "                    'status': i['status'],\n",
    "                    'winner': i['status'],\n",
    "                    'white': (i['players']['white']['user']['name']),\n",
    "                    'black': (i['players']['black']['user']['name']),\n",
    "                    'moves': i['moves']\n",
    "                }\n",
    "            games_db = games_db.append(temp,ignore_index=True)\n",
    "        except:\n",
    "            temp = 0"
   ]
  },
  {
   "cell_type": "code",
   "execution_count": 15,
   "metadata": {},
   "outputs": [],
   "source": [
    "#concatena diferentes arquivos csvs para formar a database final\n",
    "#games_db.drop_duplicates(subset=['id'],inplace=True)\n",
    "#games_db1 = pd.read_csv('games_db_0_8.csv')\n",
    "#games_db2 = pd.read_csv('games_db_9_12.csv')\n",
    "#games_db_real = pd.concat([games_db1,games_db2])\n",
    "#remove as duplicatas do dataframe final\n",
    "#games_db_real.drop_duplicates(subset=['id'],inplace=True)"
   ]
  },
  {
   "cell_type": "code",
   "execution_count": 38,
   "metadata": {},
   "outputs": [],
   "source": [
    "games_db.to_csv('games_db_27_30.csv',index = False)"
   ]
  }
 ],
 "metadata": {
  "interpreter": {
   "hash": "380030d1298d5a27518acca789ff38fe82bbf2e68b73263de6a6bf23efb7704c"
  },
  "kernelspec": {
   "display_name": "Python 3",
   "language": "python",
   "name": "python3"
  },
  "language_info": {
   "codemirror_mode": {
    "name": "ipython",
    "version": 3
   },
   "file_extension": ".py",
   "mimetype": "text/x-python",
   "name": "python",
   "nbconvert_exporter": "python",
   "pygments_lexer": "ipython3",
   "version": "3.8.5"
  },
  "toc": {
   "base_numbering": 1,
   "nav_menu": {},
   "number_sections": false,
   "sideBar": false,
   "skip_h1_title": false,
   "title_cell": "Table of Contents",
   "title_sidebar": "Contents",
   "toc_cell": false,
   "toc_position": {},
   "toc_section_display": false,
   "toc_window_display": false
  }
 },
 "nbformat": 4,
 "nbformat_minor": 4
}
