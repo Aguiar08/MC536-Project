{
 "cells": [
  {
   "cell_type": "code",
   "execution_count": 1,
   "metadata": {},
   "outputs": [],
   "source": [
    "import numpy as np\n",
    "import pandas as pd\n",
    "%matplotlib inline"
   ]
  },
  {
   "cell_type": "code",
   "execution_count": 92,
   "metadata": {},
   "outputs": [],
   "source": [
    "games = pd.read_csv('./games/all_games.csv')"
   ]
  },
  {
   "cell_type": "code",
   "execution_count": 107,
   "metadata": {},
   "outputs": [],
   "source": [
    "def sintaxer(gamelist):\n",
    "    if type(gamelist) == float:\n",
    "        return gamelist\n",
    "    gamelistsplit = gamelist.split()\n",
    "    i = 0\n",
    "    k = 0\n",
    "    while ( i < len(gamelistsplit)):     \n",
    "        aux = '.'\n",
    "        k = k + 1   \n",
    "        j = str(k) + aux\n",
    "        gamelistsplit = gamelistsplit[:i] + [j] + gamelistsplit[i:]    \n",
    "        i = i + 3\n",
    "    gamelistsplit = ' '.join(gamelistsplit)\n",
    "    return gamelistsplit"
   ]
  },
  {
   "cell_type": "code",
   "execution_count": 109,
   "metadata": {},
   "outputs": [],
   "source": [
    "games['moves'].apply(sintaxer)"
   ]
  }
 ],
 "metadata": {
  "interpreter": {
   "hash": "987cbd703dfba44d9b85abc3dca62ccaba18865537b5bf4fce303cb64e6f6229"
  },
  "kernelspec": {
   "display_name": "Python 3.9.8 64-bit (windows store)",
   "language": "python",
   "name": "python3"
  },
  "language_info": {
   "codemirror_mode": {
    "name": "ipython",
    "version": 3
   },
   "file_extension": ".py",
   "mimetype": "text/x-python",
   "name": "python",
   "nbconvert_exporter": "python",
   "pygments_lexer": "ipython3",
   "version": "3.8.5"
  },
  "orig_nbformat": 4
 },
 "nbformat": 4,
 "nbformat_minor": 2
}
