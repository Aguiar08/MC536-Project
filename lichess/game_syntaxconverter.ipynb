{
 "cells": [
  {
   "cell_type": "code",
   "execution_count": 1,
   "metadata": {},
   "outputs": [],
   "source": [
    "import numpy as np\n",
    "import pandas as pd\n",
    "%matplotlib inline"
   ]
  },
  {
   "cell_type": "code",
   "execution_count": 19,
   "metadata": {},
   "outputs": [],
   "source": [
    "games = pd.read_csv('./games/all_games.csv')\n",
    "gameschesscom = pd.read_csv('../chesscom/games_db_1_3.csv')"
   ]
  },
  {
   "cell_type": "code",
   "execution_count": 4,
   "metadata": {},
   "outputs": [],
   "source": [
    "opening = pd.read_csv('../openings/openings.csv')"
   ]
  },
  {
   "cell_type": "code",
   "execution_count": 48,
   "metadata": {},
   "outputs": [
    {
     "data": {
      "text/html": [
       "<div>\n",
       "<style scoped>\n",
       "    .dataframe tbody tr th:only-of-type {\n",
       "        vertical-align: middle;\n",
       "    }\n",
       "\n",
       "    .dataframe tbody tr th {\n",
       "        vertical-align: top;\n",
       "    }\n",
       "\n",
       "    .dataframe thead th {\n",
       "        text-align: right;\n",
       "    }\n",
       "</style>\n",
       "<table border=\"1\" class=\"dataframe\">\n",
       "  <thead>\n",
       "    <tr style=\"text-align: right;\">\n",
       "      <th></th>\n",
       "      <th>id</th>\n",
       "      <th>ranked</th>\n",
       "      <th>time_control</th>\n",
       "      <th>status</th>\n",
       "      <th>winner</th>\n",
       "      <th>white</th>\n",
       "      <th>black</th>\n",
       "      <th>moves</th>\n",
       "    </tr>\n",
       "  </thead>\n",
       "  <tbody>\n",
       "    <tr>\n",
       "      <th>0</th>\n",
       "      <td>HpP16h6T</td>\n",
       "      <td>True</td>\n",
       "      <td>bullet</td>\n",
       "      <td>resign</td>\n",
       "      <td>white</td>\n",
       "      <td>DrGrekenstein</td>\n",
       "      <td>hitter1999</td>\n",
       "      <td>Nf3 Nf6 g3 g6 Bg2 Bg7 O-O O-O d4 d6 c4 Nbd7 Nc...</td>\n",
       "    </tr>\n",
       "    <tr>\n",
       "      <th>1</th>\n",
       "      <td>3GmaSy1u</td>\n",
       "      <td>True</td>\n",
       "      <td>bullet</td>\n",
       "      <td>mate</td>\n",
       "      <td>white</td>\n",
       "      <td>DrGrekenstein</td>\n",
       "      <td>C9C9C9C9C9</td>\n",
       "      <td>e4 e6 d4 d5 e5 Nd7 Nf3 c5 c3 Ne7 Bd3 Nc6 O-O Q...</td>\n",
       "    </tr>\n",
       "    <tr>\n",
       "      <th>2</th>\n",
       "      <td>TWbE2AMW</td>\n",
       "      <td>True</td>\n",
       "      <td>bullet</td>\n",
       "      <td>mate</td>\n",
       "      <td>black</td>\n",
       "      <td>toivok3</td>\n",
       "      <td>DrGrekenstein</td>\n",
       "      <td>d4 d5 c4 dxc4 Nf3 Nf6 e3 e6 Bxc4 a6 O-O c5 Be2...</td>\n",
       "    </tr>\n",
       "    <tr>\n",
       "      <th>3</th>\n",
       "      <td>3pEj9qmK</td>\n",
       "      <td>True</td>\n",
       "      <td>bullet</td>\n",
       "      <td>draw</td>\n",
       "      <td>draw</td>\n",
       "      <td>DrGrekenstein</td>\n",
       "      <td>alireza2003</td>\n",
       "      <td>Nf3 d5 g3 Nf6 Bg2 e6 O-O Be7 b3 O-O Bb2 c5 e3 ...</td>\n",
       "    </tr>\n",
       "    <tr>\n",
       "      <th>4</th>\n",
       "      <td>URJyg0hU</td>\n",
       "      <td>True</td>\n",
       "      <td>bullet</td>\n",
       "      <td>mate</td>\n",
       "      <td>white</td>\n",
       "      <td>drop_stone</td>\n",
       "      <td>DrGrekenstein</td>\n",
       "      <td>e4 c6 d4 d5 Nc3 dxe4 Nxe4 Nf6 Nxf6+ exf6 Bd3 B...</td>\n",
       "    </tr>\n",
       "    <tr>\n",
       "      <th>...</th>\n",
       "      <td>...</td>\n",
       "      <td>...</td>\n",
       "      <td>...</td>\n",
       "      <td>...</td>\n",
       "      <td>...</td>\n",
       "      <td>...</td>\n",
       "      <td>...</td>\n",
       "      <td>...</td>\n",
       "    </tr>\n",
       "    <tr>\n",
       "      <th>520846</th>\n",
       "      <td>PO2AaEFS</td>\n",
       "      <td>True</td>\n",
       "      <td>blitz</td>\n",
       "      <td>resign</td>\n",
       "      <td>white</td>\n",
       "      <td>sumsar42</td>\n",
       "      <td>rusdisidi</td>\n",
       "      <td>d4 d5 c4 c6 Nf3 Bf5 Nc3 e6 e3 Nf6 Nh4 Bg6 Bd2 ...</td>\n",
       "    </tr>\n",
       "    <tr>\n",
       "      <th>520847</th>\n",
       "      <td>9TD9vD5k</td>\n",
       "      <td>True</td>\n",
       "      <td>blitz</td>\n",
       "      <td>resign</td>\n",
       "      <td>black</td>\n",
       "      <td>EtoZhez</td>\n",
       "      <td>sumsar42</td>\n",
       "      <td>d4 Nf6 c4 e6 Nf3 Bb4+ Bd2 a5 Bxb4 axb4 e3 d6 B...</td>\n",
       "    </tr>\n",
       "    <tr>\n",
       "      <th>520848</th>\n",
       "      <td>LcHXwQ1L</td>\n",
       "      <td>True</td>\n",
       "      <td>blitz</td>\n",
       "      <td>mate</td>\n",
       "      <td>black</td>\n",
       "      <td>Siagas</td>\n",
       "      <td>sumsar42</td>\n",
       "      <td>d4 Nf6 Nf3 d5 c4 e6 Nc3 Bb4 Bg5 h6 Bh4 dxc4 e4...</td>\n",
       "    </tr>\n",
       "    <tr>\n",
       "      <th>520849</th>\n",
       "      <td>YaZ7rSXC</td>\n",
       "      <td>True</td>\n",
       "      <td>blitz</td>\n",
       "      <td>resign</td>\n",
       "      <td>black</td>\n",
       "      <td>Flere-Imsaho</td>\n",
       "      <td>sumsar42</td>\n",
       "      <td>d4 d5 Bf4 Nf6 e3 c5 c3 Nc6 Bd3 Bg4 Qc2 e6 Nf3 ...</td>\n",
       "    </tr>\n",
       "    <tr>\n",
       "      <th>520850</th>\n",
       "      <td>23RxPmLa</td>\n",
       "      <td>True</td>\n",
       "      <td>blitz</td>\n",
       "      <td>mate</td>\n",
       "      <td>white</td>\n",
       "      <td>sumsar42</td>\n",
       "      <td>larakaspa</td>\n",
       "      <td>d4 d5 c4 Nf6 cxd5 Nxd5 Nf3 e6 e4 Nf6 Nc3 Bb4 B...</td>\n",
       "    </tr>\n",
       "  </tbody>\n",
       "</table>\n",
       "<p>520851 rows × 8 columns</p>\n",
       "</div>"
      ],
      "text/plain": [
       "              id  ranked time_control  status winner          white  \\\n",
       "0       HpP16h6T    True       bullet  resign  white  DrGrekenstein   \n",
       "1       3GmaSy1u    True       bullet    mate  white  DrGrekenstein   \n",
       "2       TWbE2AMW    True       bullet    mate  black        toivok3   \n",
       "3       3pEj9qmK    True       bullet    draw   draw  DrGrekenstein   \n",
       "4       URJyg0hU    True       bullet    mate  white     drop_stone   \n",
       "...          ...     ...          ...     ...    ...            ...   \n",
       "520846  PO2AaEFS    True        blitz  resign  white       sumsar42   \n",
       "520847  9TD9vD5k    True        blitz  resign  black        EtoZhez   \n",
       "520848  LcHXwQ1L    True        blitz    mate  black         Siagas   \n",
       "520849  YaZ7rSXC    True        blitz  resign  black   Flere-Imsaho   \n",
       "520850  23RxPmLa    True        blitz    mate  white       sumsar42   \n",
       "\n",
       "                black                                              moves  \n",
       "0          hitter1999  Nf3 Nf6 g3 g6 Bg2 Bg7 O-O O-O d4 d6 c4 Nbd7 Nc...  \n",
       "1          C9C9C9C9C9  e4 e6 d4 d5 e5 Nd7 Nf3 c5 c3 Ne7 Bd3 Nc6 O-O Q...  \n",
       "2       DrGrekenstein  d4 d5 c4 dxc4 Nf3 Nf6 e3 e6 Bxc4 a6 O-O c5 Be2...  \n",
       "3         alireza2003  Nf3 d5 g3 Nf6 Bg2 e6 O-O Be7 b3 O-O Bb2 c5 e3 ...  \n",
       "4       DrGrekenstein  e4 c6 d4 d5 Nc3 dxe4 Nxe4 Nf6 Nxf6+ exf6 Bd3 B...  \n",
       "...               ...                                                ...  \n",
       "520846      rusdisidi  d4 d5 c4 c6 Nf3 Bf5 Nc3 e6 e3 Nf6 Nh4 Bg6 Bd2 ...  \n",
       "520847       sumsar42  d4 Nf6 c4 e6 Nf3 Bb4+ Bd2 a5 Bxb4 axb4 e3 d6 B...  \n",
       "520848       sumsar42  d4 Nf6 Nf3 d5 c4 e6 Nc3 Bb4 Bg5 h6 Bh4 dxc4 e4...  \n",
       "520849       sumsar42  d4 d5 Bf4 Nf6 e3 c5 c3 Nc6 Bd3 Bg4 Qc2 e6 Nf3 ...  \n",
       "520850      larakaspa  d4 d5 c4 Nf6 cxd5 Nxd5 Nf3 e6 e4 Nf6 Nc3 Bb4 B...  \n",
       "\n",
       "[520851 rows x 8 columns]"
      ]
     },
     "execution_count": 48,
     "metadata": {},
     "output_type": "execute_result"
    }
   ],
   "source": [
    "games"
   ]
  },
  {
   "cell_type": "code",
   "execution_count": 18,
   "metadata": {},
   "outputs": [
    {
     "data": {
      "text/plain": [
       "'Nf3 Nf6 g3 g6 Bg2 Bg7 O-O O-O d4 d6 c4 Nbd7 Nc3 e5 e4 exd4 Nxd4 Re8 h3 Nc5 Re1 a5 Bf4 a4 Qd2 a3 b4 Ne6 Be3 Nd7 f4 Nb6 Qd3 Nxd4 Bxd4 Bxd4+ Qxd4 Be6 Nd5 Bxd5 cxd5 Qd7 Rac1 Ra4 Kh2 Qb5 Rxc7 Rxb4 Qf6 Rf8 Rec1 Rb2 R7c2 h5 h4 Qb4 f5 Rxc2 Rxc2 Qb1 Rf2 Qa1 Qxa1'"
      ]
     },
     "execution_count": 18,
     "metadata": {},
     "output_type": "execute_result"
    }
   ],
   "source": [
    "move1 = games['moves'][0]\n",
    "move1"
   ]
  },
  {
   "cell_type": "code",
   "execution_count": 29,
   "metadata": {},
   "outputs": [
    {
     "data": {
      "text/plain": [
       "'1. d4  1... d5  2. c4  2... c6  3. cxd5  3... cxd5  4. Nf3  4... Nf6  5. Nc3  5... Nc6  6. Bf4  6... e6  7. e3  7... a6  8. Rc1  8... Bd6  9. Bd3  9... O-O  10. O-O  10... Nh5  11. Bxd6  11... Qxd6  12. a3  12... Nf6  13. Na4  13... b5  14. Nc5  14... e5  15. dxe5  15... Nxe5  16. Be2  16... Bg4  17. b4  17... a5  18. h3  18... Bxf3  19. Bxf3  19... Nxf3+  20. Qxf3  20... axb4  21. axb4  21... Ra2  22. Qd1  22... Rfa8  23. Qd4  23... h6  24. Rfd1  24... Re2  25. Ra1  25... Rxa1  26. Rxa1  26... Qe7  27. Qd3  27... Rb2  28. Ra8+  28... Ne8  29. Qxb5  29... Kf8  30. Nd7+  30... Kg8  31. Rxe8+  31... Qxe8  32. Nf6+  32... gxf6  33. Qxe8+  33... Kg7  34. b5  34... f5  35. Qc6  35... d4  36. exd4  36... f4  37. b6  37... f3  38. b7  38... fxg2  39. Qc7  39... Rb1+  40. Kxg2  40... Rb5  41. b8=Q  41... Rg5+  42. Kh2  1-0'"
      ]
     },
     "execution_count": 29,
     "metadata": {},
     "output_type": "execute_result"
    }
   ],
   "source": [
    "move2 = gameschesscom['moves'][0]\n",
    "move2"
   ]
  },
  {
   "cell_type": "code",
   "execution_count": 87,
   "metadata": {},
   "outputs": [
    {
     "name": "stdout",
     "output_type": "stream",
     "text": [
      "['Nf3', 'Nf6', 'g3', 'g6', 'Bg2', 'Bg7', 'O-O', 'O-O', 'd4', 'd6', 'c4', 'Nbd7', 'Nc3', 'e5', 'e4', 'exd4', 'Nxd4', 'Re8', 'h3', 'Nc5', 'Re1', 'a5', 'Bf4', 'a4', 'Qd2', 'a3', 'b4', 'Ne6', 'Be3', 'Nd7', 'f4', 'Nb6', 'Qd3', 'Nxd4', 'Bxd4', 'Bxd4+', 'Qxd4', 'Be6', 'Nd5', 'Bxd5', 'cxd5', 'Qd7', 'Rac1', 'Ra4', 'Kh2', 'Qb5', 'Rxc7', 'Rxb4', 'Qf6', 'Rf8', 'Rec1', 'Rb2', 'R7c2', 'h5', 'h4', 'Qb4', 'f5', 'Rxc2', 'Rxc2', 'Qb1', 'Rf2', 'Qa1', 'Qxa1']\n"
     ]
    }
   ],
   "source": [
    "move1split = move1.split()\n",
    "move2split = move2.split()\n",
    "print(move1split)"
   ]
  },
  {
   "cell_type": "code",
   "execution_count": 88,
   "metadata": {},
   "outputs": [],
   "source": [
    "def sintaxer(gamelist):\n",
    "    gamelistsplit = gamelist.split()\n",
    "    i = 0\n",
    "    state = True\n",
    "    k = 0\n",
    "    while ( i < len(gamelistsplit)):     \n",
    "        if (state):\n",
    "            aux = '.'\n",
    "            k = k + 1   \n",
    "        else:\n",
    "            aux = '...'\n",
    "        j = str(k) + aux\n",
    "        gamelistsplit = gamelistsplit[:i] + [j] + gamelistsplit[i:]    \n",
    "        if (state):\n",
    "            state = False\n",
    "        else:\n",
    "            state = True\n",
    "        i = i + 2 \n",
    "    gamelistsplit = ' '.join(gamelistsplit)\n",
    "    return gamelistsplit"
   ]
  },
  {
   "cell_type": "code",
   "execution_count": 86,
   "metadata": {},
   "outputs": [
    {
     "data": {
      "text/plain": [
       "'1. d4  1... d5  2. c4  2... c6  3. cxd5  3... cxd5  4. Nf3  4... Nf6  5. Nc3  5... Nc6  6. Bf4  6... e6  7. e3  7... a6  8. Rc1  8... Bd6  9. Bd3  9... O-O  10. O-O  10... Nh5  11. Bxd6  11... Qxd6  12. a3  12... Nf6  13. Na4  13... b5  14. Nc5  14... e5  15. dxe5  15... Nxe5  16. Be2  16... Bg4  17. b4  17... a5  18. h3  18... Bxf3  19. Bxf3  19... Nxf3+  20. Qxf3  20... axb4  21. axb4  21... Ra2  22. Qd1  22... Rfa8  23. Qd4  23... h6  24. Rfd1  24... Re2  25. Ra1  25... Rxa1  26. Rxa1  26... Qe7  27. Qd3  27... Rb2  28. Ra8+  28... Ne8  29. Qxb5  29... Kf8  30. Nd7+  30... Kg8  31. Rxe8+  31... Qxe8  32. Nf6+  32... gxf6  33. Qxe8+  33... Kg7  34. b5  34... f5  35. Qc6  35... d4  36. exd4  36... f4  37. b6  37... f3  38. b7  38... fxg2  39. Qc7  39... Rb1+  40. Kxg2  40... Rb5  41. b8=Q  41... Rg5+  42. Kh2  1-0'"
      ]
     },
     "execution_count": 86,
     "metadata": {},
     "output_type": "execute_result"
    }
   ],
   "source": [
    "i = 0\n",
    "state = True\n",
    "k = 0\n",
    "while ( i < len(move1split)):     \n",
    "    if (state):\n",
    "        aux = '.'\n",
    "        k = k + 1   \n",
    "    else:\n",
    "        aux = '...'\n",
    "    j = str(k) + aux\n",
    "    move1split = move1split[:i] + [j] + move1split[i:]    \n",
    "    if (state):\n",
    "        state = False\n",
    "    else:\n",
    "        state = True\n",
    "    i = i + 2 "
   ]
  },
  {
   "cell_type": "code",
   "execution_count": 89,
   "metadata": {},
   "outputs": [],
   "source": [
    "move1split = ' '.join(move1split)"
   ]
  },
  {
   "cell_type": "code",
   "execution_count": 90,
   "metadata": {},
   "outputs": [
    {
     "data": {
      "text/plain": [
       "'1. Nf3 1... Nf6 2. g3 2... g6 3. Bg2 3... Bg7 4. O-O 4... O-O 5. d4 5... d6 6. c4 6... Nbd7 7. Nc3 7... e5 8. e4 8... exd4 9. Nxd4 9... Re8 10. h3 10... Nc5 11. Re1 11... a5 12. Bf4 12... a4 13. Qd2 13... a3 14. b4 14... Ne6 15. Be3 15... Nd7 16. f4 16... Nb6 17. Qd3 17... Nxd4 18. Bxd4 18... Bxd4+ 19. Qxd4 19... Be6 20. Nd5 20... Bxd5 21. cxd5 21... Qd7 22. Rac1 22... Ra4 23. Kh2 23... Qb5 24. Rxc7 24... Rxb4 25. Qf6 25... Rf8 26. Rec1 26... Rb2 27. R7c2 27... h5 28. h4 28... Qb4 29. f5 29... Rxc2 30. Rxc2 30... Qb1 31. Rf2 31... Qa1 32. Qxa1'"
      ]
     },
     "execution_count": 90,
     "metadata": {},
     "output_type": "execute_result"
    }
   ],
   "source": [
    "move1split"
   ]
  }
 ],
 "metadata": {
  "interpreter": {
   "hash": "987cbd703dfba44d9b85abc3dca62ccaba18865537b5bf4fce303cb64e6f6229"
  },
  "kernelspec": {
   "display_name": "Python 3.9.8 64-bit (windows store)",
   "language": "python",
   "name": "python3"
  },
  "language_info": {
   "codemirror_mode": {
    "name": "ipython",
    "version": 3
   },
   "file_extension": ".py",
   "mimetype": "text/x-python",
   "name": "python",
   "nbconvert_exporter": "python",
   "pygments_lexer": "ipython3",
   "version": "3.8.5"
  },
  "orig_nbformat": 4
 },
 "nbformat": 4,
 "nbformat_minor": 2
}
